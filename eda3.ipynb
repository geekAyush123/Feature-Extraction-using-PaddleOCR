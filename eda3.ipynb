{
 "cells": [
  {
   "cell_type": "code",
   "execution_count": 488,
   "metadata": {},
   "outputs": [
    {
     "name": "stdout",
     "output_type": "stream",
     "text": [
      "(131175, 2)\n",
      "<class 'pandas.core.frame.DataFrame'>\n",
      "Index: 131175 entries, 0 to 26177\n",
      "Data columns (total 2 columns):\n",
      " #   Column          Non-Null Count   Dtype \n",
      "---  ------          --------------   ----- \n",
      " 0   index           131175 non-null  int64 \n",
      " 1   ans_entity_val  87941 non-null   object\n",
      "dtypes: int64(1), object(1)\n",
      "memory usage: 3.0+ MB\n",
      "None\n"
     ]
    },
    {
     "data": {
      "text/html": [
       "<div>\n",
       "<style scoped>\n",
       "    .dataframe tbody tr th:only-of-type {\n",
       "        vertical-align: middle;\n",
       "    }\n",
       "\n",
       "    .dataframe tbody tr th {\n",
       "        vertical-align: top;\n",
       "    }\n",
       "\n",
       "    .dataframe thead th {\n",
       "        text-align: right;\n",
       "    }\n",
       "</style>\n",
       "<table border=\"1\" class=\"dataframe\">\n",
       "  <thead>\n",
       "    <tr style=\"text-align: right;\">\n",
       "      <th></th>\n",
       "      <th>index</th>\n",
       "      <th>ans_entity_val</th>\n",
       "    </tr>\n",
       "  </thead>\n",
       "  <tbody>\n",
       "    <tr>\n",
       "      <th>0</th>\n",
       "      <td>0</td>\n",
       "      <td>78.0 inch</td>\n",
       "    </tr>\n",
       "    <tr>\n",
       "      <th>1</th>\n",
       "      <td>1</td>\n",
       "      <td>42.0 cm</td>\n",
       "    </tr>\n",
       "    <tr>\n",
       "      <th>2</th>\n",
       "      <td>2</td>\n",
       "      <td>200.0 cm</td>\n",
       "    </tr>\n",
       "    <tr>\n",
       "      <th>3</th>\n",
       "      <td>3</td>\n",
       "      <td>NaN</td>\n",
       "    </tr>\n",
       "    <tr>\n",
       "      <th>4</th>\n",
       "      <td>4</td>\n",
       "      <td>NaN</td>\n",
       "    </tr>\n",
       "  </tbody>\n",
       "</table>\n",
       "</div>"
      ],
      "text/plain": [
       "   index ans_entity_val\n",
       "0      0      78.0 inch\n",
       "1      1        42.0 cm\n",
       "2      2       200.0 cm\n",
       "3      3            NaN\n",
       "4      4            NaN"
      ]
     },
     "execution_count": 488,
     "metadata": {},
     "output_type": "execute_result"
    }
   ],
   "source": [
    "import pandas as pd\n",
    "import numpy as np\n",
    "\n",
    "df91= pd.read_csv(\"./final_test_output.csv\")\n",
    "df92= pd.read_csv(\"./final_test_output2.csv\")\n",
    "df93= pd.read_csv(\"./final_test_output3.csv\")\n",
    "df94= pd.read_csv(\"./final_test_output4.csv\")\n",
    "df= pd.concat([df91, df92, df93, df94], axis=0)\n",
    "print(df.shape)\n",
    "print(df.info())\n",
    "df.head()"
   ]
  },
  {
   "cell_type": "code",
   "execution_count": 489,
   "metadata": {},
   "outputs": [
    {
     "data": {
      "text/html": [
       "<div>\n",
       "<style scoped>\n",
       "    .dataframe tbody tr th:only-of-type {\n",
       "        vertical-align: middle;\n",
       "    }\n",
       "\n",
       "    .dataframe tbody tr th {\n",
       "        vertical-align: top;\n",
       "    }\n",
       "\n",
       "    .dataframe thead th {\n",
       "        text-align: right;\n",
       "    }\n",
       "</style>\n",
       "<table border=\"1\" class=\"dataframe\">\n",
       "  <thead>\n",
       "    <tr style=\"text-align: right;\">\n",
       "      <th></th>\n",
       "      <th>index</th>\n",
       "      <th>ans_entity_val</th>\n",
       "    </tr>\n",
       "  </thead>\n",
       "  <tbody>\n",
       "  </tbody>\n",
       "</table>\n",
       "</div>"
      ],
      "text/plain": [
       "Empty DataFrame\n",
       "Columns: [index, ans_entity_val]\n",
       "Index: []"
      ]
     },
     "execution_count": 489,
     "metadata": {},
     "output_type": "execute_result"
    }
   ],
   "source": [
    "duplicates = df[df.duplicated(subset=['index'], keep=False)]\n",
    "duplicates\n",
    "# df11.head()"
   ]
  },
  {
   "cell_type": "code",
   "execution_count": 490,
   "metadata": {},
   "outputs": [
    {
     "name": "stdout",
     "output_type": "stream",
     "text": [
      "43234\n"
     ]
    },
    {
     "data": {
      "text/html": [
       "<div>\n",
       "<style scoped>\n",
       "    .dataframe tbody tr th:only-of-type {\n",
       "        vertical-align: middle;\n",
       "    }\n",
       "\n",
       "    .dataframe tbody tr th {\n",
       "        vertical-align: top;\n",
       "    }\n",
       "\n",
       "    .dataframe thead th {\n",
       "        text-align: right;\n",
       "    }\n",
       "</style>\n",
       "<table border=\"1\" class=\"dataframe\">\n",
       "  <thead>\n",
       "    <tr style=\"text-align: right;\">\n",
       "      <th></th>\n",
       "      <th>index</th>\n",
       "      <th>ans_entity_val</th>\n",
       "    </tr>\n",
       "  </thead>\n",
       "  <tbody>\n",
       "    <tr>\n",
       "      <th>0</th>\n",
       "      <td>0</td>\n",
       "      <td>78.0 inch</td>\n",
       "    </tr>\n",
       "    <tr>\n",
       "      <th>1</th>\n",
       "      <td>1</td>\n",
       "      <td>42.0 cm</td>\n",
       "    </tr>\n",
       "    <tr>\n",
       "      <th>2</th>\n",
       "      <td>2</td>\n",
       "      <td>200.0 cm</td>\n",
       "    </tr>\n",
       "    <tr>\n",
       "      <th>3</th>\n",
       "      <td>3</td>\n",
       "      <td>NaN</td>\n",
       "    </tr>\n",
       "    <tr>\n",
       "      <th>4</th>\n",
       "      <td>4</td>\n",
       "      <td>NaN</td>\n",
       "    </tr>\n",
       "  </tbody>\n",
       "</table>\n",
       "</div>"
      ],
      "text/plain": [
       "   index ans_entity_val\n",
       "0      0      78.0 inch\n",
       "1      1        42.0 cm\n",
       "2      2       200.0 cm\n",
       "3      3            NaN\n",
       "4      4            NaN"
      ]
     },
     "execution_count": 490,
     "metadata": {},
     "output_type": "execute_result"
    }
   ],
   "source": [
    "print(df['ans_entity_val'].isnull().sum())\n",
    "df2= df.copy()\n",
    "df2.head()"
   ]
  },
  {
   "cell_type": "code",
   "execution_count": 492,
   "metadata": {},
   "outputs": [
    {
     "data": {
      "text/html": [
       "<div>\n",
       "<style scoped>\n",
       "    .dataframe tbody tr th:only-of-type {\n",
       "        vertical-align: middle;\n",
       "    }\n",
       "\n",
       "    .dataframe tbody tr th {\n",
       "        vertical-align: top;\n",
       "    }\n",
       "\n",
       "    .dataframe thead th {\n",
       "        text-align: right;\n",
       "    }\n",
       "</style>\n",
       "<table border=\"1\" class=\"dataframe\">\n",
       "  <thead>\n",
       "    <tr style=\"text-align: right;\">\n",
       "      <th></th>\n",
       "      <th>index</th>\n",
       "      <th>ans_entity_val</th>\n",
       "    </tr>\n",
       "  </thead>\n",
       "  <tbody>\n",
       "  </tbody>\n",
       "</table>\n",
       "</div>"
      ],
      "text/plain": [
       "Empty DataFrame\n",
       "Columns: [index, ans_entity_val]\n",
       "Index: []"
      ]
     },
     "execution_count": 492,
     "metadata": {},
     "output_type": "execute_result"
    }
   ],
   "source": [
    "df2['ans_entity_val']= df2['ans_entity_val'].fillna('Val Unit')\n",
    "df2[df2['ans_entity_val'].isnull()]"
   ]
  },
  {
   "cell_type": "code",
   "execution_count": 493,
   "metadata": {},
   "outputs": [
    {
     "name": "stdout",
     "output_type": "stream",
     "text": [
      "14334\n"
     ]
    },
    {
     "data": {
      "text/plain": [
       "array(['78.0 inch', '42.0 cm', '200.0 cm', ..., '24.9 ounce',\n",
       "       '6.0 floz472ml', '8.45 milliliter'], dtype=object)"
      ]
     },
     "execution_count": 493,
     "metadata": {},
     "output_type": "execute_result"
    }
   ],
   "source": [
    "print(len(df2['ans_entity_val'].unique()))\n",
    "df2['ans_entity_val'].unique()"
   ]
  },
  {
   "cell_type": "code",
   "execution_count": 494,
   "metadata": {},
   "outputs": [
    {
     "ename": "IndexError",
     "evalue": "list index out of range",
     "output_type": "error",
     "traceback": [
      "\u001b[1;31m---------------------------------------------------------------------------\u001b[0m",
      "\u001b[1;31mIndexError\u001b[0m                                Traceback (most recent call last)",
      "Cell \u001b[1;32mIn[494], line 4\u001b[0m\n\u001b[0;32m      1\u001b[0m df2[\u001b[38;5;124m'\u001b[39m\u001b[38;5;124mentity_value\u001b[39m\u001b[38;5;124m'\u001b[39m] \u001b[38;5;241m=\u001b[39m df2[\u001b[38;5;124m'\u001b[39m\u001b[38;5;124mans_entity_val\u001b[39m\u001b[38;5;124m'\u001b[39m]\u001b[38;5;241m.\u001b[39mapply(\n\u001b[0;32m      2\u001b[0m     \u001b[38;5;28;01mlambda\u001b[39;00m x: x\u001b[38;5;241m.\u001b[39mstrip()\u001b[38;5;241m.\u001b[39msplit(\u001b[38;5;124m'\u001b[39m\u001b[38;5;124m \u001b[39m\u001b[38;5;124m'\u001b[39m)[\u001b[38;5;241m0\u001b[39m] \u001b[38;5;28;01mif\u001b[39;00m \u001b[38;5;28misinstance\u001b[39m(x, \u001b[38;5;28mstr\u001b[39m) \u001b[38;5;129;01mand\u001b[39;00m \u001b[38;5;124m'\u001b[39m\u001b[38;5;124m \u001b[39m\u001b[38;5;124m'\u001b[39m \u001b[38;5;129;01min\u001b[39;00m x \u001b[38;5;28;01melse\u001b[39;00m (x\u001b[38;5;241m.\u001b[39mstrip() \u001b[38;5;28;01mif\u001b[39;00m \u001b[38;5;28misinstance\u001b[39m(x, \u001b[38;5;28mstr\u001b[39m) \u001b[38;5;28;01melse\u001b[39;00m x)\n\u001b[0;32m      3\u001b[0m )\n\u001b[1;32m----> 4\u001b[0m df2[\u001b[38;5;124m'\u001b[39m\u001b[38;5;124mentity_unit\u001b[39m\u001b[38;5;124m'\u001b[39m] \u001b[38;5;241m=\u001b[39m \u001b[43mdf2\u001b[49m\u001b[43m[\u001b[49m\u001b[38;5;124;43m'\u001b[39;49m\u001b[38;5;124;43mans_entity_val\u001b[39;49m\u001b[38;5;124;43m'\u001b[39;49m\u001b[43m]\u001b[49m\u001b[38;5;241;43m.\u001b[39;49m\u001b[43mapply\u001b[49m\u001b[43m(\u001b[49m\n\u001b[0;32m      5\u001b[0m \u001b[43m    \u001b[49m\u001b[38;5;28;43;01mlambda\u001b[39;49;00m\u001b[43m \u001b[49m\u001b[43mx\u001b[49m\u001b[43m:\u001b[49m\u001b[43m \u001b[49m\u001b[43mx\u001b[49m\u001b[38;5;241;43m.\u001b[39;49m\u001b[43mstrip\u001b[49m\u001b[43m(\u001b[49m\u001b[43m)\u001b[49m\u001b[38;5;241;43m.\u001b[39;49m\u001b[43msplit\u001b[49m\u001b[43m(\u001b[49m\u001b[38;5;124;43m'\u001b[39;49m\u001b[38;5;124;43m \u001b[39;49m\u001b[38;5;124;43m'\u001b[39;49m\u001b[43m)\u001b[49m\u001b[43m[\u001b[49m\u001b[38;5;241;43m1\u001b[39;49m\u001b[43m]\u001b[49m\u001b[43m \u001b[49m\u001b[38;5;28;43;01mif\u001b[39;49;00m\u001b[43m \u001b[49m\u001b[38;5;28;43misinstance\u001b[39;49m\u001b[43m(\u001b[49m\u001b[43mx\u001b[49m\u001b[43m,\u001b[49m\u001b[43m \u001b[49m\u001b[38;5;28;43mstr\u001b[39;49m\u001b[43m)\u001b[49m\u001b[43m \u001b[49m\u001b[38;5;129;43;01mand\u001b[39;49;00m\u001b[43m \u001b[49m\u001b[38;5;124;43m'\u001b[39;49m\u001b[38;5;124;43m \u001b[39;49m\u001b[38;5;124;43m'\u001b[39;49m\u001b[43m \u001b[49m\u001b[38;5;129;43;01min\u001b[39;49;00m\u001b[43m \u001b[49m\u001b[43mx\u001b[49m\u001b[43m \u001b[49m\u001b[38;5;28;43;01melse\u001b[39;49;00m\u001b[43m \u001b[49m\u001b[38;5;28;43;01mNone\u001b[39;49;00m\n\u001b[0;32m      6\u001b[0m \u001b[43m)\u001b[49m\n\u001b[0;32m      8\u001b[0m \u001b[38;5;28mprint\u001b[39m(df2\u001b[38;5;241m.\u001b[39mshape)\n\u001b[0;32m      9\u001b[0m df2\u001b[38;5;241m.\u001b[39mhead(\u001b[38;5;241m20\u001b[39m)\n",
      "File \u001b[1;32mc:\\Users\\ayush\\Downloads\\student_resource 3\\.venv\\Lib\\site-packages\\pandas\\core\\series.py:4924\u001b[0m, in \u001b[0;36mSeries.apply\u001b[1;34m(self, func, convert_dtype, args, by_row, **kwargs)\u001b[0m\n\u001b[0;32m   4789\u001b[0m \u001b[38;5;28;01mdef\u001b[39;00m \u001b[38;5;21mapply\u001b[39m(\n\u001b[0;32m   4790\u001b[0m     \u001b[38;5;28mself\u001b[39m,\n\u001b[0;32m   4791\u001b[0m     func: AggFuncType,\n\u001b[1;32m   (...)\u001b[0m\n\u001b[0;32m   4796\u001b[0m     \u001b[38;5;241m*\u001b[39m\u001b[38;5;241m*\u001b[39mkwargs,\n\u001b[0;32m   4797\u001b[0m ) \u001b[38;5;241m-\u001b[39m\u001b[38;5;241m>\u001b[39m DataFrame \u001b[38;5;241m|\u001b[39m Series:\n\u001b[0;32m   4798\u001b[0m \u001b[38;5;250m    \u001b[39m\u001b[38;5;124;03m\"\"\"\u001b[39;00m\n\u001b[0;32m   4799\u001b[0m \u001b[38;5;124;03m    Invoke function on values of Series.\u001b[39;00m\n\u001b[0;32m   4800\u001b[0m \n\u001b[1;32m   (...)\u001b[0m\n\u001b[0;32m   4915\u001b[0m \u001b[38;5;124;03m    dtype: float64\u001b[39;00m\n\u001b[0;32m   4916\u001b[0m \u001b[38;5;124;03m    \"\"\"\u001b[39;00m\n\u001b[0;32m   4917\u001b[0m     \u001b[38;5;28;01mreturn\u001b[39;00m \u001b[43mSeriesApply\u001b[49m\u001b[43m(\u001b[49m\n\u001b[0;32m   4918\u001b[0m \u001b[43m        \u001b[49m\u001b[38;5;28;43mself\u001b[39;49m\u001b[43m,\u001b[49m\n\u001b[0;32m   4919\u001b[0m \u001b[43m        \u001b[49m\u001b[43mfunc\u001b[49m\u001b[43m,\u001b[49m\n\u001b[0;32m   4920\u001b[0m \u001b[43m        \u001b[49m\u001b[43mconvert_dtype\u001b[49m\u001b[38;5;241;43m=\u001b[39;49m\u001b[43mconvert_dtype\u001b[49m\u001b[43m,\u001b[49m\n\u001b[0;32m   4921\u001b[0m \u001b[43m        \u001b[49m\u001b[43mby_row\u001b[49m\u001b[38;5;241;43m=\u001b[39;49m\u001b[43mby_row\u001b[49m\u001b[43m,\u001b[49m\n\u001b[0;32m   4922\u001b[0m \u001b[43m        \u001b[49m\u001b[43margs\u001b[49m\u001b[38;5;241;43m=\u001b[39;49m\u001b[43margs\u001b[49m\u001b[43m,\u001b[49m\n\u001b[0;32m   4923\u001b[0m \u001b[43m        \u001b[49m\u001b[43mkwargs\u001b[49m\u001b[38;5;241;43m=\u001b[39;49m\u001b[43mkwargs\u001b[49m\u001b[43m,\u001b[49m\n\u001b[1;32m-> 4924\u001b[0m \u001b[43m    \u001b[49m\u001b[43m)\u001b[49m\u001b[38;5;241;43m.\u001b[39;49m\u001b[43mapply\u001b[49m\u001b[43m(\u001b[49m\u001b[43m)\u001b[49m\n",
      "File \u001b[1;32mc:\\Users\\ayush\\Downloads\\student_resource 3\\.venv\\Lib\\site-packages\\pandas\\core\\apply.py:1427\u001b[0m, in \u001b[0;36mSeriesApply.apply\u001b[1;34m(self)\u001b[0m\n\u001b[0;32m   1424\u001b[0m     \u001b[38;5;28;01mreturn\u001b[39;00m \u001b[38;5;28mself\u001b[39m\u001b[38;5;241m.\u001b[39mapply_compat()\n\u001b[0;32m   1426\u001b[0m \u001b[38;5;66;03m# self.func is Callable\u001b[39;00m\n\u001b[1;32m-> 1427\u001b[0m \u001b[38;5;28;01mreturn\u001b[39;00m \u001b[38;5;28;43mself\u001b[39;49m\u001b[38;5;241;43m.\u001b[39;49m\u001b[43mapply_standard\u001b[49m\u001b[43m(\u001b[49m\u001b[43m)\u001b[49m\n",
      "File \u001b[1;32mc:\\Users\\ayush\\Downloads\\student_resource 3\\.venv\\Lib\\site-packages\\pandas\\core\\apply.py:1507\u001b[0m, in \u001b[0;36mSeriesApply.apply_standard\u001b[1;34m(self)\u001b[0m\n\u001b[0;32m   1501\u001b[0m \u001b[38;5;66;03m# row-wise access\u001b[39;00m\n\u001b[0;32m   1502\u001b[0m \u001b[38;5;66;03m# apply doesn't have a `na_action` keyword and for backward compat reasons\u001b[39;00m\n\u001b[0;32m   1503\u001b[0m \u001b[38;5;66;03m# we need to give `na_action=\"ignore\"` for categorical data.\u001b[39;00m\n\u001b[0;32m   1504\u001b[0m \u001b[38;5;66;03m# TODO: remove the `na_action=\"ignore\"` when that default has been changed in\u001b[39;00m\n\u001b[0;32m   1505\u001b[0m \u001b[38;5;66;03m#  Categorical (GH51645).\u001b[39;00m\n\u001b[0;32m   1506\u001b[0m action \u001b[38;5;241m=\u001b[39m \u001b[38;5;124m\"\u001b[39m\u001b[38;5;124mignore\u001b[39m\u001b[38;5;124m\"\u001b[39m \u001b[38;5;28;01mif\u001b[39;00m \u001b[38;5;28misinstance\u001b[39m(obj\u001b[38;5;241m.\u001b[39mdtype, CategoricalDtype) \u001b[38;5;28;01melse\u001b[39;00m \u001b[38;5;28;01mNone\u001b[39;00m\n\u001b[1;32m-> 1507\u001b[0m mapped \u001b[38;5;241m=\u001b[39m \u001b[43mobj\u001b[49m\u001b[38;5;241;43m.\u001b[39;49m\u001b[43m_map_values\u001b[49m\u001b[43m(\u001b[49m\n\u001b[0;32m   1508\u001b[0m \u001b[43m    \u001b[49m\u001b[43mmapper\u001b[49m\u001b[38;5;241;43m=\u001b[39;49m\u001b[43mcurried\u001b[49m\u001b[43m,\u001b[49m\u001b[43m \u001b[49m\u001b[43mna_action\u001b[49m\u001b[38;5;241;43m=\u001b[39;49m\u001b[43maction\u001b[49m\u001b[43m,\u001b[49m\u001b[43m \u001b[49m\u001b[43mconvert\u001b[49m\u001b[38;5;241;43m=\u001b[39;49m\u001b[38;5;28;43mself\u001b[39;49m\u001b[38;5;241;43m.\u001b[39;49m\u001b[43mconvert_dtype\u001b[49m\n\u001b[0;32m   1509\u001b[0m \u001b[43m\u001b[49m\u001b[43m)\u001b[49m\n\u001b[0;32m   1511\u001b[0m \u001b[38;5;28;01mif\u001b[39;00m \u001b[38;5;28mlen\u001b[39m(mapped) \u001b[38;5;129;01mand\u001b[39;00m \u001b[38;5;28misinstance\u001b[39m(mapped[\u001b[38;5;241m0\u001b[39m], ABCSeries):\n\u001b[0;32m   1512\u001b[0m     \u001b[38;5;66;03m# GH#43986 Need to do list(mapped) in order to get treated as nested\u001b[39;00m\n\u001b[0;32m   1513\u001b[0m     \u001b[38;5;66;03m#  See also GH#25959 regarding EA support\u001b[39;00m\n\u001b[0;32m   1514\u001b[0m     \u001b[38;5;28;01mreturn\u001b[39;00m obj\u001b[38;5;241m.\u001b[39m_constructor_expanddim(\u001b[38;5;28mlist\u001b[39m(mapped), index\u001b[38;5;241m=\u001b[39mobj\u001b[38;5;241m.\u001b[39mindex)\n",
      "File \u001b[1;32mc:\\Users\\ayush\\Downloads\\student_resource 3\\.venv\\Lib\\site-packages\\pandas\\core\\base.py:921\u001b[0m, in \u001b[0;36mIndexOpsMixin._map_values\u001b[1;34m(self, mapper, na_action, convert)\u001b[0m\n\u001b[0;32m    918\u001b[0m \u001b[38;5;28;01mif\u001b[39;00m \u001b[38;5;28misinstance\u001b[39m(arr, ExtensionArray):\n\u001b[0;32m    919\u001b[0m     \u001b[38;5;28;01mreturn\u001b[39;00m arr\u001b[38;5;241m.\u001b[39mmap(mapper, na_action\u001b[38;5;241m=\u001b[39mna_action)\n\u001b[1;32m--> 921\u001b[0m \u001b[38;5;28;01mreturn\u001b[39;00m \u001b[43malgorithms\u001b[49m\u001b[38;5;241;43m.\u001b[39;49m\u001b[43mmap_array\u001b[49m\u001b[43m(\u001b[49m\u001b[43marr\u001b[49m\u001b[43m,\u001b[49m\u001b[43m \u001b[49m\u001b[43mmapper\u001b[49m\u001b[43m,\u001b[49m\u001b[43m \u001b[49m\u001b[43mna_action\u001b[49m\u001b[38;5;241;43m=\u001b[39;49m\u001b[43mna_action\u001b[49m\u001b[43m,\u001b[49m\u001b[43m \u001b[49m\u001b[43mconvert\u001b[49m\u001b[38;5;241;43m=\u001b[39;49m\u001b[43mconvert\u001b[49m\u001b[43m)\u001b[49m\n",
      "File \u001b[1;32mc:\\Users\\ayush\\Downloads\\student_resource 3\\.venv\\Lib\\site-packages\\pandas\\core\\algorithms.py:1743\u001b[0m, in \u001b[0;36mmap_array\u001b[1;34m(arr, mapper, na_action, convert)\u001b[0m\n\u001b[0;32m   1741\u001b[0m values \u001b[38;5;241m=\u001b[39m arr\u001b[38;5;241m.\u001b[39mastype(\u001b[38;5;28mobject\u001b[39m, copy\u001b[38;5;241m=\u001b[39m\u001b[38;5;28;01mFalse\u001b[39;00m)\n\u001b[0;32m   1742\u001b[0m \u001b[38;5;28;01mif\u001b[39;00m na_action \u001b[38;5;129;01mis\u001b[39;00m \u001b[38;5;28;01mNone\u001b[39;00m:\n\u001b[1;32m-> 1743\u001b[0m     \u001b[38;5;28;01mreturn\u001b[39;00m \u001b[43mlib\u001b[49m\u001b[38;5;241;43m.\u001b[39;49m\u001b[43mmap_infer\u001b[49m\u001b[43m(\u001b[49m\u001b[43mvalues\u001b[49m\u001b[43m,\u001b[49m\u001b[43m \u001b[49m\u001b[43mmapper\u001b[49m\u001b[43m,\u001b[49m\u001b[43m \u001b[49m\u001b[43mconvert\u001b[49m\u001b[38;5;241;43m=\u001b[39;49m\u001b[43mconvert\u001b[49m\u001b[43m)\u001b[49m\n\u001b[0;32m   1744\u001b[0m \u001b[38;5;28;01melse\u001b[39;00m:\n\u001b[0;32m   1745\u001b[0m     \u001b[38;5;28;01mreturn\u001b[39;00m lib\u001b[38;5;241m.\u001b[39mmap_infer_mask(\n\u001b[0;32m   1746\u001b[0m         values, mapper, mask\u001b[38;5;241m=\u001b[39misna(values)\u001b[38;5;241m.\u001b[39mview(np\u001b[38;5;241m.\u001b[39muint8), convert\u001b[38;5;241m=\u001b[39mconvert\n\u001b[0;32m   1747\u001b[0m     )\n",
      "File \u001b[1;32mlib.pyx:2972\u001b[0m, in \u001b[0;36mpandas._libs.lib.map_infer\u001b[1;34m()\u001b[0m\n",
      "Cell \u001b[1;32mIn[494], line 5\u001b[0m, in \u001b[0;36m<lambda>\u001b[1;34m(x)\u001b[0m\n\u001b[0;32m      1\u001b[0m df2[\u001b[38;5;124m'\u001b[39m\u001b[38;5;124mentity_value\u001b[39m\u001b[38;5;124m'\u001b[39m] \u001b[38;5;241m=\u001b[39m df2[\u001b[38;5;124m'\u001b[39m\u001b[38;5;124mans_entity_val\u001b[39m\u001b[38;5;124m'\u001b[39m]\u001b[38;5;241m.\u001b[39mapply(\n\u001b[0;32m      2\u001b[0m     \u001b[38;5;28;01mlambda\u001b[39;00m x: x\u001b[38;5;241m.\u001b[39mstrip()\u001b[38;5;241m.\u001b[39msplit(\u001b[38;5;124m'\u001b[39m\u001b[38;5;124m \u001b[39m\u001b[38;5;124m'\u001b[39m)[\u001b[38;5;241m0\u001b[39m] \u001b[38;5;28;01mif\u001b[39;00m \u001b[38;5;28misinstance\u001b[39m(x, \u001b[38;5;28mstr\u001b[39m) \u001b[38;5;129;01mand\u001b[39;00m \u001b[38;5;124m'\u001b[39m\u001b[38;5;124m \u001b[39m\u001b[38;5;124m'\u001b[39m \u001b[38;5;129;01min\u001b[39;00m x \u001b[38;5;28;01melse\u001b[39;00m (x\u001b[38;5;241m.\u001b[39mstrip() \u001b[38;5;28;01mif\u001b[39;00m \u001b[38;5;28misinstance\u001b[39m(x, \u001b[38;5;28mstr\u001b[39m) \u001b[38;5;28;01melse\u001b[39;00m x)\n\u001b[0;32m      3\u001b[0m )\n\u001b[0;32m      4\u001b[0m df2[\u001b[38;5;124m'\u001b[39m\u001b[38;5;124mentity_unit\u001b[39m\u001b[38;5;124m'\u001b[39m] \u001b[38;5;241m=\u001b[39m df2[\u001b[38;5;124m'\u001b[39m\u001b[38;5;124mans_entity_val\u001b[39m\u001b[38;5;124m'\u001b[39m]\u001b[38;5;241m.\u001b[39mapply(\n\u001b[1;32m----> 5\u001b[0m     \u001b[38;5;28;01mlambda\u001b[39;00m x: \u001b[43mx\u001b[49m\u001b[38;5;241;43m.\u001b[39;49m\u001b[43mstrip\u001b[49m\u001b[43m(\u001b[49m\u001b[43m)\u001b[49m\u001b[38;5;241;43m.\u001b[39;49m\u001b[43msplit\u001b[49m\u001b[43m(\u001b[49m\u001b[38;5;124;43m'\u001b[39;49m\u001b[38;5;124;43m \u001b[39;49m\u001b[38;5;124;43m'\u001b[39;49m\u001b[43m)\u001b[49m\u001b[43m[\u001b[49m\u001b[38;5;241;43m1\u001b[39;49m\u001b[43m]\u001b[49m \u001b[38;5;28;01mif\u001b[39;00m \u001b[38;5;28misinstance\u001b[39m(x, \u001b[38;5;28mstr\u001b[39m) \u001b[38;5;129;01mand\u001b[39;00m \u001b[38;5;124m'\u001b[39m\u001b[38;5;124m \u001b[39m\u001b[38;5;124m'\u001b[39m \u001b[38;5;129;01min\u001b[39;00m x \u001b[38;5;28;01melse\u001b[39;00m \u001b[38;5;28;01mNone\u001b[39;00m\n\u001b[0;32m      6\u001b[0m )\n\u001b[0;32m      8\u001b[0m \u001b[38;5;28mprint\u001b[39m(df2\u001b[38;5;241m.\u001b[39mshape)\n\u001b[0;32m      9\u001b[0m df2\u001b[38;5;241m.\u001b[39mhead(\u001b[38;5;241m20\u001b[39m)\n",
      "\u001b[1;31mIndexError\u001b[0m: list index out of range"
     ]
    }
   ],
   "source": [
    "df2['entity_value'] = df2['ans_entity_val'].apply(\n",
    "    lambda x: x.strip().split(' ')[0] if isinstance(x, str) and ' ' in x else (x.strip() if isinstance(x, str) else x)\n",
    ")\n",
    "df2['entity_unit'] = df2['ans_entity_val'].apply(\n",
    "    lambda x: x.strip().split(' ')[1] if isinstance(x, str) and ' ' in x else None\n",
    ")\n",
    "\n",
    "print(df2.shape)\n",
    "df2.head(20)\n"
   ]
  },
  {
   "cell_type": "code",
   "execution_count": 495,
   "metadata": {},
   "outputs": [
    {
     "ename": "KeyError",
     "evalue": "'entity_unit'",
     "output_type": "error",
     "traceback": [
      "\u001b[1;31m---------------------------------------------------------------------------\u001b[0m",
      "\u001b[1;31mKeyError\u001b[0m                                  Traceback (most recent call last)",
      "File \u001b[1;32mc:\\Users\\ayush\\Downloads\\student_resource 3\\.venv\\Lib\\site-packages\\pandas\\core\\indexes\\base.py:3805\u001b[0m, in \u001b[0;36mIndex.get_loc\u001b[1;34m(self, key)\u001b[0m\n\u001b[0;32m   3804\u001b[0m \u001b[38;5;28;01mtry\u001b[39;00m:\n\u001b[1;32m-> 3805\u001b[0m     \u001b[38;5;28;01mreturn\u001b[39;00m \u001b[38;5;28;43mself\u001b[39;49m\u001b[38;5;241;43m.\u001b[39;49m\u001b[43m_engine\u001b[49m\u001b[38;5;241;43m.\u001b[39;49m\u001b[43mget_loc\u001b[49m\u001b[43m(\u001b[49m\u001b[43mcasted_key\u001b[49m\u001b[43m)\u001b[49m\n\u001b[0;32m   3806\u001b[0m \u001b[38;5;28;01mexcept\u001b[39;00m \u001b[38;5;167;01mKeyError\u001b[39;00m \u001b[38;5;28;01mas\u001b[39;00m err:\n",
      "File \u001b[1;32mindex.pyx:167\u001b[0m, in \u001b[0;36mpandas._libs.index.IndexEngine.get_loc\u001b[1;34m()\u001b[0m\n",
      "File \u001b[1;32mindex.pyx:196\u001b[0m, in \u001b[0;36mpandas._libs.index.IndexEngine.get_loc\u001b[1;34m()\u001b[0m\n",
      "File \u001b[1;32mpandas\\\\_libs\\\\hashtable_class_helper.pxi:7081\u001b[0m, in \u001b[0;36mpandas._libs.hashtable.PyObjectHashTable.get_item\u001b[1;34m()\u001b[0m\n",
      "File \u001b[1;32mpandas\\\\_libs\\\\hashtable_class_helper.pxi:7089\u001b[0m, in \u001b[0;36mpandas._libs.hashtable.PyObjectHashTable.get_item\u001b[1;34m()\u001b[0m\n",
      "\u001b[1;31mKeyError\u001b[0m: 'entity_unit'",
      "\nThe above exception was the direct cause of the following exception:\n",
      "\u001b[1;31mKeyError\u001b[0m                                  Traceback (most recent call last)",
      "Cell \u001b[1;32mIn[495], line 1\u001b[0m\n\u001b[1;32m----> 1\u001b[0m df2[\u001b[38;5;124m'\u001b[39m\u001b[38;5;124mentity_unit\u001b[39m\u001b[38;5;124m'\u001b[39m]\u001b[38;5;241m=\u001b[39m \u001b[43mdf2\u001b[49m\u001b[43m[\u001b[49m\u001b[38;5;124;43m'\u001b[39;49m\u001b[38;5;124;43mentity_unit\u001b[39;49m\u001b[38;5;124;43m'\u001b[39;49m\u001b[43m]\u001b[49m\u001b[38;5;241m.\u001b[39mstr\u001b[38;5;241m.\u001b[39mlower()\n\u001b[0;32m      2\u001b[0m df2\u001b[38;5;241m.\u001b[39mhead(\u001b[38;5;241m20\u001b[39m)\n",
      "File \u001b[1;32mc:\\Users\\ayush\\Downloads\\student_resource 3\\.venv\\Lib\\site-packages\\pandas\\core\\frame.py:4102\u001b[0m, in \u001b[0;36mDataFrame.__getitem__\u001b[1;34m(self, key)\u001b[0m\n\u001b[0;32m   4100\u001b[0m \u001b[38;5;28;01mif\u001b[39;00m \u001b[38;5;28mself\u001b[39m\u001b[38;5;241m.\u001b[39mcolumns\u001b[38;5;241m.\u001b[39mnlevels \u001b[38;5;241m>\u001b[39m \u001b[38;5;241m1\u001b[39m:\n\u001b[0;32m   4101\u001b[0m     \u001b[38;5;28;01mreturn\u001b[39;00m \u001b[38;5;28mself\u001b[39m\u001b[38;5;241m.\u001b[39m_getitem_multilevel(key)\n\u001b[1;32m-> 4102\u001b[0m indexer \u001b[38;5;241m=\u001b[39m \u001b[38;5;28;43mself\u001b[39;49m\u001b[38;5;241;43m.\u001b[39;49m\u001b[43mcolumns\u001b[49m\u001b[38;5;241;43m.\u001b[39;49m\u001b[43mget_loc\u001b[49m\u001b[43m(\u001b[49m\u001b[43mkey\u001b[49m\u001b[43m)\u001b[49m\n\u001b[0;32m   4103\u001b[0m \u001b[38;5;28;01mif\u001b[39;00m is_integer(indexer):\n\u001b[0;32m   4104\u001b[0m     indexer \u001b[38;5;241m=\u001b[39m [indexer]\n",
      "File \u001b[1;32mc:\\Users\\ayush\\Downloads\\student_resource 3\\.venv\\Lib\\site-packages\\pandas\\core\\indexes\\base.py:3812\u001b[0m, in \u001b[0;36mIndex.get_loc\u001b[1;34m(self, key)\u001b[0m\n\u001b[0;32m   3807\u001b[0m     \u001b[38;5;28;01mif\u001b[39;00m \u001b[38;5;28misinstance\u001b[39m(casted_key, \u001b[38;5;28mslice\u001b[39m) \u001b[38;5;129;01mor\u001b[39;00m (\n\u001b[0;32m   3808\u001b[0m         \u001b[38;5;28misinstance\u001b[39m(casted_key, abc\u001b[38;5;241m.\u001b[39mIterable)\n\u001b[0;32m   3809\u001b[0m         \u001b[38;5;129;01mand\u001b[39;00m \u001b[38;5;28many\u001b[39m(\u001b[38;5;28misinstance\u001b[39m(x, \u001b[38;5;28mslice\u001b[39m) \u001b[38;5;28;01mfor\u001b[39;00m x \u001b[38;5;129;01min\u001b[39;00m casted_key)\n\u001b[0;32m   3810\u001b[0m     ):\n\u001b[0;32m   3811\u001b[0m         \u001b[38;5;28;01mraise\u001b[39;00m InvalidIndexError(key)\n\u001b[1;32m-> 3812\u001b[0m     \u001b[38;5;28;01mraise\u001b[39;00m \u001b[38;5;167;01mKeyError\u001b[39;00m(key) \u001b[38;5;28;01mfrom\u001b[39;00m \u001b[38;5;21;01merr\u001b[39;00m\n\u001b[0;32m   3813\u001b[0m \u001b[38;5;28;01mexcept\u001b[39;00m \u001b[38;5;167;01mTypeError\u001b[39;00m:\n\u001b[0;32m   3814\u001b[0m     \u001b[38;5;66;03m# If we have a listlike key, _check_indexing_error will raise\u001b[39;00m\n\u001b[0;32m   3815\u001b[0m     \u001b[38;5;66;03m#  InvalidIndexError. Otherwise we fall through and re-raise\u001b[39;00m\n\u001b[0;32m   3816\u001b[0m     \u001b[38;5;66;03m#  the TypeError.\u001b[39;00m\n\u001b[0;32m   3817\u001b[0m     \u001b[38;5;28mself\u001b[39m\u001b[38;5;241m.\u001b[39m_check_indexing_error(key)\n",
      "\u001b[1;31mKeyError\u001b[0m: 'entity_unit'"
     ]
    }
   ],
   "source": [
    "df2['entity_unit']= df2['entity_unit'].str.lower()\n",
    "df2.head(20)"
   ]
  },
  {
   "cell_type": "code",
   "execution_count": 414,
   "metadata": {},
   "outputs": [
    {
     "name": "stdout",
     "output_type": "stream",
     "text": [
      "1136\n",
      "['inch' 'cm' 'unit' ... 'sas' 'floz(340' 'floz472ml']\n"
     ]
    }
   ],
   "source": [
    "uniqueUnits= df2['entity_unit'].unique()\n",
    "print(len(uniqueUnits))\n",
    "print(uniqueUnits)"
   ]
  },
  {
   "cell_type": "code",
   "execution_count": 415,
   "metadata": {},
   "outputs": [
    {
     "name": "stdout",
     "output_type": "stream",
     "text": [
      "31\n",
      "['millimetre', 'milligram', 'kilowatt', 'gallon', 'cubic foot', 'microlitre', 'imperial gallon', 'centilitre', 'millilitre', 'ounce', 'litre', 'microgram', 'kilovolt', 'watt', 'millivolt', 'centimetre', 'ton', 'foot', 'fluid ounce', 'volt', 'decilitre', 'pint', 'quart', 'inch', 'metre', 'yard', 'cubic inch', 'pound', 'cup', 'kilogram', 'gram']\n"
     ]
    }
   ],
   "source": [
    "entity_unit_map = {\n",
    "    'width': {'centimetre', 'foot', 'inch', 'metre', 'millimetre', 'yard'},\n",
    "    'depth': {'centimetre', 'foot', 'inch', 'metre', 'millimetre', 'yard'},\n",
    "    'height': {'centimetre', 'foot', 'inch', 'metre', 'millimetre', 'yard'},\n",
    "    'item_weight': {'gram',\n",
    "        'kilogram',\n",
    "        'microgram',\n",
    "        'milligram',\n",
    "        'ounce',\n",
    "        'pound',\n",
    "        'ton'},\n",
    "    'maximum_weight_recommendation': {'gram',\n",
    "        'kilogram',\n",
    "        'microgram',\n",
    "        'milligram',\n",
    "        'ounce',\n",
    "        'pound',\n",
    "        'ton'},\n",
    "    'voltage': {'kilovolt', 'millivolt', 'volt'},\n",
    "    'wattage': {'kilowatt', 'watt'},\n",
    "    'item_volume': {'centilitre',\n",
    "        'cubic foot',\n",
    "        'cubic inch',\n",
    "        'cup',\n",
    "        'decilitre',\n",
    "        'fluid ounce',\n",
    "        'gallon',\n",
    "        'imperial gallon',\n",
    "        'litre',\n",
    "        'microlitre',\n",
    "        'millilitre',\n",
    "        'pint',\n",
    "        'quart'}\n",
    "}\n",
    "\n",
    "allowed_units = {unit for entity in entity_unit_map for unit in entity_unit_map[entity]}\n",
    "entity_list= []\n",
    "for entity in allowed_units:\n",
    "    entity_list.append(entity)\n",
    "\n",
    "print(len(entity_list))\n",
    "print(entity_list)"
   ]
  },
  {
   "cell_type": "code",
   "execution_count": 416,
   "metadata": {},
   "outputs": [],
   "source": [
    "entity_list2= ['gram', 'cup', 'milligram', 'kilogram', 'ounce', 'gallon', 'volt', 'watt', 'pound', 'millilitre', 'foot', 'ton', 'decilitre', 'inch', 'litre', 'microgram', 'centimetre', 'quart', 'horsepower', 'kilowatt', 'hour', 'gigabyte', 'millimetre', 'pint', 'centilitre', 'metre', 'carat', 'nits']\n",
    "\n",
    "# for entity in entity_list2:\n",
    "#     if entity not in entity_list:\n",
    "#         entity_list.append(entity)\n",
    "\n",
    "# for entity in entity_list2:\n",
    "#     if entity not in entity_list:\n",
    "#         entity_list.append(entity)\n",
    "\n",
    "# print(len(entity_list))\n",
    "# print(entity_list)"
   ]
  },
  {
   "cell_type": "code",
   "execution_count": 417,
   "metadata": {},
   "outputs": [
    {
     "name": "stdout",
     "output_type": "stream",
     "text": [
      "31\n",
      "['millimetre', 'milligram', 'kilowatt', 'gallon', 'cubic foot', 'microlitre', 'imperial gallon', 'centilitre', 'millilitre', 'ounce', 'litre', 'microgram', 'kilovolt', 'watt', 'millivolt', 'centimetre', 'ton', 'foot', 'fluid ounce', 'volt', 'decilitre', 'pint', 'quart', 'inch', 'metre', 'yard', 'cubic inch', 'pound', 'cup', 'kilogram', 'gram']\n",
      "1113\n",
      "['cm', 'unit', None, 'enough', 'millimeter', 'mm', 'floz', 'cm(23.6\")', 'steak', '25.7.cm\"', 'ltd', '', 'wdusti', '2.83inch', 'diameter', 'centimeter', 'g', 'meter', '3.5\"', 'in.', 'determine', 'fluid', '22.2', '3', 'piece', 'newton', 'grams', '2', 'oz', 'inches', '24.0', 'pounds', 'cubic', 'available', 'air', 'applicable', 'airflow', 'in', 'milliliter', 'absorbant', 'bulb', 'youthsize', 'cut', '1.37', 'chicken', '60hz', 'numerical_value', 's6%stronge', '5x7', 'cm\",', 'fluid_ounce', '3.14/8,', 'envirocore', '13\"', 'gramco', '6.0', 'not', 'whole', '5.0', '13.8', '110cm', 'aey', 'fl0z', '20.5cm', 'ithum', 'found', '15.0', 'r3', 'soce', 'liter', 'numerical', '28.0', 'cm³', 'gigabyte', 'second', 'hd', 'ibs', 'fl.oz.', 'value]', 'potato', 'hints', 'milligrams', 'bar', 'bend', '2.78', 'pet', 'in/40', '18\"', 'ml', 'user', 'net', 'in/4.0', '24%', 'percent', 'fl', 'provided', 'l85', 'color', '[voltage', 'horsepower', 'packets', '17.5', 'preductoffrance', '\"', '6cm', 'and', 'cm(35,4\")', '23', 'specified', 'gnl', '40', 'compact', 'salad', 'ridgid', '&sour', 'avidpow', 'lb', 'x18', 'ampere', '5', '8.19d', '41.25-47.25', '260cn', '03', 'qt', 'food', 'deli', 'b/m2', 'ml/1fl.oz', 'degree', 'sleep', 'large', 'floz946ml', '100', 'pack', '20.0', 'mutant', 'coffee', 'floz.', '4mm(thickness)', 'mango', '18', 'volts', 'material\"', 'lers/simples', 'billion', 'btu', 'gm', 'adult', 'trakitri', '120.0', 'capsule', '48', 'ml/0.60fl.oz.', 'rpm', 'mushroom', 'e41egs', '5cm', 'ounces', 'bounces', 'hor', '195', 'gsm', 'depth', 'wuxga2,000100', '53125', 'in/cm', '.', 'floz(473ml)', 'softchews', 'to', 'double', '45cm', '10.15d', 'brushless', '113g', '1cm', 'tablet', 'kg', '30cm', '{30.0}', 'arty', 'floz330', '40mm', 'provide', 'oz59ml', 'soups&sauces', '150cm/59inch', '9.8', '136mm', 'l', 'potaocrs', 'lyric', '300ml', 'lbs', 'floz330ml', '2x', 'tile', 'a312/', 'million', 'pixel', 'fast-absorbing', '10.2\"', 'oz.', 'hangers', 'cm²', 'data', 'scoops', 'sq', 'btus', '4100', '+', 'speed', '8.1in', '43mm/1.69inch', 'cm40.4', '20cm', 'dollar', 'amp', '322-17', 'dre', 'closed:', 'pcs', 'batteries', 'watts', 'bags', 'design', 'government', 'exos7e8', '1f1908n', 'blade', 'fl.oz', 'style', 'double-sided', 'cans', 'oz/ml', 'ro', '2.0e', '42cm', 'miom', 'carcam', '12.7\"', 'high', 'floz33ml', 'unknown', 'epsom', 'rfx0_e', 'cm²\",', 'kabab', '200', 'mile', '17.63\"', 'cubic_inch', 'grammes', 'millimetres', 'e8.', 'wh', 'calopies', '184', 'made', '162', 'left', 'imported', '7.59d', '55085', 'ca', '20', '0,021', 'n/a', 'resealable', 'unit:', 'pages', 'mg', 'cm/8.26in', '17.5cm', 'special', 'handle', 'in/12.6', 'cm/12in', 'not_applicable', 'cfm/watt', 'drops', '40%', 'calorie', 'sheets', 'luggage', 'home', 'work', 'ac90-265v', 'handheld', 'size', 'floz(355ml', 'oz/', 'feet', 'floating_integer', 'height', 'kilocalories', '20w', 'box', 'gigabytes', 'bag', 'lumens', 'hour', '8cm/3.2\"', '210cm', 'cms', 'tl/', 'ok', '24t', 'floz355', 'mah', 'milliampere-hour', 'tmakita', 'determined', 'cm28.0', 'in/49.0', 'o', '161250va0', 'graphics', '13cm/5inch', 'cm3', 'oz(473', '0', '50.0', 'square', 'umens', 'here', 'miles', '-ej', '0.8', 'led', '&cheese', 'cm24.8', 'floz355ml', '6.7in', 'wisbes', '3.51n', 'er', 'terabyte', 'clarify', 'grey', '3in', 'froppe', '3x3m', 'skil,...', 'btu/h', '**26.5', '5.9,', '7mm', '8mm', 'ml/1oz', 'calories', '28\"', 'then', 'floz/710ml', 'x1', 'coins', '.4cm', '20.7cm/8.1', 'determinable', 'k', '0.1inch', 'pieces', 'me', 'izeeker', 'centimetres', 'lbs/705g', 'android10.0', 'cu.t', 'fat', 'k230v', 'or', 'fiches', '43/16\"', '/', 'gb', 'kilograms', '14mm', '220v-5400w25a', 'cm/2.36in', 'cm/inch', '300.0', 'ft', 'in/28.0cm', 'millimeters', '1181', '127mm', 'filters', 'ir', 'dog', 'smartest', 'teccpo', 'e.g.,', 'antennas', 'floz(355ml)', 'times', 'm³', '178mm', 'integer', '41\"', 'company', 'k-cuppods', 'omato', 'rotation', '29', '0.08a', '4-18-288', '11.0cm', 'from40-120lb', 'hours', 'shcts', 'floz1p1473ml', 'double_thickness', 'singlebrgits', '54', '90mm', '30cm\",', '240', 'cm/s²', 'cac', 'resuittast', 'photos', 'ruler', 'light', 'ce', 'meters', 'playstation', '9.5\"', 'compatible', 'mm/inch', '-257mm', 'ychika', 'wood', '7.25', 'e375474', 'ib', 'g/m2', 'in/36', '3.7in)', 'makita', 'micromillimeter', 'cfm', 'thousand', '12.76w', '1', '72\"', '87cm', 'gps', 'alphasonik', 'packages', '7.5', '22cm/8.6in', 'i', 'cm.', 'base', 'een', '123cm', 'beam', 'cm/4.3in', 'popthe', 'tosttos', 'charge', 'morice', 'serving', '95mm', 'jhofa', '0.7cm/0.27in', '5.1cm', 'veodymiun', '0.8cm/0.3in', '3.5cm', 'acrilico', '/1.42\".', '4.1\"**', ',', 'ml4oz', 'lumen', 'ml/o.60fl.oz.', 'family', 'three', '52mm', 'kcal', 'mic', 'micrometre', '6.3in', 'aa', '29cm', 'r/min', 'cm/in', 'they', '34', 'us', 'cuadro', 'efficiency', '15cm/5.91\"', 'a', '36', 'rug', '3x5m', 'cardvr', '1.8', 'micrometer', 'information', 'energy', 'be', 'in/34', '24mm', 'mph', '6', '55cm', \"you'd\", 'lnch', '7.0', 'nanogram', '103.5', '-ans', 'defined', '29.0', '90.0,', 'no', '20cm/7.87in', '4.0', '1.3inch', 'cc/ml', 'milliamp', 'milliampere', 'in/36.0cm', '15in', 'gr', 'adhesive', 'iov', 'performancee', 'dia', 'your', 'decimal', 'ralevce', '95', '9.53d', 'f8\"4', '2.2inch', 'degrees', '4.0m', '11.9,', 'cm/2.76in', '12cm/4.72in', 'oz60', 'l8s', '350,', 'count', 'floz355m', '58.0', 'ram', '1.6]', '2in', '2cm', '5cm/1.97in', 'can', 'oz80g', '200pcs/set', '8cm', 'ml/3.71', 'who', '5in', 'mr.go', '17mm', 'x16.9', 'easy', 'kiss', 'qqty1', 'spin', 'm24', '-off', 'microfarad', 'journeys', '22mm', 'oz(355ml)', 'centimeters', '28cm', '55mm', 'for', 'details', '60x200cm', 'sinocmp', \"16'\", '(ml)', '20colors', 'silber', 'lozenges', 'sheet', 'complex', 'toshoot', '6.5cm', 'uueh', '60.0', '5**', 'in/35.0', 'dc10~30v', 'letter', 'max', 'clear', 'xbox', '7', '10\"', 'lb/sheet', '2.5x2.5m', 'cauno', 'capacity', '8\"', 'trif', '*', '41cm', 'choking', 'mrc', '*please', 'weight', 'green', '16in/', '60cm', 'moooon', '15mm', '3/5', 'quality', '24cm', 'm', 'h', '200cm', '24x19x8cm', 'in/95', 'keto', '100.0', '25.5cm/10in', 'set-up', '13.6cm', 'filter', '7.6', 'cubic_foot', 'milliwatt', 'mm/5.5in', 'cm/3.4in', 'millile', 'nl', 'floz/207ml', 'cubic_meter', '13500', 'fregc', '2.5ft', 'soap', 'cm/4.2', '18/8', '2.2k', '41', 'mooe3-sntry', 'loads', '19mm', 'ml(3.9', 'enjoy', '7in', '4.7', 'ovelmp', 'ml0.25fl.oz', '300w', 'coin', 'with', 'sq.ft', 'line', 'oraa', '-rc', '/unit', 'bars', '150mm', '7cm', '10x', 'cm/18', 'cm(16.1)', '7.50', '5.7cm', 'pcsd', '?', 'mm3', 'gallons', 'onservadores', 'kilometer', 'sunshine', 'vac', 'cylinder', '(15.88cm)', 'poured', 'save', 'r', 'atx', '&', 'walimex', 'sche', 'helle', '5.19inch', 'hold', 'adaptor', '**01.5in**', '130cm/', 'nits', '24\"', '(114mm)', 'fish', '2.625', 'candles', 'oz/200ml', '6.30\"', 'lightpack20-21', '9.5', 'millilitres', '40\"', 'voltage', 'packs', \"uno'\", 'm3/h', 'strength', 'divider', 'ips', '20\"', 'units', '19.7', 'sq.ft.', '12\"', '5.5in', 'set', '108inch', \"k.o.4x's\", '31cm', 'truslyour', 'b', 'dc12v', 'cards', '1500pcs85x50cm', '2\"', '35mm/1.37in', 'planning', 'n/cm', 'premier', 'fx4', 'proof', '1.7', 'w', 'this', 'degree_fahrenheit', 'mm³', 'plates', 'pulgadas', 'no_unit', '47mm71.85in', 'gold', '60', 'mm/0.55in', 's', '8cm!', 'fan', 'assembly', '8.0', 'jolly', 'ml/net', '1.7inch', '4.4', 'picture-page', 'year', 'afc', 'ml/8fl', 'yards', '100cm', 'fully', 'the', 'more', 'bench', 'value', 'coral', 'ultra', 'nch', 'hnc', 'b+', '30.7', '**', 'c', '2.5cm(8pcs)', '2.25x3.5\"', 'u.s.qt(1l)', 'eadas-elbow', 'piece(s)', '54mm', 'tata', 'in/150', 'pods', 'hack', '1.8\"', 'of10-60,so', 'lbtimkenload', 'mm/1.68in', 'mmlt', '120', '12.0', 'bullet', '7,8', 'vdc', 'usb', 'inch\",', 'none', '5.7in', 'unit=cup', 'cm/8.66in', '{unit}', '5mm', 'flozcan', '6.5subwoofer44', '4', 'pood', 'gram/square_meter', 'untreated', \"3/16'\", 'verschiedene', '9.8\"', 'day', 'ml/0.5', 'mm/1.46in', 'apulf-ot', '5.8in', '5yyayt', 'strips', 'square-meter', '7.48in', 'bs/100', '30\"', 'smaller', '4.2', 'of', '14mm/0.55in', 'screws', '15cm/5.9in', '68.0', 'js', '0.21,', 'profcut', 'oz/g', 'headset', '12v-dc', 'carmo', '8ohm/15vc', '115mm', '30ml', 'undefined', 'e2627', '79.52\"', '5.7', 'stencil', '2.0', '227mm', 'oz(77ml)', 'tomas', '8.75', 'ierral', '60in', 'teeth', '9/16\"', '38', 'waterproof', 'bushnel', 'i/w', 'display', '91/8\"', 'need', 'sketchbook', '8cm/3.15in', \"44.9cm/17.7in'\", 'mil', 'preclsely', 'rap', '47cm', 'x', 'yoga', '12inch/30cm', '11cm/4.33inch', '13cm/5.1in', 'cm/2.95in', 'uto', 'output5v2a', '15', '(50cm)', 'which', '12*18inch', '10', 'percentage', '10.0', 'm711', '33\"', 'odtio', 'makes', 'ml/5fl', 'fc', 'bottle', 'fl.', '25', 'ml/o.5', 'canvas', '6.35mm', 'tb', '30x', 'plus', '8m', 'fl.oz/15ml', 'mid', 'dome', 'ml/4oz', 'unit=grams', 'junior3-pack', '5oowatt', 'fl.oz(77ml', 'ml/8.5', 'wires', 'days', 'j', 'floz/237ml', 'floz(237', 'bpbaka', 'draw', 'acre', 'tello', 'ml/0.5oz', 'cc', 'ml/1.7', 'new', 'cable', 'ratio', 'pump', 'input', 'context', '00', 'page', 'varies]', '5v', 'unit=kg', 'mr-black', 'ml/8', 'oz/236ml', 'impedance', '000', 'samsung', '36w', 'scroll', 'floz/473', 'ml/oz', 'floz/946ml', 'yellow', '32', '20gbps', 'grams/sheet', 'oz/sq', '100lbs', 'grams/square-meter', 'lite', 'rider', 'grams/m2', 'bracket', 'blst', 'barrel', 'minute', 'bocina', '5w', 'floz/414ml', '08', 'floz(1.89l)', 'bolsas', 'cubic_centimeter', 'r63', 'ml/0.24', 'gal', 'byte', 'ssd', 'function', 'minutes', 'sata', 'ibs.', 'ml/0.51fl.oz.', 'ml/2', 'millifloz', 'ball', '00000', 'floz/10ml', 'ka', 'shock-proof', 'kids', 'aluminum', 'megahertz', 'floz473ml', 'oz/100g', 'solid', 'ib/400g', 'floz1qt546m', 'dc+3.3v0.6a', 'ibsd', 'psi/bar', 'g/lbs', 'cnc', '1/16-3/4', 'oz1l', 'protective', 'almond', 'medium', 'floz/29ml', '3a', 'floz/400', '2-fluid', 'safe', 'pounds@7psi', 'snowballs', 'oz59', 'floz/240ml', 'power', 'as', 'ml/1floz', 'mb', '30.0', 'melt\"', 'schrader', 'ml/8fl.oz.', 'grams/square', 'gigabit', 'floz(325ml)', 'servings', 'jvc', 'oz(20ml)', 'powersupply', 'floz/86mle', 'madefor', 'blue', '186ml', 'built', '13.4', 'syrup', '0.16', 'ml/3.89', 'eternal', 'ml/2fl', 'oc', 'ml/0.67', 'floz(414', 'bls', 'concentrated', 'state', 'hy', 'ml/0.50', 'csm', 'ml(4oz)', 'optical', 'floz(1pt)473ml', 'horntweeter', 'fl.oz/473ml', 'cssa', '900gb', 'oz(355', 'bottles', 'cu/m', 'fl.oz6ml', 'half', 'oz/8.5', 'psi', 'ml/1fl', 'ultra-powerful', 'sml', 'floz/6m', 'floz/400ml', 'woofer', 'oz/300ml', 'floz/473ml', 'leave-in', 'oz/100gr', 'oz/100', 'car', 'oz355ml', 'load', 'length', 'ml/1fl.oz.', 'level', 'ml/0.35', 'floz(340ml)', 'z', 'ozhalf', 'ozhal', 'hog', 'ml/1.01', 'floz35ml', 'skin.', '72.8-gb', 'digital', 'x4', '14', '8-inch', 'lozenge', 'tool', 'collapsed', 'cerohs', 'ib/g', 'aquarium', 'us_quart', 'possible', 'oz/10ml', 'floz710n', 'liters', 'floz1qt/946ml', 'together', 'seed', '56', '12', 'yds/215m', 'grain', 'sas', 'floz(340', 'floz472ml']\n"
     ]
    }
   ],
   "source": [
    "goodUnits= entity_list.copy()\n",
    "badUnits= []\n",
    "\n",
    "for unit in uniqueUnits:\n",
    "    if unit not in entity_list:\n",
    "        badUnits.append(unit)\n",
    "\n",
    "print(len(goodUnits))\n",
    "print(goodUnits)\n",
    "\n",
    "print(len(badUnits))\n",
    "print(badUnits)"
   ]
  },
  {
   "cell_type": "code",
   "execution_count": 418,
   "metadata": {},
   "outputs": [],
   "source": [
    "# df50= df2[df2['entity_unit'].isin(goodUnits)]\n",
    "# print(df50.shape)\n",
    "# df50.head()"
   ]
  },
  {
   "cell_type": "code",
   "execution_count": 419,
   "metadata": {},
   "outputs": [
    {
     "data": {
      "text/plain": [
       "(131175, 4)"
      ]
     },
     "execution_count": 419,
     "metadata": {},
     "output_type": "execute_result"
    }
   ],
   "source": [
    "df2.shape"
   ]
  },
  {
   "cell_type": "code",
   "execution_count": 420,
   "metadata": {},
   "outputs": [
    {
     "name": "stdout",
     "output_type": "stream",
     "text": [
      "31\n"
     ]
    }
   ],
   "source": [
    "unit_map = {\n",
    "    'millimetre': ['mm', 'millimeter', 'millimetres', 'millimeters'],\n",
    "    'milligram': ['mg', 'milligrams'],\n",
    "    'kilowatt': ['kW', 'kilowatts'],\n",
    "    'gallon': ['gal', 'gallons'],\n",
    "    'cubic foot': ['ft³', 'cubic feet'],\n",
    "    'microlitre': ['µL', 'microliter', 'microlitres', 'microliters'],\n",
    "    'imperial gallon': ['imp gal', 'imperial gallons'],\n",
    "    'centilitre': ['cL', 'centiliter', 'centilitres', 'centiliters'],\n",
    "    'millilitre': ['mL', 'milliliter', 'millilitres', 'milliliters'],\n",
    "    'ounce': ['oz', 'ounces'],\n",
    "    'litre': ['L', 'liter', 'litres', 'liters'],\n",
    "    'microgram': ['µg', 'micrograms'],\n",
    "    'kilovolt': ['kV', 'kilovolts'],\n",
    "    'watt': ['W', 'watts'],\n",
    "    'millivolt': ['mV', 'millivolts'],\n",
    "    'centimetre': ['cm', 'centimeter', 'centimetres', 'centimeters'],\n",
    "    'ton': ['t', 'tons'],\n",
    "    'foot': ['ft', 'feet'],\n",
    "    'fluid ounce': ['fl oz', 'fluid ounces'],\n",
    "    'volt': ['V', 'volts'],\n",
    "    'decilitre': ['dL', 'deciliter', 'decilitres', 'deciliters'],\n",
    "    'pint': ['pt', 'pints'],\n",
    "    'quart': ['qt', 'quarts'],\n",
    "    'inch': ['in', 'inches'],\n",
    "    'metre': ['m', 'meter', 'metres', 'meters'],\n",
    "    'yard': ['yd', 'yards'],\n",
    "    'cubic inch': ['in³', 'cubic inches'],\n",
    "    'pound': ['lb', 'pounds'],\n",
    "    'cup': ['cup', 'cups'],\n",
    "    'kilogram': ['kg', 'kilograms'],\n",
    "    'gram': ['g', 'grams']\n",
    "}\n",
    "print(len(unit_map))\n",
    "\n",
    "dfBadUnitsMap= {}\n"
   ]
  },
  {
   "cell_type": "code",
   "execution_count": 421,
   "metadata": {},
   "outputs": [
    {
     "name": "stdout",
     "output_type": "stream",
     "text": [
      "31\n",
      "{'cm': 'centimetre', 'millimeter': 'millimetre', 'centimeter': 'centimetre', 'meter': 'metre', 'grams': 'gram', 'oz': 'ounce', 'pounds': 'pound', 'in': 'inch', 'liter': 'litre', 'milligrams': 'milligram', 'lb': 'pound', 'qt': 'quart', 'volts': 'volt', 'ounces': 'ounce', 'kg': 'kilogram', 'watts': 'watt', 'millimetres': 'millimetre', 'mg': 'milligram', 'feet': 'foot', 'centimetres': 'centimetre', 'kilograms': 'kilogram', 'ft': 'foot', 'millimeters': 'millimetre', 'meters': 'metre', 'centimeters': 'centimetre', 'm': 'metre', 'gallons': 'gallon', 'millilitres': 'millilitre', 'yards': 'yard', 'gal': 'gallon', 'liters': 'litre'}\n",
      "1082\n",
      "['unit', None, 'enough', 'mm', 'floz', 'cm(23.6\")', 'steak', '25.7.cm\"', 'ltd', '', 'wdusti', '2.83inch', 'diameter', 'g', '3.5\"', 'in.', 'determine', 'fluid', '22.2', '3', 'piece', 'newton', '2', 'inches', '24.0', 'cubic', 'available', 'air', 'applicable', 'airflow', 'milliliter', 'absorbant', 'bulb', 'youthsize', 'cut', '1.37', 'chicken', '60hz', 'numerical_value', 's6%stronge', '5x7', 'cm\",', 'fluid_ounce', '3.14/8,', 'envirocore', '13\"', 'gramco', '6.0', 'not', 'whole', '5.0', '13.8', '110cm', 'aey', 'fl0z', '20.5cm', 'ithum', 'found', '15.0', 'r3', 'soce', 'numerical', '28.0', 'cm³', 'gigabyte', 'second', 'hd', 'ibs', 'fl.oz.', 'value]', 'potato', 'hints', 'bar', 'bend', '2.78', 'pet', 'in/40', '18\"', 'ml', 'user', 'net', 'in/4.0', '24%', 'percent', 'fl', 'provided', 'l85', 'color', '[voltage', 'horsepower', 'packets', '17.5', 'preductoffrance', '\"', '6cm', 'and', 'cm(35,4\")', '23', 'specified', 'gnl', '40', 'compact', 'salad', 'ridgid', '&sour', 'avidpow', 'x18', 'ampere', '5', '8.19d', '41.25-47.25', '260cn', '03', 'food', 'deli', 'b/m2', 'ml/1fl.oz', 'degree', 'sleep', 'large', 'floz946ml', '100', 'pack', '20.0', 'mutant', 'coffee', 'floz.', '4mm(thickness)', 'mango', '18', 'material\"', 'lers/simples', 'billion', 'btu', 'gm', 'adult', 'trakitri', '120.0', 'capsule', '48', 'ml/0.60fl.oz.', 'rpm', 'mushroom', 'e41egs', '5cm', 'bounces', 'hor', '195', 'gsm', 'depth', 'wuxga2,000100', '53125', 'in/cm', '.', 'floz(473ml)', 'softchews', 'to', 'double', '45cm', '10.15d', 'brushless', '113g', '1cm', 'tablet', '30cm', '{30.0}', 'arty', 'floz330', '40mm', 'provide', 'oz59ml', 'soups&sauces', '150cm/59inch', '9.8', '136mm', 'l', 'potaocrs', 'lyric', '300ml', 'lbs', 'floz330ml', '2x', 'tile', 'a312/', 'million', 'pixel', 'fast-absorbing', '10.2\"', 'oz.', 'hangers', 'cm²', 'data', 'scoops', 'sq', 'btus', '4100', '+', 'speed', '8.1in', '43mm/1.69inch', 'cm40.4', '20cm', 'dollar', 'amp', '322-17', 'dre', 'closed:', 'pcs', 'batteries', 'bags', 'design', 'government', 'exos7e8', '1f1908n', 'blade', 'fl.oz', 'style', 'double-sided', 'cans', 'oz/ml', 'ro', '2.0e', '42cm', 'miom', 'carcam', '12.7\"', 'high', 'floz33ml', 'unknown', 'epsom', 'rfx0_e', 'cm²\",', 'kabab', '200', 'mile', '17.63\"', 'cubic_inch', 'grammes', 'e8.', 'wh', 'calopies', '184', 'made', '162', 'left', 'imported', '7.59d', '55085', 'ca', '20', '0,021', 'n/a', 'resealable', 'unit:', 'pages', 'cm/8.26in', '17.5cm', 'special', 'handle', 'in/12.6', 'cm/12in', 'not_applicable', 'cfm/watt', 'drops', '40%', 'calorie', 'sheets', 'luggage', 'home', 'work', 'ac90-265v', 'handheld', 'size', 'floz(355ml', 'oz/', 'floating_integer', 'height', 'kilocalories', '20w', 'box', 'gigabytes', 'bag', 'lumens', 'hour', '8cm/3.2\"', '210cm', 'cms', 'tl/', 'ok', '24t', 'floz355', 'mah', 'milliampere-hour', 'tmakita', 'determined', 'cm28.0', 'in/49.0', 'o', '161250va0', 'graphics', '13cm/5inch', 'cm3', 'oz(473', '0', '50.0', 'square', 'umens', 'here', 'miles', '-ej', '0.8', 'led', '&cheese', 'cm24.8', 'floz355ml', '6.7in', 'wisbes', '3.51n', 'er', 'terabyte', 'clarify', 'grey', '3in', 'froppe', '3x3m', 'skil,...', 'btu/h', '**26.5', '5.9,', '7mm', '8mm', 'ml/1oz', 'calories', '28\"', 'then', 'floz/710ml', 'x1', 'coins', '.4cm', '20.7cm/8.1', 'determinable', 'k', '0.1inch', 'pieces', 'me', 'izeeker', 'lbs/705g', 'android10.0', 'cu.t', 'fat', 'k230v', 'or', 'fiches', '43/16\"', '/', 'gb', '14mm', '220v-5400w25a', 'cm/2.36in', 'cm/inch', '300.0', 'in/28.0cm', '1181', '127mm', 'filters', 'ir', 'dog', 'smartest', 'teccpo', 'e.g.,', 'antennas', 'floz(355ml)', 'times', 'm³', '178mm', 'integer', '41\"', 'company', 'k-cuppods', 'omato', 'rotation', '29', '0.08a', '4-18-288', '11.0cm', 'from40-120lb', 'hours', 'shcts', 'floz1p1473ml', 'double_thickness', 'singlebrgits', '54', '90mm', '30cm\",', '240', 'cm/s²', 'cac', 'resuittast', 'photos', 'ruler', 'light', 'ce', 'playstation', '9.5\"', 'compatible', 'mm/inch', '-257mm', 'ychika', 'wood', '7.25', 'e375474', 'ib', 'g/m2', 'in/36', '3.7in)', 'makita', 'micromillimeter', 'cfm', 'thousand', '12.76w', '1', '72\"', '87cm', 'gps', 'alphasonik', 'packages', '7.5', '22cm/8.6in', 'i', 'cm.', 'base', 'een', '123cm', 'beam', 'cm/4.3in', 'popthe', 'tosttos', 'charge', 'morice', 'serving', '95mm', 'jhofa', '0.7cm/0.27in', '5.1cm', 'veodymiun', '0.8cm/0.3in', '3.5cm', 'acrilico', '/1.42\".', '4.1\"**', ',', 'ml4oz', 'lumen', 'ml/o.60fl.oz.', 'family', 'three', '52mm', 'kcal', 'mic', 'micrometre', '6.3in', 'aa', '29cm', 'r/min', 'cm/in', 'they', '34', 'us', 'cuadro', 'efficiency', '15cm/5.91\"', 'a', '36', 'rug', '3x5m', 'cardvr', '1.8', 'micrometer', 'information', 'energy', 'be', 'in/34', '24mm', 'mph', '6', '55cm', \"you'd\", 'lnch', '7.0', 'nanogram', '103.5', '-ans', 'defined', '29.0', '90.0,', 'no', '20cm/7.87in', '4.0', '1.3inch', 'cc/ml', 'milliamp', 'milliampere', 'in/36.0cm', '15in', 'gr', 'adhesive', 'iov', 'performancee', 'dia', 'your', 'decimal', 'ralevce', '95', '9.53d', 'f8\"4', '2.2inch', 'degrees', '4.0m', '11.9,', 'cm/2.76in', '12cm/4.72in', 'oz60', 'l8s', '350,', 'count', 'floz355m', '58.0', 'ram', '1.6]', '2in', '2cm', '5cm/1.97in', 'can', 'oz80g', '200pcs/set', '8cm', 'ml/3.71', 'who', '5in', 'mr.go', '17mm', 'x16.9', 'easy', 'kiss', 'qqty1', 'spin', 'm24', '-off', 'microfarad', 'journeys', '22mm', 'oz(355ml)', '28cm', '55mm', 'for', 'details', '60x200cm', 'sinocmp', \"16'\", '(ml)', '20colors', 'silber', 'lozenges', 'sheet', 'complex', 'toshoot', '6.5cm', 'uueh', '60.0', '5**', 'in/35.0', 'dc10~30v', 'letter', 'max', 'clear', 'xbox', '7', '10\"', 'lb/sheet', '2.5x2.5m', 'cauno', 'capacity', '8\"', 'trif', '*', '41cm', 'choking', 'mrc', '*please', 'weight', 'green', '16in/', '60cm', 'moooon', '15mm', '3/5', 'quality', '24cm', 'h', '200cm', '24x19x8cm', 'in/95', 'keto', '100.0', '25.5cm/10in', 'set-up', '13.6cm', 'filter', '7.6', 'cubic_foot', 'milliwatt', 'mm/5.5in', 'cm/3.4in', 'millile', 'nl', 'floz/207ml', 'cubic_meter', '13500', 'fregc', '2.5ft', 'soap', 'cm/4.2', '18/8', '2.2k', '41', 'mooe3-sntry', 'loads', '19mm', 'ml(3.9', 'enjoy', '7in', '4.7', 'ovelmp', 'ml0.25fl.oz', '300w', 'coin', 'with', 'sq.ft', 'line', 'oraa', '-rc', '/unit', 'bars', '150mm', '7cm', '10x', 'cm/18', 'cm(16.1)', '7.50', '5.7cm', 'pcsd', '?', 'mm3', 'onservadores', 'kilometer', 'sunshine', 'vac', 'cylinder', '(15.88cm)', 'poured', 'save', 'r', 'atx', '&', 'walimex', 'sche', 'helle', '5.19inch', 'hold', 'adaptor', '**01.5in**', '130cm/', 'nits', '24\"', '(114mm)', 'fish', '2.625', 'candles', 'oz/200ml', '6.30\"', 'lightpack20-21', '9.5', '40\"', 'voltage', 'packs', \"uno'\", 'm3/h', 'strength', 'divider', 'ips', '20\"', 'units', '19.7', 'sq.ft.', '12\"', '5.5in', 'set', '108inch', \"k.o.4x's\", '31cm', 'truslyour', 'b', 'dc12v', 'cards', '1500pcs85x50cm', '2\"', '35mm/1.37in', 'planning', 'n/cm', 'premier', 'fx4', 'proof', '1.7', 'w', 'this', 'degree_fahrenheit', 'mm³', 'plates', 'pulgadas', 'no_unit', '47mm71.85in', 'gold', '60', 'mm/0.55in', 's', '8cm!', 'fan', 'assembly', '8.0', 'jolly', 'ml/net', '1.7inch', '4.4', 'picture-page', 'year', 'afc', 'ml/8fl', '100cm', 'fully', 'the', 'more', 'bench', 'value', 'coral', 'ultra', 'nch', 'hnc', 'b+', '30.7', '**', 'c', '2.5cm(8pcs)', '2.25x3.5\"', 'u.s.qt(1l)', 'eadas-elbow', 'piece(s)', '54mm', 'tata', 'in/150', 'pods', 'hack', '1.8\"', 'of10-60,so', 'lbtimkenload', 'mm/1.68in', 'mmlt', '120', '12.0', 'bullet', '7,8', 'vdc', 'usb', 'inch\",', 'none', '5.7in', 'unit=cup', 'cm/8.66in', '{unit}', '5mm', 'flozcan', '6.5subwoofer44', '4', 'pood', 'gram/square_meter', 'untreated', \"3/16'\", 'verschiedene', '9.8\"', 'day', 'ml/0.5', 'mm/1.46in', 'apulf-ot', '5.8in', '5yyayt', 'strips', 'square-meter', '7.48in', 'bs/100', '30\"', 'smaller', '4.2', 'of', '14mm/0.55in', 'screws', '15cm/5.9in', '68.0', 'js', '0.21,', 'profcut', 'oz/g', 'headset', '12v-dc', 'carmo', '8ohm/15vc', '115mm', '30ml', 'undefined', 'e2627', '79.52\"', '5.7', 'stencil', '2.0', '227mm', 'oz(77ml)', 'tomas', '8.75', 'ierral', '60in', 'teeth', '9/16\"', '38', 'waterproof', 'bushnel', 'i/w', 'display', '91/8\"', 'need', 'sketchbook', '8cm/3.15in', \"44.9cm/17.7in'\", 'mil', 'preclsely', 'rap', '47cm', 'x', 'yoga', '12inch/30cm', '11cm/4.33inch', '13cm/5.1in', 'cm/2.95in', 'uto', 'output5v2a', '15', '(50cm)', 'which', '12*18inch', '10', 'percentage', '10.0', 'm711', '33\"', 'odtio', 'makes', 'ml/5fl', 'fc', 'bottle', 'fl.', '25', 'ml/o.5', 'canvas', '6.35mm', 'tb', '30x', 'plus', '8m', 'fl.oz/15ml', 'mid', 'dome', 'ml/4oz', 'unit=grams', 'junior3-pack', '5oowatt', 'fl.oz(77ml', 'ml/8.5', 'wires', 'days', 'j', 'floz/237ml', 'floz(237', 'bpbaka', 'draw', 'acre', 'tello', 'ml/0.5oz', 'cc', 'ml/1.7', 'new', 'cable', 'ratio', 'pump', 'input', 'context', '00', 'page', 'varies]', '5v', 'unit=kg', 'mr-black', 'ml/8', 'oz/236ml', 'impedance', '000', 'samsung', '36w', 'scroll', 'floz/473', 'ml/oz', 'floz/946ml', 'yellow', '32', '20gbps', 'grams/sheet', 'oz/sq', '100lbs', 'grams/square-meter', 'lite', 'rider', 'grams/m2', 'bracket', 'blst', 'barrel', 'minute', 'bocina', '5w', 'floz/414ml', '08', 'floz(1.89l)', 'bolsas', 'cubic_centimeter', 'r63', 'ml/0.24', 'byte', 'ssd', 'function', 'minutes', 'sata', 'ibs.', 'ml/0.51fl.oz.', 'ml/2', 'millifloz', 'ball', '00000', 'floz/10ml', 'ka', 'shock-proof', 'kids', 'aluminum', 'megahertz', 'floz473ml', 'oz/100g', 'solid', 'ib/400g', 'floz1qt546m', 'dc+3.3v0.6a', 'ibsd', 'psi/bar', 'g/lbs', 'cnc', '1/16-3/4', 'oz1l', 'protective', 'almond', 'medium', 'floz/29ml', '3a', 'floz/400', '2-fluid', 'safe', 'pounds@7psi', 'snowballs', 'oz59', 'floz/240ml', 'power', 'as', 'ml/1floz', 'mb', '30.0', 'melt\"', 'schrader', 'ml/8fl.oz.', 'grams/square', 'gigabit', 'floz(325ml)', 'servings', 'jvc', 'oz(20ml)', 'powersupply', 'floz/86mle', 'madefor', 'blue', '186ml', 'built', '13.4', 'syrup', '0.16', 'ml/3.89', 'eternal', 'ml/2fl', 'oc', 'ml/0.67', 'floz(414', 'bls', 'concentrated', 'state', 'hy', 'ml/0.50', 'csm', 'ml(4oz)', 'optical', 'floz(1pt)473ml', 'horntweeter', 'fl.oz/473ml', 'cssa', '900gb', 'oz(355', 'bottles', 'cu/m', 'fl.oz6ml', 'half', 'oz/8.5', 'psi', 'ml/1fl', 'ultra-powerful', 'sml', 'floz/6m', 'floz/400ml', 'woofer', 'oz/300ml', 'floz/473ml', 'leave-in', 'oz/100gr', 'oz/100', 'car', 'oz355ml', 'load', 'length', 'ml/1fl.oz.', 'level', 'ml/0.35', 'floz(340ml)', 'z', 'ozhalf', 'ozhal', 'hog', 'ml/1.01', 'floz35ml', 'skin.', '72.8-gb', 'digital', 'x4', '14', '8-inch', 'lozenge', 'tool', 'collapsed', 'cerohs', 'ib/g', 'aquarium', 'us_quart', 'possible', 'oz/10ml', 'floz710n', 'floz1qt/946ml', 'together', 'seed', '56', '12', 'yds/215m', 'grain', 'sas', 'floz(340', 'floz472ml']\n"
     ]
    }
   ],
   "source": [
    "for unit in badUnits:\n",
    "    # print(unit)\n",
    "    for key, value in unit_map.items():\n",
    "        if unit in value:\n",
    "            dfBadUnitsMap[unit]= key\n",
    "            if unit in badUnits:\n",
    "                badUnits.remove(unit)\n",
    "            \n",
    "print(len(dfBadUnitsMap))\n",
    "print(dfBadUnitsMap)\n",
    "print(len(badUnits))\n",
    "print(badUnits)"
   ]
  },
  {
   "cell_type": "code",
   "execution_count": 422,
   "metadata": {},
   "outputs": [],
   "source": [
    "# # Get unique values\n",
    "# unique_values = set(dfBadUnitsMap.values())\n",
    "\n",
    "# for v in unique_values:\n",
    "#     if v not in goodUnits:\n",
    "#         print(v)\n",
    "\n",
    "# # Count unique values\n",
    "# count_unique = len(unique_values)\n",
    "# print(count_unique)"
   ]
  },
  {
   "cell_type": "code",
   "execution_count": 423,
   "metadata": {},
   "outputs": [
    {
     "name": "stdout",
     "output_type": "stream",
     "text": [
      "(131175, 4)\n"
     ]
    }
   ],
   "source": [
    "# df49= df2.copy()\n",
    "\n",
    "# for key, value in dfBadUnitsMap.items():\n",
    "#     df49['entity_unit']= df49['entity_unit'].replace(r'\\b{}\\b'.format(key), value, regex=True)\n",
    "\n",
    "# df48= df49[df49['entity_unit'].isin(goodUnits)]\n",
    "# print(df48.shape)\n",
    "# df48.head()\n",
    "\n",
    "# df49= df2.copy()\n",
    "\n",
    "\n",
    "\n",
    "# Step 1: Replace values in 'entity_unit' column using dfBadUnitsMap\n",
    "for key, value in dfBadUnitsMap.items():\n",
    "    df2['entity_unit'] = df2['entity_unit'].replace(r'\\b{}\\b'.format(key), value, regex=True)\n",
    "\n",
    "# # Step 2: Filter the DataFrame to include only rows where 'entity_unit' is in goodUnits\n",
    "# df3 = df2[df2['entity_unit'].isin(goodUnits)]\n",
    "# print(df3.shape)\n",
    "\n",
    "print(df2.shape)"
   ]
  },
  {
   "cell_type": "code",
   "execution_count": 425,
   "metadata": {},
   "outputs": [
    {
     "name": "stdout",
     "output_type": "stream",
     "text": [
      "1104\n",
      "['inch' 'centimetre' 'unit' ... 'sas' 'floz(340' 'floz472ml']\n"
     ]
    }
   ],
   "source": [
    "df2.head(20)\n",
    "print(len(df2['entity_unit'].unique()))\n",
    "print(df2['entity_unit'].unique())"
   ]
  },
  {
   "cell_type": "code",
   "execution_count": 426,
   "metadata": {},
   "outputs": [
    {
     "name": "stdout",
     "output_type": "stream",
     "text": [
      "['unit', None, 'enough', 'mm', 'floz', 'cm(23.6\")', 'steak', '25.7.cm\"', 'ltd', '', 'wdusti', '2.83inch', 'diameter', 'g', '3.5\"', 'in.', 'determine', 'fluid', '22.2', '3', 'piece', 'newton', '2', 'inches', '24.0', 'cubic', 'available', 'air', 'applicable', 'airflow', 'milliliter', 'absorbant', 'bulb', 'youthsize', 'cut', '1.37', 'chicken', '60hz', 'numerical_value', 's6%stronge', '5x7', 'cm\",', 'fluid_ounce', '3.14/8,', 'envirocore', '13\"', 'gramco', '6.0', 'not', 'whole', '5.0', '13.8', '110cm', 'aey', 'fl0z', '20.5cm', 'ithum', 'found', '15.0', 'r3', 'soce', 'numerical', '28.0', 'cm³', 'gigabyte', 'second', 'hd', 'ibs', 'fl.oz.', 'value]', 'potato', 'hints', 'bar', 'bend', '2.78', 'pet', 'in/40', '18\"', 'ml', 'user', 'net', 'in/4.0', '24%', 'percent', 'fl', 'provided', 'l85', 'color', '[voltage', 'horsepower', 'packets', '17.5', 'preductoffrance', '\"', '6cm', 'and', 'cm(35,4\")', '23', 'specified', 'gnl', '40', 'compact', 'salad', 'ridgid', '&sour', 'avidpow', 'x18', 'ampere', '5', '8.19d', '41.25-47.25', '260cn', '03', 'food', 'deli', 'b/m2', 'ml/1fl.oz', 'degree', 'sleep', 'large', 'floz946ml', '100', 'pack', '20.0', 'mutant', 'coffee', 'floz.', '4mm(thickness)', 'mango', '18', 'material\"', 'lers/simples', 'billion', 'btu', 'gm', 'adult', 'trakitri', '120.0', 'capsule', '48', 'ml/0.60fl.oz.', 'rpm', 'mushroom', 'e41egs', '5cm', 'bounces', 'hor', '195', 'gsm', 'depth', 'wuxga2,000100', '53125', 'in/cm', '.', 'floz(473ml)', 'softchews', 'to', 'double', '45cm', '10.15d', 'brushless', '113g', '1cm', 'tablet', '30cm', '{30.0}', 'arty', 'floz330', '40mm', 'provide', 'oz59ml', 'soups&sauces', '150cm/59inch', '9.8', '136mm', 'l', 'potaocrs', 'lyric', '300ml', 'lbs', 'floz330ml', '2x', 'tile', 'a312/', 'million', 'pixel', 'fast-absorbing', '10.2\"', 'oz.', 'hangers', 'cm²', 'data', 'scoops', 'sq', 'btus', '4100', '+', 'speed', '8.1in', '43mm/1.69inch', 'cm40.4', '20cm', 'dollar', 'amp', '322-17', 'dre', 'closed:', 'pcs', 'batteries', 'bags', 'design', 'government', 'exos7e8', '1f1908n', 'blade', 'fl.oz', 'style', 'double-sided', 'cans', 'oz/ml', 'ro', '2.0e', '42cm', 'miom', 'carcam', '12.7\"', 'high', 'floz33ml', 'unknown', 'epsom', 'rfx0_e', 'cm²\",', 'kabab', '200', 'mile', '17.63\"', 'cubic_inch', 'grammes', 'e8.', 'wh', 'calopies', '184', 'made', '162', 'left', 'imported', '7.59d', '55085', 'ca', '20', '0,021', 'n/a', 'resealable', 'unit:', 'pages', 'cm/8.26in', '17.5cm', 'special', 'handle', 'in/12.6', 'cm/12in', 'not_applicable', 'cfm/watt', 'drops', '40%', 'calorie', 'sheets', 'luggage', 'home', 'work', 'ac90-265v', 'handheld', 'size', 'floz(355ml', 'oz/', 'floating_integer', 'height', 'kilocalories', '20w', 'box', 'gigabytes', 'bag', 'lumens', 'hour', '8cm/3.2\"', '210cm', 'cms', 'tl/', 'ok', '24t', 'floz355', 'mah', 'milliampere-hour', 'tmakita', 'determined', 'cm28.0', 'in/49.0', 'o', '161250va0', 'graphics', '13cm/5inch', 'cm3', 'oz(473', '0', '50.0', 'square', 'umens', 'here', 'miles', '-ej', '0.8', 'led', '&cheese', 'cm24.8', 'floz355ml', '6.7in', 'wisbes', '3.51n', 'er', 'terabyte', 'clarify', 'grey', '3in', 'froppe', '3x3m', 'skil,...', 'btu/h', '**26.5', '5.9,', '7mm', '8mm', 'ml/1oz', 'calories', '28\"', 'then', 'floz/710ml', 'x1', 'coins', '.4cm', '20.7cm/8.1', 'determinable', 'k', '0.1inch', 'pieces', 'me', 'izeeker', 'lbs/705g', 'android10.0', 'cu.t', 'fat', 'k230v', 'or', 'fiches', '43/16\"', '/', 'gb', '14mm', '220v-5400w25a', 'cm/2.36in', 'cm/inch', '300.0', 'in/28.0cm', '1181', '127mm', 'filters', 'ir', 'dog', 'smartest', 'teccpo', 'e.g.,', 'antennas', 'floz(355ml)', 'times', 'm³', '178mm', 'integer', '41\"', 'company', 'k-cuppods', 'omato', 'rotation', '29', '0.08a', '4-18-288', '11.0cm', 'from40-120lb', 'hours', 'shcts', 'floz1p1473ml', 'double_thickness', 'singlebrgits', '54', '90mm', '30cm\",', '240', 'cm/s²', 'cac', 'resuittast', 'photos', 'ruler', 'light', 'ce', 'playstation', '9.5\"', 'compatible', 'mm/inch', '-257mm', 'ychika', 'wood', '7.25', 'e375474', 'ib', 'g/m2', 'in/36', '3.7in)', 'makita', 'micromillimeter', 'cfm', 'thousand', '12.76w', '1', '72\"', '87cm', 'gps', 'alphasonik', 'packages', '7.5', '22cm/8.6in', 'i', 'cm.', 'base', 'een', '123cm', 'beam', 'cm/4.3in', 'popthe', 'tosttos', 'charge', 'morice', 'serving', '95mm', 'jhofa', '0.7cm/0.27in', '5.1cm', 'veodymiun', '0.8cm/0.3in', '3.5cm', 'acrilico', '/1.42\".', '4.1\"**', ',', 'ml4oz', 'lumen', 'ml/o.60fl.oz.', 'family', 'three', '52mm', 'kcal', 'mic', 'micrometre', '6.3in', 'aa', '29cm', 'r/min', 'cm/in', 'they', '34', 'us', 'cuadro', 'efficiency', '15cm/5.91\"', 'a', '36', 'rug', '3x5m', 'cardvr', '1.8', 'micrometer', 'information', 'energy', 'be', 'in/34', '24mm', 'mph', '6', '55cm', \"you'd\", 'lnch', '7.0', 'nanogram', '103.5', '-ans', 'defined', '29.0', '90.0,', 'no', '20cm/7.87in', '4.0', '1.3inch', 'cc/ml', 'milliamp', 'milliampere', 'in/36.0cm', '15in', 'gr', 'adhesive', 'iov', 'performancee', 'dia', 'your', 'decimal', 'ralevce', '95', '9.53d', 'f8\"4', '2.2inch', 'degrees', '4.0m', '11.9,', 'cm/2.76in', '12cm/4.72in', 'oz60', 'l8s', '350,', 'count', 'floz355m', '58.0', 'ram', '1.6]', '2in', '2cm', '5cm/1.97in', 'can', 'oz80g', '200pcs/set', '8cm', 'ml/3.71', 'who', '5in', 'mr.go', '17mm', 'x16.9', 'easy', 'kiss', 'qqty1', 'spin', 'm24', '-off', 'microfarad', 'journeys', '22mm', 'oz(355ml)', '28cm', '55mm', 'for', 'details', '60x200cm', 'sinocmp', \"16'\", '(ml)', '20colors', 'silber', 'lozenges', 'sheet', 'complex', 'toshoot', '6.5cm', 'uueh', '60.0', '5**', 'in/35.0', 'dc10~30v', 'letter', 'max', 'clear', 'xbox', '7', '10\"', 'lb/sheet', '2.5x2.5m', 'cauno', 'capacity', '8\"', 'trif', '*', '41cm', 'choking', 'mrc', '*please', 'weight', 'green', '16in/', '60cm', 'moooon', '15mm', '3/5', 'quality', '24cm', 'h', '200cm', '24x19x8cm', 'in/95', 'keto', '100.0', '25.5cm/10in', 'set-up', '13.6cm', 'filter', '7.6', 'cubic_foot', 'milliwatt', 'mm/5.5in', 'cm/3.4in', 'millile', 'nl', 'floz/207ml', 'cubic_meter', '13500', 'fregc', '2.5ft', 'soap', 'cm/4.2', '18/8', '2.2k', '41', 'mooe3-sntry', 'loads', '19mm', 'ml(3.9', 'enjoy', '7in', '4.7', 'ovelmp', 'ml0.25fl.oz', '300w', 'coin', 'with', 'sq.ft', 'line', 'oraa', '-rc', '/unit', 'bars', '150mm', '7cm', '10x', 'cm/18', 'cm(16.1)', '7.50', '5.7cm', 'pcsd', '?', 'mm3', 'onservadores', 'kilometer', 'sunshine', 'vac', 'cylinder', '(15.88cm)', 'poured', 'save', 'r', 'atx', '&', 'walimex', 'sche', 'helle', '5.19inch', 'hold', 'adaptor', '**01.5in**', '130cm/', 'nits', '24\"', '(114mm)', 'fish', '2.625', 'candles', 'oz/200ml', '6.30\"', 'lightpack20-21', '9.5', '40\"', 'voltage', 'packs', \"uno'\", 'm3/h', 'strength', 'divider', 'ips', '20\"', 'units', '19.7', 'sq.ft.', '12\"', '5.5in', 'set', '108inch', \"k.o.4x's\", '31cm', 'truslyour', 'b', 'dc12v', 'cards', '1500pcs85x50cm', '2\"', '35mm/1.37in', 'planning', 'n/cm', 'premier', 'fx4', 'proof', '1.7', 'w', 'this', 'degree_fahrenheit', 'mm³', 'plates', 'pulgadas', 'no_unit', '47mm71.85in', 'gold', '60', 'mm/0.55in', 's', '8cm!', 'fan', 'assembly', '8.0', 'jolly', 'ml/net', '1.7inch', '4.4', 'picture-page', 'year', 'afc', 'ml/8fl', '100cm', 'fully', 'the', 'more', 'bench', 'value', 'coral', 'ultra', 'nch', 'hnc', 'b+', '30.7', '**', 'c', '2.5cm(8pcs)', '2.25x3.5\"', 'u.s.qt(1l)', 'eadas-elbow', 'piece(s)', '54mm', 'tata', 'in/150', 'pods', 'hack', '1.8\"', 'of10-60,so', 'lbtimkenload', 'mm/1.68in', 'mmlt', '120', '12.0', 'bullet', '7,8', 'vdc', 'usb', 'inch\",', 'none', '5.7in', 'unit=cup', 'cm/8.66in', '{unit}', '5mm', 'flozcan', '6.5subwoofer44', '4', 'pood', 'gram/square_meter', 'untreated', \"3/16'\", 'verschiedene', '9.8\"', 'day', 'ml/0.5', 'mm/1.46in', 'apulf-ot', '5.8in', '5yyayt', 'strips', 'square-meter', '7.48in', 'bs/100', '30\"', 'smaller', '4.2', 'of', '14mm/0.55in', 'screws', '15cm/5.9in', '68.0', 'js', '0.21,', 'profcut', 'oz/g', 'headset', '12v-dc', 'carmo', '8ohm/15vc', '115mm', '30ml', 'undefined', 'e2627', '79.52\"', '5.7', 'stencil', '2.0', '227mm', 'oz(77ml)', 'tomas', '8.75', 'ierral', '60in', 'teeth', '9/16\"', '38', 'waterproof', 'bushnel', 'i/w', 'display', '91/8\"', 'need', 'sketchbook', '8cm/3.15in', \"44.9cm/17.7in'\", 'mil', 'preclsely', 'rap', '47cm', 'x', 'yoga', '12inch/30cm', '11cm/4.33inch', '13cm/5.1in', 'cm/2.95in', 'uto', 'output5v2a', '15', '(50cm)', 'which', '12*18inch', '10', 'percentage', '10.0', 'm711', '33\"', 'odtio', 'makes', 'ml/5fl', 'fc', 'bottle', 'fl.', '25', 'ml/o.5', 'canvas', '6.35mm', 'tb', '30x', 'plus', '8m', 'fl.oz/15ml', 'mid', 'dome', 'ml/4oz', 'unit=grams', 'junior3-pack', '5oowatt', 'fl.oz(77ml', 'ml/8.5', 'wires', 'days', 'j', 'floz/237ml', 'floz(237', 'bpbaka', 'draw', 'acre', 'tello', 'ml/0.5oz', 'cc', 'ml/1.7', 'new', 'cable', 'ratio', 'pump', 'input', 'context', '00', 'page', 'varies]', '5v', 'unit=kg', 'mr-black', 'ml/8', 'oz/236ml', 'impedance', '000', 'samsung', '36w', 'scroll', 'floz/473', 'ml/oz', 'floz/946ml', 'yellow', '32', '20gbps', 'grams/sheet', 'oz/sq', '100lbs', 'grams/square-meter', 'lite', 'rider', 'grams/m2', 'bracket', 'blst', 'barrel', 'minute', 'bocina', '5w', 'floz/414ml', '08', 'floz(1.89l)', 'bolsas', 'cubic_centimeter', 'r63', 'ml/0.24', 'byte', 'ssd', 'function', 'minutes', 'sata', 'ibs.', 'ml/0.51fl.oz.', 'ml/2', 'millifloz', 'ball', '00000', 'floz/10ml', 'ka', 'shock-proof', 'kids', 'aluminum', 'megahertz', 'floz473ml', 'oz/100g', 'solid', 'ib/400g', 'floz1qt546m', 'dc+3.3v0.6a', 'ibsd', 'psi/bar', 'g/lbs', 'cnc', '1/16-3/4', 'oz1l', 'protective', 'almond', 'medium', 'floz/29ml', '3a', 'floz/400', '2-fluid', 'safe', 'pounds@7psi', 'snowballs', 'oz59', 'floz/240ml', 'power', 'as', 'ml/1floz', 'mb', '30.0', 'melt\"', 'schrader', 'ml/8fl.oz.', 'grams/square', 'gigabit', 'floz(325ml)', 'servings', 'jvc', 'oz(20ml)', 'powersupply', 'floz/86mle', 'madefor', 'blue', '186ml', 'built', '13.4', 'syrup', '0.16', 'ml/3.89', 'eternal', 'ml/2fl', 'oc', 'ml/0.67', 'floz(414', 'bls', 'concentrated', 'state', 'hy', 'ml/0.50', 'csm', 'ml(4oz)', 'optical', 'floz(1pt)473ml', 'horntweeter', 'fl.oz/473ml', 'cssa', '900gb', 'oz(355', 'bottles', 'cu/m', 'fl.oz6ml', 'half', 'oz/8.5', 'psi', 'ml/1fl', 'ultra-powerful', 'sml', 'floz/6m', 'floz/400ml', 'woofer', 'oz/300ml', 'floz/473ml', 'leave-in', 'oz/100gr', 'oz/100', 'car', 'oz355ml', 'load', 'length', 'ml/1fl.oz.', 'level', 'ml/0.35', 'floz(340ml)', 'z', 'ozhalf', 'ozhal', 'hog', 'ml/1.01', 'floz35ml', 'skin.', '72.8-gb', 'digital', 'x4', '14', '8-inch', 'lozenge', 'tool', 'collapsed', 'cerohs', 'ib/g', 'aquarium', 'us_quart', 'possible', 'oz/10ml', 'floz710n', 'floz1qt/946ml', 'together', 'seed', '56', '12', 'yds/215m', 'grain', 'sas', 'floz(340', 'floz472ml']\n",
      "['unit', 'enough', 'mm', 'floz', 'cm(23.6\")', 'steak', '25.7.cm\"', 'ltd', '', 'wdusti', '2.83inch', 'diameter', 'g', '3.5\"', 'in.', 'determine', 'fluid', '22.2', '3', 'piece', 'newton', '2', 'inches', '24.0', 'cubic', 'available', 'air', 'applicable', 'airflow', 'milliliter', 'absorbant', 'bulb', 'youthsize', 'cut', '1.37', 'chicken', '60hz', 'numerical_value', 's6%stronge', '5x7', 'cm\",', 'fluid_ounce', '3.14/8,', 'envirocore', '13\"', 'gramco', '6.0', 'not', 'whole', '5.0', '13.8', '110cm', 'aey', 'fl0z', '20.5cm', 'ithum', 'found', '15.0', 'r3', 'soce', 'numerical', '28.0', 'cm³', 'gigabyte', 'second', 'hd', 'ibs', 'fl.oz.', 'value]', 'potato', 'hints', 'bar', 'bend', '2.78', 'pet', 'in/40', '18\"', 'ml', 'user', 'net', 'in/4.0', '24%', 'percent', 'fl', 'provided', 'l85', 'color', '[voltage', 'horsepower', 'packets', '17.5', 'preductoffrance', '\"', '6cm', 'and', 'cm(35,4\")', '23', 'specified', 'gnl', '40', 'compact', 'salad', 'ridgid', '&sour', 'avidpow', 'x18', 'ampere', '5', '8.19d', '41.25-47.25', '260cn', '03', 'food', 'deli', 'b/m2', 'ml/1fl.oz', 'degree', 'sleep', 'large', 'floz946ml', '100', 'pack', '20.0', 'mutant', 'coffee', 'floz.', '4mm(thickness)', 'mango', '18', 'material\"', 'lers/simples', 'billion', 'btu', 'gm', 'adult', 'trakitri', '120.0', 'capsule', '48', 'ml/0.60fl.oz.', 'rpm', 'mushroom', 'e41egs', '5cm', 'bounces', 'hor', '195', 'gsm', 'depth', 'wuxga2,000100', '53125', 'in/cm', '.', 'floz(473ml)', 'softchews', 'to', 'double', '45cm', '10.15d', 'brushless', '113g', '1cm', 'tablet', '30cm', '{30.0}', 'arty', 'floz330', '40mm', 'provide', 'oz59ml', 'soups&sauces', '150cm/59inch', '9.8', '136mm', 'l', 'potaocrs', 'lyric', '300ml', 'lbs', 'floz330ml', '2x', 'tile', 'a312/', 'million', 'pixel', 'fast-absorbing', '10.2\"', 'oz.', 'hangers', 'cm²', 'data', 'scoops', 'sq', 'btus', '4100', '+', 'speed', '8.1in', '43mm/1.69inch', 'cm40.4', '20cm', 'dollar', 'amp', '322-17', 'dre', 'closed:', 'pcs', 'batteries', 'bags', 'design', 'government', 'exos7e8', '1f1908n', 'blade', 'fl.oz', 'style', 'double-sided', 'cans', 'oz/ml', 'ro', '2.0e', '42cm', 'miom', 'carcam', '12.7\"', 'high', 'floz33ml', 'unknown', 'epsom', 'rfx0_e', 'cm²\",', 'kabab', '200', 'mile', '17.63\"', 'cubic_inch', 'grammes', 'e8.', 'wh', 'calopies', '184', 'made', '162', 'left', 'imported', '7.59d', '55085', 'ca', '20', '0,021', 'n/a', 'resealable', 'unit:', 'pages', 'cm/8.26in', '17.5cm', 'special', 'handle', 'in/12.6', 'cm/12in', 'not_applicable', 'cfm/watt', 'drops', '40%', 'calorie', 'sheets', 'luggage', 'home', 'work', 'ac90-265v', 'handheld', 'size', 'floz(355ml', 'oz/', 'floating_integer', 'height', 'kilocalories', '20w', 'box', 'gigabytes', 'bag', 'lumens', 'hour', '8cm/3.2\"', '210cm', 'cms', 'tl/', 'ok', '24t', 'floz355', 'mah', 'milliampere-hour', 'tmakita', 'determined', 'cm28.0', 'in/49.0', 'o', '161250va0', 'graphics', '13cm/5inch', 'cm3', 'oz(473', '0', '50.0', 'square', 'umens', 'here', 'miles', '-ej', '0.8', 'led', '&cheese', 'cm24.8', 'floz355ml', '6.7in', 'wisbes', '3.51n', 'er', 'terabyte', 'clarify', 'grey', '3in', 'froppe', '3x3m', 'skil,...', 'btu/h', '**26.5', '5.9,', '7mm', '8mm', 'ml/1oz', 'calories', '28\"', 'then', 'floz/710ml', 'x1', 'coins', '.4cm', '20.7cm/8.1', 'determinable', 'k', '0.1inch', 'pieces', 'me', 'izeeker', 'lbs/705g', 'android10.0', 'cu.t', 'fat', 'k230v', 'or', 'fiches', '43/16\"', '/', 'gb', '14mm', '220v-5400w25a', 'cm/2.36in', 'cm/inch', '300.0', 'in/28.0cm', '1181', '127mm', 'filters', 'ir', 'dog', 'smartest', 'teccpo', 'e.g.,', 'antennas', 'floz(355ml)', 'times', 'm³', '178mm', 'integer', '41\"', 'company', 'k-cuppods', 'omato', 'rotation', '29', '0.08a', '4-18-288', '11.0cm', 'from40-120lb', 'hours', 'shcts', 'floz1p1473ml', 'double_thickness', 'singlebrgits', '54', '90mm', '30cm\",', '240', 'cm/s²', 'cac', 'resuittast', 'photos', 'ruler', 'light', 'ce', 'playstation', '9.5\"', 'compatible', 'mm/inch', '-257mm', 'ychika', 'wood', '7.25', 'e375474', 'ib', 'g/m2', 'in/36', '3.7in)', 'makita', 'micromillimeter', 'cfm', 'thousand', '12.76w', '1', '72\"', '87cm', 'gps', 'alphasonik', 'packages', '7.5', '22cm/8.6in', 'i', 'cm.', 'base', 'een', '123cm', 'beam', 'cm/4.3in', 'popthe', 'tosttos', 'charge', 'morice', 'serving', '95mm', 'jhofa', '0.7cm/0.27in', '5.1cm', 'veodymiun', '0.8cm/0.3in', '3.5cm', 'acrilico', '/1.42\".', '4.1\"**', ',', 'ml4oz', 'lumen', 'ml/o.60fl.oz.', 'family', 'three', '52mm', 'kcal', 'mic', 'micrometre', '6.3in', 'aa', '29cm', 'r/min', 'cm/in', 'they', '34', 'us', 'cuadro', 'efficiency', '15cm/5.91\"', 'a', '36', 'rug', '3x5m', 'cardvr', '1.8', 'micrometer', 'information', 'energy', 'be', 'in/34', '24mm', 'mph', '6', '55cm', \"you'd\", 'lnch', '7.0', 'nanogram', '103.5', '-ans', 'defined', '29.0', '90.0,', 'no', '20cm/7.87in', '4.0', '1.3inch', 'cc/ml', 'milliamp', 'milliampere', 'in/36.0cm', '15in', 'gr', 'adhesive', 'iov', 'performancee', 'dia', 'your', 'decimal', 'ralevce', '95', '9.53d', 'f8\"4', '2.2inch', 'degrees', '4.0m', '11.9,', 'cm/2.76in', '12cm/4.72in', 'oz60', 'l8s', '350,', 'count', 'floz355m', '58.0', 'ram', '1.6]', '2in', '2cm', '5cm/1.97in', 'can', 'oz80g', '200pcs/set', '8cm', 'ml/3.71', 'who', '5in', 'mr.go', '17mm', 'x16.9', 'easy', 'kiss', 'qqty1', 'spin', 'm24', '-off', 'microfarad', 'journeys', '22mm', 'oz(355ml)', '28cm', '55mm', 'for', 'details', '60x200cm', 'sinocmp', \"16'\", '(ml)', '20colors', 'silber', 'lozenges', 'sheet', 'complex', 'toshoot', '6.5cm', 'uueh', '60.0', '5**', 'in/35.0', 'dc10~30v', 'letter', 'max', 'clear', 'xbox', '7', '10\"', 'lb/sheet', '2.5x2.5m', 'cauno', 'capacity', '8\"', 'trif', '*', '41cm', 'choking', 'mrc', '*please', 'weight', 'green', '16in/', '60cm', 'moooon', '15mm', '3/5', 'quality', '24cm', 'h', '200cm', '24x19x8cm', 'in/95', 'keto', '100.0', '25.5cm/10in', 'set-up', '13.6cm', 'filter', '7.6', 'cubic_foot', 'milliwatt', 'mm/5.5in', 'cm/3.4in', 'millile', 'nl', 'floz/207ml', 'cubic_meter', '13500', 'fregc', '2.5ft', 'soap', 'cm/4.2', '18/8', '2.2k', '41', 'mooe3-sntry', 'loads', '19mm', 'ml(3.9', 'enjoy', '7in', '4.7', 'ovelmp', 'ml0.25fl.oz', '300w', 'coin', 'with', 'sq.ft', 'line', 'oraa', '-rc', '/unit', 'bars', '150mm', '7cm', '10x', 'cm/18', 'cm(16.1)', '7.50', '5.7cm', 'pcsd', '?', 'mm3', 'onservadores', 'kilometer', 'sunshine', 'vac', 'cylinder', '(15.88cm)', 'poured', 'save', 'r', 'atx', '&', 'walimex', 'sche', 'helle', '5.19inch', 'hold', 'adaptor', '**01.5in**', '130cm/', 'nits', '24\"', '(114mm)', 'fish', '2.625', 'candles', 'oz/200ml', '6.30\"', 'lightpack20-21', '9.5', '40\"', 'voltage', 'packs', \"uno'\", 'm3/h', 'strength', 'divider', 'ips', '20\"', 'units', '19.7', 'sq.ft.', '12\"', '5.5in', 'set', '108inch', \"k.o.4x's\", '31cm', 'truslyour', 'b', 'dc12v', 'cards', '1500pcs85x50cm', '2\"', '35mm/1.37in', 'planning', 'n/cm', 'premier', 'fx4', 'proof', '1.7', 'w', 'this', 'degree_fahrenheit', 'mm³', 'plates', 'pulgadas', 'no_unit', '47mm71.85in', 'gold', '60', 'mm/0.55in', 's', '8cm!', 'fan', 'assembly', '8.0', 'jolly', 'ml/net', '1.7inch', '4.4', 'picture-page', 'year', 'afc', 'ml/8fl', '100cm', 'fully', 'the', 'more', 'bench', 'value', 'coral', 'ultra', 'nch', 'hnc', 'b+', '30.7', '**', 'c', '2.5cm(8pcs)', '2.25x3.5\"', 'u.s.qt(1l)', 'eadas-elbow', 'piece(s)', '54mm', 'tata', 'in/150', 'pods', 'hack', '1.8\"', 'of10-60,so', 'lbtimkenload', 'mm/1.68in', 'mmlt', '120', '12.0', 'bullet', '7,8', 'vdc', 'usb', 'inch\",', 'none', '5.7in', 'unit=cup', 'cm/8.66in', '{unit}', '5mm', 'flozcan', '6.5subwoofer44', '4', 'pood', 'gram/square_meter', 'untreated', \"3/16'\", 'verschiedene', '9.8\"', 'day', 'ml/0.5', 'mm/1.46in', 'apulf-ot', '5.8in', '5yyayt', 'strips', 'square-meter', '7.48in', 'bs/100', '30\"', 'smaller', '4.2', 'of', '14mm/0.55in', 'screws', '15cm/5.9in', '68.0', 'js', '0.21,', 'profcut', 'oz/g', 'headset', '12v-dc', 'carmo', '8ohm/15vc', '115mm', '30ml', 'undefined', 'e2627', '79.52\"', '5.7', 'stencil', '2.0', '227mm', 'oz(77ml)', 'tomas', '8.75', 'ierral', '60in', 'teeth', '9/16\"', '38', 'waterproof', 'bushnel', 'i/w', 'display', '91/8\"', 'need', 'sketchbook', '8cm/3.15in', \"44.9cm/17.7in'\", 'mil', 'preclsely', 'rap', '47cm', 'x', 'yoga', '12inch/30cm', '11cm/4.33inch', '13cm/5.1in', 'cm/2.95in', 'uto', 'output5v2a', '15', '(50cm)', 'which', '12*18inch', '10', 'percentage', '10.0', 'm711', '33\"', 'odtio', 'makes', 'ml/5fl', 'fc', 'bottle', 'fl.', '25', 'ml/o.5', 'canvas', '6.35mm', 'tb', '30x', 'plus', '8m', 'fl.oz/15ml', 'mid', 'dome', 'ml/4oz', 'unit=grams', 'junior3-pack', '5oowatt', 'fl.oz(77ml', 'ml/8.5', 'wires', 'days', 'j', 'floz/237ml', 'floz(237', 'bpbaka', 'draw', 'acre', 'tello', 'ml/0.5oz', 'cc', 'ml/1.7', 'new', 'cable', 'ratio', 'pump', 'input', 'context', '00', 'page', 'varies]', '5v', 'unit=kg', 'mr-black', 'ml/8', 'oz/236ml', 'impedance', '000', 'samsung', '36w', 'scroll', 'floz/473', 'ml/oz', 'floz/946ml', 'yellow', '32', '20gbps', 'grams/sheet', 'oz/sq', '100lbs', 'grams/square-meter', 'lite', 'rider', 'grams/m2', 'bracket', 'blst', 'barrel', 'minute', 'bocina', '5w', 'floz/414ml', '08', 'floz(1.89l)', 'bolsas', 'cubic_centimeter', 'r63', 'ml/0.24', 'byte', 'ssd', 'function', 'minutes', 'sata', 'ibs.', 'ml/0.51fl.oz.', 'ml/2', 'millifloz', 'ball', '00000', 'floz/10ml', 'ka', 'shock-proof', 'kids', 'aluminum', 'megahertz', 'floz473ml', 'oz/100g', 'solid', 'ib/400g', 'floz1qt546m', 'dc+3.3v0.6a', 'ibsd', 'psi/bar', 'g/lbs', 'cnc', '1/16-3/4', 'oz1l', 'protective', 'almond', 'medium', 'floz/29ml', '3a', 'floz/400', '2-fluid', 'safe', 'pounds@7psi', 'snowballs', 'oz59', 'floz/240ml', 'power', 'as', 'ml/1floz', 'mb', '30.0', 'melt\"', 'schrader', 'ml/8fl.oz.', 'grams/square', 'gigabit', 'floz(325ml)', 'servings', 'jvc', 'oz(20ml)', 'powersupply', 'floz/86mle', 'madefor', 'blue', '186ml', 'built', '13.4', 'syrup', '0.16', 'ml/3.89', 'eternal', 'ml/2fl', 'oc', 'ml/0.67', 'floz(414', 'bls', 'concentrated', 'state', 'hy', 'ml/0.50', 'csm', 'ml(4oz)', 'optical', 'floz(1pt)473ml', 'horntweeter', 'fl.oz/473ml', 'cssa', '900gb', 'oz(355', 'bottles', 'cu/m', 'fl.oz6ml', 'half', 'oz/8.5', 'psi', 'ml/1fl', 'ultra-powerful', 'sml', 'floz/6m', 'floz/400ml', 'woofer', 'oz/300ml', 'floz/473ml', 'leave-in', 'oz/100gr', 'oz/100', 'car', 'oz355ml', 'load', 'length', 'ml/1fl.oz.', 'level', 'ml/0.35', 'floz(340ml)', 'z', 'ozhalf', 'ozhal', 'hog', 'ml/1.01', 'floz35ml', 'skin.', '72.8-gb', 'digital', 'x4', '14', '8-inch', 'lozenge', 'tool', 'collapsed', 'cerohs', 'ib/g', 'aquarium', 'us_quart', 'possible', 'oz/10ml', 'floz710n', 'floz1qt/946ml', 'together', 'seed', '56', '12', 'yds/215m', 'grain', 'sas', 'floz(340', 'floz472ml']\n"
     ]
    }
   ],
   "source": [
    "print(badUnits)\n",
    "badUnits.remove(None)\n",
    "print(badUnits)"
   ]
  },
  {
   "cell_type": "code",
   "execution_count": 431,
   "metadata": {},
   "outputs": [
    {
     "name": "stdout",
     "output_type": "stream",
     "text": [
      "['millimetres', 'centimetres', 'millimeters', 'centimeters', 'millilitres', 'millimeter', 'centimeter', 'milligrams', 'kilograms', 'gallons', 'pounds', 'ounces', 'meters', 'liters', 'meter', 'grams', 'liter', 'volts', 'watts', 'yards', 'feet', 'gal', 'cm', 'oz', 'in', 'lb', 'qt', 'kg', 'mg', 'ft', 'm']\n",
      "449\n",
      "{'mm': 'metre', 'floz': 'ounce', 'cm(23.6\")': 'centimetre', '25.7.cm\"': 'centimetre', '2.83inch': 'inch', 'diameter': 'metre', 'in.': 'inch', 'determine': 'inch', 'inches': 'inch', 'milliliter': 'litre', 'bulb': 'pound', 'numerical_value': 'metre', 'cm\",': 'centimetre', 'gramco': 'metre', '110cm': 'centimetre', '20.5cm': 'centimetre', 'ithum': 'metre', 'numerical': 'metre', 'cm³': 'centimetre', 'fl.oz.': 'ounce', 'hints': 'inch', 'in/40': 'inch', 'ml': 'metre', 'in/4.0': 'inch', '6cm': 'centimetre', 'cm(35,4\")': 'centimetre', 'compact': 'metre', 'ampere': 'metre', 'b/m2': 'metre', 'ml/1fl.oz': 'ounce', 'floz946ml': 'ounce', 'mutant': 'metre', 'floz.': 'ounce', '4mm(thickness)': 'metre', 'mango': 'metre', 'material\"': 'metre', 'lers/simples': 'metre', 'gm': 'metre', 'ml/0.60fl.oz.': 'ounce', 'rpm': 'metre', 'mushroom': 'metre', '5cm': 'centimetre', 'bounces': 'ounce', 'gsm': 'metre', 'in/cm': 'centimetre', 'floz(473ml)': 'ounce', 'softchews': 'foot', '45cm': 'centimetre', '1cm': 'centimetre', '30cm': 'centimetre', 'floz330': 'ounce', '40mm': 'metre', 'oz59ml': 'ounce', '150cm/59inch': 'centimetre', '136mm': 'metre', '300ml': 'metre', 'lbs': 'pound', 'floz330ml': 'ounce', 'million': 'metre', 'fast-absorbing': 'inch', 'oz.': 'ounce', 'cm²': 'centimetre', '8.1in': 'inch', '43mm/1.69inch': 'inch', 'cm40.4': 'centimetre', '20cm': 'centimetre', 'amp': 'metre', 'government': 'metre', 'fl.oz': 'ounce', 'oz/ml': 'ounce', '42cm': 'centimetre', 'miom': 'metre', 'carcam': 'metre', 'floz33ml': 'ounce', 'epsom': 'metre', 'cm²\",': 'centimetre', 'mile': 'metre', 'cubic_inch': 'inch', 'grammes': 'metre', 'made': 'metre', 'left': 'foot', 'imported': 'metre', 'cm/8.26in': 'centimetre', '17.5cm': 'centimetre', 'in/12.6': 'inch', 'cm/12in': 'centimetre', 'cfm/watt': 'metre', 'home': 'metre', 'floz(355ml': 'ounce', 'oz/': 'ounce', 'floating_integer': 'inch', 'lumens': 'metre', '8cm/3.2\"': 'centimetre', '210cm': 'centimetre', 'cms': 'centimetre', 'floz355': 'ounce', 'mah': 'metre', 'milliampere-hour': 'metre', 'tmakita': 'metre', 'determined': 'inch', 'cm28.0': 'centimetre', 'in/49.0': 'inch', '13cm/5inch': 'centimetre', 'cm3': 'centimetre', 'oz(473': 'ounce', 'umens': 'metre', 'miles': 'metre', 'cm24.8': 'centimetre', 'floz355ml': 'ounce', '6.7in': 'inch', '3in': 'inch', '3x3m': 'metre', '7mm': 'metre', '8mm': 'metre', 'ml/1oz': 'ounce', 'floz/710ml': 'ounce', 'coins': 'inch', '.4cm': 'centimetre', '20.7cm/8.1': 'centimetre', 'determinable': 'inch', '0.1inch': 'inch', 'me': 'metre', 'lbs/705g': 'pound', '14mm': 'metre', 'cm/2.36in': 'centimetre', 'cm/inch': 'centimetre', 'in/28.0cm': 'centimetre', '127mm': 'metre', 'smartest': 'metre', 'floz(355ml)': 'ounce', 'times': 'metre', 'm³': 'metre', '178mm': 'metre', 'integer': 'inch', 'company': 'metre', 'omato': 'metre', '11.0cm': 'centimetre', 'from40-120lb': 'pound', 'floz1p1473ml': 'ounce', 'singlebrgits': 'inch', '90mm': 'metre', '30cm\",': 'centimetre', 'cm/s²': 'centimetre', 'compatible': 'metre', 'mm/inch': 'inch', '-257mm': 'metre', 'g/m2': 'metre', 'in/36': 'inch', '3.7in)': 'inch', 'makita': 'metre', 'micromillimeter': 'millimetre', 'cfm': 'metre', '87cm': 'centimetre', '22cm/8.6in': 'centimetre', 'cm.': 'centimetre', '123cm': 'centimetre', 'beam': 'metre', 'cm/4.3in': 'centimetre', 'morice': 'metre', 'serving': 'inch', '95mm': 'metre', '0.7cm/0.27in': 'centimetre', '5.1cm': 'centimetre', 'veodymiun': 'metre', '0.8cm/0.3in': 'centimetre', '3.5cm': 'centimetre', 'ml4oz': 'ounce', 'lumen': 'metre', 'ml/o.60fl.oz.': 'ounce', 'family': 'metre', '52mm': 'metre', 'mic': 'metre', 'micrometre': 'metre', '6.3in': 'inch', '29cm': 'centimetre', 'r/min': 'inch', 'cm/in': 'centimetre', '15cm/5.91\"': 'centimetre', '3x5m': 'metre', 'micrometer': 'metre', 'information': 'inch', 'in/34': 'inch', '24mm': 'metre', 'mph': 'metre', '55cm': 'centimetre', 'nanogram': 'metre', 'defined': 'inch', '20cm/7.87in': 'centimetre', '1.3inch': 'inch', 'cc/ml': 'metre', 'milliamp': 'metre', 'milliampere': 'metre', 'in/36.0cm': 'centimetre', '15in': 'inch', 'performancee': 'metre', 'decimal': 'metre', '2.2inch': 'inch', '4.0m': 'metre', 'cm/2.76in': 'centimetre', '12cm/4.72in': 'centimetre', 'oz60': 'ounce', 'floz355m': 'ounce', 'ram': 'metre', '2in': 'inch', '2cm': 'centimetre', '5cm/1.97in': 'centimetre', 'oz80g': 'ounce', '8cm': 'centimetre', 'ml/3.71': 'metre', '5in': 'inch', 'mr.go': 'metre', '17mm': 'metre', 'qqty1': 'quart', 'spin': 'inch', 'm24': 'metre', 'microfarad': 'metre', '22mm': 'metre', 'oz(355ml)': 'ounce', '28cm': 'centimetre', '55mm': 'metre', '60x200cm': 'centimetre', 'sinocmp': 'centimetre', '(ml)': 'metre', 'silber': 'pound', 'lozenges': 'ounce', 'complex': 'metre', '6.5cm': 'centimetre', 'in/35.0': 'inch', 'max': 'metre', 'lb/sheet': 'pound', '2.5x2.5m': 'metre', '41cm': 'centimetre', 'choking': 'inch', 'mrc': 'metre', '16in/': 'inch', '60cm': 'centimetre', 'moooon': 'metre', '15mm': 'metre', '24cm': 'centimetre', '200cm': 'centimetre', '24x19x8cm': 'centimetre', 'in/95': 'inch', '25.5cm/10in': 'centimetre', '13.6cm': 'centimetre', 'milliwatt': 'metre', 'mm/5.5in': 'inch', 'cm/3.4in': 'centimetre', 'millile': 'metre', 'floz/207ml': 'ounce', 'cubic_meter': 'metre', '2.5ft': 'foot', 'cm/4.2': 'centimetre', 'mooe3-sntry': 'metre', '19mm': 'metre', 'ml(3.9': 'metre', '7in': 'inch', 'ovelmp': 'metre', 'ml0.25fl.oz': 'ounce', 'coin': 'inch', 'sq.ft': 'foot', 'line': 'inch', '150mm': 'metre', '7cm': 'centimetre', 'cm/18': 'centimetre', 'cm(16.1)': 'centimetre', '5.7cm': 'centimetre', 'mm3': 'metre', 'kilometer': 'metre', 'sunshine': 'inch', 'cylinder': 'inch', '(15.88cm)': 'centimetre', 'walimex': 'metre', '5.19inch': 'inch', '**01.5in**': 'inch', '130cm/': 'centimetre', '(114mm)': 'metre', 'oz/200ml': 'ounce', 'm3/h': 'metre', 'sq.ft.': 'foot', '5.5in': 'inch', '108inch': 'inch', '31cm': 'centimetre', '1500pcs85x50cm': 'centimetre', '35mm/1.37in': 'inch', 'planning': 'inch', 'n/cm': 'centimetre', 'premier': 'metre', 'mm³': 'metre', '47mm71.85in': 'inch', 'mm/0.55in': 'inch', '8cm!': 'centimetre', 'assembly': 'metre', 'ml/net': 'metre', '1.7inch': 'inch', 'ml/8fl': 'metre', '100cm': 'centimetre', 'more': 'metre', '2.5cm(8pcs)': 'centimetre', 'u.s.qt(1l)': 'quart', 'eadas-elbow': 'pound', '54mm': 'metre', 'in/150': 'inch', 'lbtimkenload': 'pound', 'mm/1.68in': 'inch', 'mmlt': 'metre', 'inch\",': 'inch', '5.7in': 'inch', 'cm/8.66in': 'centimetre', '5mm': 'metre', 'flozcan': 'ounce', 'gram/square_meter': 'metre', 'ml/0.5': 'metre', 'mm/1.46in': 'inch', '5.8in': 'inch', 'square-meter': 'metre', '7.48in': 'inch', 'smaller': 'metre', '14mm/0.55in': 'inch', '15cm/5.9in': 'centimetre', 'oz/g': 'ounce', 'carmo': 'metre', '8ohm/15vc': 'metre', '115mm': 'metre', '30ml': 'metre', 'undefined': 'inch', '227mm': 'metre', 'oz(77ml)': 'ounce', 'tomas': 'metre', '60in': 'inch', '8cm/3.15in': 'centimetre', \"44.9cm/17.7in'\": 'centimetre', 'mil': 'metre', '47cm': 'centimetre', '12inch/30cm': 'centimetre', '11cm/4.33inch': 'centimetre', '13cm/5.1in': 'centimetre', 'cm/2.95in': 'centimetre', '(50cm)': 'centimetre', '12*18inch': 'inch', 'm711': 'metre', 'makes': 'metre', 'ml/5fl': 'metre', 'ml/o.5': 'metre', '6.35mm': 'metre', '8m': 'metre', 'fl.oz/15ml': 'ounce', 'mid': 'metre', 'dome': 'metre', 'ml/4oz': 'ounce', 'unit=grams': 'gram', 'fl.oz(77ml': 'ounce', 'ml/8.5': 'metre', 'floz/237ml': 'ounce', 'floz(237': 'ounce', 'ml/0.5oz': 'ounce', 'ml/1.7': 'metre', 'pump': 'metre', 'input': 'inch', 'unit=kg': 'kilogram', 'mr-black': 'metre', 'ml/8': 'metre', 'oz/236ml': 'ounce', 'impedance': 'metre', 'samsung': 'metre', 'floz/473': 'ounce', 'ml/oz': 'ounce', 'floz/946ml': 'ounce', 'grams/sheet': 'gram', 'oz/sq': 'ounce', '100lbs': 'pound', 'grams/square-meter': 'metre', 'grams/m2': 'gram', 'minute': 'inch', 'bocina': 'inch', 'floz/414ml': 'ounce', 'floz(1.89l)': 'ounce', 'cubic_centimeter': 'centimetre', 'ml/0.24': 'metre', 'minutes': 'inch', 'ml/0.51fl.oz.': 'ounce', 'ml/2': 'metre', 'millifloz': 'ounce', 'floz/10ml': 'ounce', 'aluminum': 'inch', 'megahertz': 'metre', 'floz473ml': 'ounce', 'oz/100g': 'ounce', 'floz1qt546m': 'ounce', 'g/lbs': 'pound', 'oz1l': 'ounce', 'almond': 'metre', 'medium': 'metre', 'floz/29ml': 'ounce', 'floz/400': 'ounce', 'pounds@7psi': 'pound', 'oz59': 'ounce', 'floz/240ml': 'ounce', 'ml/1floz': 'ounce', 'mb': 'metre', 'melt\"': 'metre', 'ml/8fl.oz.': 'ounce', 'grams/square': 'gram', 'floz(325ml)': 'ounce', 'servings': 'inch', 'oz(20ml)': 'ounce', 'floz/86mle': 'ounce', 'madefor': 'metre', '186ml': 'metre', 'ml/3.89': 'metre', 'ml/2fl': 'metre', 'ml/0.67': 'metre', 'floz(414': 'ounce', 'ml/0.50': 'metre', 'csm': 'metre', 'ml(4oz)': 'ounce', 'floz(1pt)473ml': 'ounce', 'fl.oz/473ml': 'ounce', 'oz(355': 'ounce', 'cu/m': 'metre', 'fl.oz6ml': 'ounce', 'oz/8.5': 'ounce', 'ml/1fl': 'metre', 'sml': 'metre', 'floz/6m': 'ounce', 'floz/400ml': 'ounce', 'oz/300ml': 'ounce', 'floz/473ml': 'ounce', 'leave-in': 'inch', 'oz/100gr': 'ounce', 'oz/100': 'ounce', 'oz355ml': 'ounce', 'ml/1fl.oz.': 'ounce', 'ml/0.35': 'metre', 'floz(340ml)': 'ounce', 'ozhalf': 'ounce', 'ozhal': 'ounce', 'ml/1.01': 'metre', 'floz35ml': 'ounce', 'skin.': 'inch', '8-inch': 'inch', 'lozenge': 'ounce', 'aquarium': 'metre', 'oz/10ml': 'ounce', 'floz710n': 'ounce', 'floz1qt/946ml': 'ounce', 'yds/215m': 'metre', 'grain': 'inch', 'floz(340': 'ounce', 'floz472ml': 'ounce'}\n",
      "11\n"
     ]
    }
   ],
   "source": [
    "updatedDfBadUnitsMap = {}\n",
    "\n",
    "# Sort the keys of dfBadUnitsMap by length in descending order\n",
    "sortedKeys = sorted(dfBadUnitsMap.keys(), key=len, reverse=True)\n",
    "print(sortedKeys)\n",
    "\n",
    "for unit in badUnits:\n",
    "    for key in sortedKeys:\n",
    "        if unit != 'unit' and key in unit:\n",
    "            updatedDfBadUnitsMap[unit] = dfBadUnitsMap[key]\n",
    "            break  # Stop after the first match to prioritize larger words\n",
    "\n",
    "# Print the length and contents of the updated dictionary\n",
    "print(len(updatedDfBadUnitsMap))\n",
    "print(updatedDfBadUnitsMap)\n",
    "\n",
    "# Get unique values\n",
    "unq = set(updatedDfBadUnitsMap.values())\n",
    "\n",
    "for v in unq:\n",
    "    if v not in goodUnits:\n",
    "        print(v)\n",
    "\n",
    "# Count unique values\n",
    "count_unique = len(unq)\n",
    "print(count_unique)"
   ]
  },
  {
   "cell_type": "code",
   "execution_count": 432,
   "metadata": {},
   "outputs": [],
   "source": [
    "import re\n",
    "\n",
    "def is_valid_regex_key(key):\n",
    "    try:\n",
    "        re.compile(r'\\b{}\\b'.format(re.escape(key)))\n",
    "        return True\n",
    "    except re.error:\n",
    "        return False\n",
    "\n",
    "# Filter out invalid keys\n",
    "filtered_updatedDfBadUnitsMap = {key: value for key, value in updatedDfBadUnitsMap.items() if is_valid_regex_key(key)}\n",
    "\n",
    "# Now you can safely use the filtered map\n",
    "for key, value in filtered_updatedDfBadUnitsMap.items():\n",
    "    df2['entity_unit'] = df2['entity_unit'].replace(r'\\b{}\\b'.format(re.escape(key)), value, regex=True)\n"
   ]
  },
  {
   "cell_type": "code",
   "execution_count": 433,
   "metadata": {},
   "outputs": [],
   "source": [
    "# import re\n",
    "\n",
    "# # df47 = df49.copy()\n",
    "\n",
    "# for key, value in updatedDfBadUnitsMap.items():\n",
    "#     # Escape special regex characters in the key\n",
    "#     escaped_key = re.escape(key)\n",
    "#     df2['entity_unit'] = df2['entity_unit'].replace(r'\\b{}\\b'.format(escaped_key), value, regex=True)\n",
    "\n",
    "# # df46 = df2[df2['entity_unit'].isin(goodUnits)]\n",
    "# # print(df46.shape)\n",
    "# # df46.head()\n",
    "\n",
    "# df2.head()\n"
   ]
  },
  {
   "cell_type": "code",
   "execution_count": 434,
   "metadata": {},
   "outputs": [
    {
     "name": "stdout",
     "output_type": "stream",
     "text": [
      "(131175, 4)\n",
      "819\n"
     ]
    },
    {
     "data": {
      "text/plain": [
       "array(['inch', 'centimetre', 'unit', 'volt', 'kilogram', 'pound', None,\n",
       "       'enough', 'gram', 'millimetre', 'watt', 'ounce', 'metre',\n",
       "       'centimetre(23.6\")', 'steak', '25.7.centimetre\"', 'ton', 'ltd', '',\n",
       "       'wdusti', 'foot', 'g', '3.5\"', 'inch.', 'fluid', 'millilitre',\n",
       "       '22.2', '3', 'piece', 'newton', '2', 'milligram', '24.0', 'cubic',\n",
       "       'available', 'air', 'applicable', 'airflow', 'litre', 'absorbant',\n",
       "       'youthsize', 'cut', '1.37', 'chicken', '60hz', 's6%stronge', '5x7',\n",
       "       'centimetre\",', 'fluid_ounce', '3.14/8,', 'envirocore', 'cup',\n",
       "       '13\"', '6.0', 'not', 'kilowatt', 'whole', '5.0', '13.8', 'aey',\n",
       "       'fl0z', 'found', '15.0', 'r3', 'soce', '28.0', 'gigabyte',\n",
       "       'second', 'hd', 'ibs', 'fl.ounce.', 'quart', 'value]', 'potato',\n",
       "       'bar', 'bend', '2.78', 'pet', 'inch/40', '18\"', 'user', 'net',\n",
       "       'inch/4.0', '24%', 'percent', 'fl', 'provided', 'l85', 'color',\n",
       "       '[voltage', 'horsepower', 'packets', '17.5', 'preductoffrance',\n",
       "       '\"', 'and', 'centimetre(35,4\")', '23', 'specified', 'gnl', '40',\n",
       "       'salad', 'ridgid', '&sour', 'avidpow', 'x18', '5', '8.19d',\n",
       "       '41.25-47.25', '260cn', '03', 'food', 'deli', 'metre/1fl.ounce',\n",
       "       'degree', 'sleep', 'large', '100', 'pack', '20.0', 'gallon',\n",
       "       'coffee', 'ounce.', '4mm(thickness)', '18', 'material\"', 'billion',\n",
       "       'btu', 'adult', 'trakitri', '120.0', 'capsule', '48',\n",
       "       'metre/0.60fl.ounce.', 'e41egs', 'hor', '195', 'depth',\n",
       "       'wuxga2,000100', '53125', 'inch/centimetre', '.', 'ounce(473ml)',\n",
       "       'to', 'double', '10.15d', 'brushless', '113g', 'tablet', '{30.0}',\n",
       "       'arty', 'provide', 'soups&sauces', '9.8', 'l', 'potaocrs', 'lyric',\n",
       "       'millivolt', '2x', 'tile', 'a312/', 'pixel', '10.2\"', 'hangers',\n",
       "       'data', 'scoops', 'sq', 'btus', '4100', '+', 'speed', 'dollar',\n",
       "       '322-17', 'dre', 'closed:', 'pcs', 'batteries', 'bags', 'design',\n",
       "       'exos7e8', '1f1908n', 'blade', 'fl.ounce', 'style', 'double-sided',\n",
       "       'cans', 'ounce/metre', 'ro', '2.0e', '12.7\"', 'high', 'unknown',\n",
       "       'rfx0_e', 'kabab', '200', '17.63\"', 'e8.', 'wh', 'calopies', '184',\n",
       "       '162', '7.59d', '55085', 'ca', '20', '0,021', 'n/a', 'resealable',\n",
       "       'unit:', 'pages', 'centimetre/8.26in', '17.centimetre', 'special',\n",
       "       'handle', 'inch/12.6', 'centimetre/12in', 'not_applicable',\n",
       "       'drops', '40%', 'calorie', 'sheets', 'luggage', 'work',\n",
       "       'ac90-265v', 'handheld', 'size', 'ounce(355ml', 'ounce/', 'height',\n",
       "       'kilocalories', '20w', 'box', 'gigabytes', 'bag', 'hour',\n",
       "       'centimetre/3.2\"', 'tl/', 'ok', '24t', 'inch/49.0', 'o',\n",
       "       '161250va0', 'graphics', 'ounce(473', '0', '50.0', 'square',\n",
       "       'here', '-ej', '0.8', 'led', '&cheese', 'wisbes', '3.51n', 'er',\n",
       "       'terabyte', 'clarify', 'grey', 'froppe', 'skil,...', 'btu/h',\n",
       "       '**26.5', '5.9,', 'metre/1oz', 'calories', '28\"', 'then',\n",
       "       'ounce/710ml', 'x1', '.4cm', 'k', 'pieces', 'izeeker',\n",
       "       'pound/705g', 'android10.0', 'cu.t', 'fat', 'k230v', 'or',\n",
       "       'fiches', '43/16\"', '/', 'gb', '220v-5400w25a',\n",
       "       'centimetre/2.36in', 'centimetre/inch', '300.0', 'inch/28.0cm',\n",
       "       '1181', 'filters', 'ir', 'dog', 'teccpo', 'e.g.,', 'antennas',\n",
       "       'ounce(355ml)', '41\"', 'k-cuppods', 'rotation', '29', '0.08a',\n",
       "       '4-18-288', 'hours', 'shcts', 'double_thickness', '54', '240',\n",
       "       'centimetre/s²', 'cac', 'resuittast', 'photos', 'ruler', 'light',\n",
       "       'ce', 'playstation', '9.5\"', 'metre/inch', '-257mm', 'ychika',\n",
       "       'wood', '7.25', 'e375474', 'ib', 'inch/36', '3.inch)', 'thousand',\n",
       "       '12.76w', '1', '72\"', 'gps', 'alphasonik', 'packages', '7.5', 'i',\n",
       "       'centimetre.', 'base', 'een', 'centimetre/4.inch', 'popthe',\n",
       "       'tosttos', 'charge', 'jhofa', '5.centimetre',\n",
       "       '0.centimetre/0.inch', '3.centimetre', 'acrilico', '/1.42\".',\n",
       "       '4.1\"**', ',', 'metre/o.60fl.ounce.', 'three', 'kcal', '6.inch',\n",
       "       'aa', 'they', '34', 'us', 'cuadro', 'efficiency', '15cm/5.91\"',\n",
       "       'a', '36', 'rug', 'cardvr', '1.8', 'energy', 'be', 'inch/34', '6',\n",
       "       \"you'd\", 'lnch', '7.0', '103.5', '-ans', '29.0', '90.0,', 'no',\n",
       "       'centimetre/7.87in', '4.0', 'cc/metre', 'inch/36.0cm', 'gr',\n",
       "       'adhesive', 'iov', 'dia', 'your', 'ralevce', '95', '9.53d', 'f8\"4',\n",
       "       'degrees', '11.9,', 'centimetre/2.76in', 'l8s', '350,', 'count',\n",
       "       'yard', '58.0', '1.6]', 'centimetre/1.97in', 'can', '200pcs/set',\n",
       "       'metre/3.71', 'who', 'x16.9', 'easy', 'kiss', '-off', 'journeys',\n",
       "       'for', 'details', \"16'\", '(metre)', '20colors', 'sheet', 'toshoot',\n",
       "       '6.centimetre', 'uueh', '60.0', '5**', 'inch/35.0', 'dc10~30v',\n",
       "       'letter', 'clear', 'xbox', '7', '10\"', 'pound/sheet', 'cauno',\n",
       "       'capacity', '8\"', 'trif', '*', '*please', 'weight', 'green',\n",
       "       '16in/', '3/5', 'quality', 'h', 'inch/95', 'keto', '100.0',\n",
       "       '25.centimetre/10in', 'set-up', '13.centimetre', 'filter', '7.6',\n",
       "       'cubic_foot', 'metre/5.inch', 'centimetre/3.4in', 'nl',\n",
       "       'ounce/207ml', '13500', 'fregc', 'soap', 'centimetre/4.2', '18/8',\n",
       "       '2.2k', '41', 'loads', 'metre(3.9', 'enjoy', '4.7',\n",
       "       'ml0.25fl.ounce', '300w', 'with', 'sq.foot', 'oraa', '-rc',\n",
       "       '/unit', 'bars', '10x', 'centimetre/18', 'centimetre(16.1)',\n",
       "       '7.50', 'pcsd', '?', 'onservadores', 'vac', '(15.88cm)', 'poured',\n",
       "       'save', 'r', 'atx', '&', 'sche', 'helle', 'hold', 'adaptor',\n",
       "       '**01.inch**', '130cm/', 'nits', '24\"', '(114mm)', 'fish', '2.625',\n",
       "       'candles', 'ounce/200ml', '6.30\"', 'lightpack20-21', '9.5', '40\"',\n",
       "       'voltage', 'packs', \"uno'\", 'strength', 'divider', 'ips', '20\"',\n",
       "       'units', '19.7', 'sq.foot.', '12\"', '5.inch', 'set', \"k.o.4x's\",\n",
       "       'truslyour', 'b', 'dc12v', 'cards', '2\"', 'n/centimetre', 'fx4',\n",
       "       'proof', '1.7', 'w', 'this', 'degree_fahrenheit', 'plates',\n",
       "       'pulgadas', 'no_unit', 'gold', '60', 'metre/0.55in', 's',\n",
       "       'centimetre!', 'fan', '8.0', 'jolly', 'metre/net', '4.4',\n",
       "       'picture-page', 'year', 'afc', 'metre/8fl', 'fully', 'the',\n",
       "       'bench', 'value', 'coral', 'ultra', 'nch', 'hnc', 'b+', '30.7',\n",
       "       '**', 'c', '2.centimetre(8pcs)', '2.25x3.5\"', 'u.s.quart(1l)',\n",
       "       'piece(s)', 'tata', 'inch/150', 'pods', 'hack', '1.8\"',\n",
       "       'of10-60,so', 'metre/1.68in', '120', '12.0', 'bullet', '7,8',\n",
       "       'vdc', 'usb', 'inch\",', 'none', 'unit=cup', 'centimetre/8.66in',\n",
       "       '{unit}', '6.5subwoofer44', '4', 'pood', 'untreated', \"3/16'\",\n",
       "       'verschiedene', '9.8\"', 'day', 'metre/0.5', 'metre/1.46in',\n",
       "       'apulf-ot', '5yyayt', 'strips', 'square-metre', 'bs/100', '30\"',\n",
       "       '4.2', 'of', 'screws', '68.0', 'js', '0.21,', 'profcut', 'ounce/g',\n",
       "       'headset', '12v-dc', 'e2627', '79.52\"', '5.7', 'stencil', '2.0',\n",
       "       'ounce(77ml)', '8.75', 'ierral', 'teeth', '9/16\"', '38',\n",
       "       'waterproof', 'bushnel', 'i/w', 'display', '91/8\"', 'need',\n",
       "       'sketchbook', 'centimetre/3.inch', \"44.9cm/17.inch'\", 'preclsely',\n",
       "       'rap', 'x', 'yoga', '12inch/centimetre', 'centimetre/2.95in',\n",
       "       'uto', 'output5v2a', '15', '(50cm)', 'which', '10', 'percentage',\n",
       "       '10.0', '33\"', 'odtio', 'metre/5fl', 'fc', 'bottle', 'fl.', '25',\n",
       "       'metre/o.5', 'canvas', 'tb', '30x', 'plus', 'fl.ounce/15ml',\n",
       "       'metre/4oz', 'unit=gram', 'junior3-pack', '5oowatt',\n",
       "       'fl.ounce(77ml', 'metre/8.5', 'wires', 'days', 'j', 'ounce/237ml',\n",
       "       'ounce(237', 'bpbaka', 'draw', 'acre', 'tello', 'metre/0.5oz',\n",
       "       'cc', 'metre/1.7', 'new', 'cable', 'ratio', 'context', '00',\n",
       "       'page', 'varies]', '5v', 'unit=kilogram', 'metre/8', 'ounce/236ml',\n",
       "       '000', '36w', 'scroll', 'ounce/473', 'metre/ounce', 'ounce/946ml',\n",
       "       'yellow', '32', '20gbps', 'gram/sheet', 'ounce/sq',\n",
       "       'gram/square-metre', 'lite', 'rider', 'gram/m2', 'bracket', 'blst',\n",
       "       'barrel', 'kilovolt', '5w', 'ounce/414ml', '08', 'ounce(1.89l)',\n",
       "       'bolsas', 'r63', 'metre/0.24', 'byte', 'ssd', 'function', 'sata',\n",
       "       'ibs.', 'metre/0.51fl.ounce.', 'metre/2', 'ball', '00000',\n",
       "       'ounce/10ml', 'ka', 'shock-proof', 'kids', 'ounce/100g', 'solid',\n",
       "       'ib/400g', 'dc+3.3v0.6a', 'ibsd', 'psi/bar', 'g/pound', 'cnc',\n",
       "       '1/16-3/4', 'protective', 'ounce/29ml', '3a', 'ounce/400',\n",
       "       '2-fluid', 'pint', 'safe', 'pound@7psi', 'snowballs',\n",
       "       'ounce/240ml', 'power', 'as', 'metre/1floz', '30.0', 'melt\"',\n",
       "       'schrader', 'metre/8fl.ounce.', 'gram/square', 'gigabit',\n",
       "       'ounce(325ml)', 'jvc', 'ounce(20ml)', 'powersupply', 'ounce/86mle',\n",
       "       'blue', 'built', '13.4', 'syrup', '0.16', 'metre/3.89', 'eternal',\n",
       "       'metre/2fl', 'oc', 'metre/0.67', 'ounce(414', 'bls',\n",
       "       'concentrated', 'state', 'hy', 'metre/0.50', 'metre(4oz)',\n",
       "       'optical', 'ounce(1pt)473ml', 'horntweeter', 'fl.ounce/473ml',\n",
       "       'cssa', '900gb', 'ounce(355', 'bottles', 'cu/metre', 'half',\n",
       "       'ounce/8.5', 'psi', 'metre/1fl', 'ultra-powerful', 'ounce/6m',\n",
       "       'ounce/400ml', 'woofer', 'ounce/473ml', 'leave-inch',\n",
       "       'ounce/100gr', 'ounce/100', 'car', 'load', 'length',\n",
       "       'metre/1fl.ounce.', 'level', 'metre/0.35', 'ounce(340ml)', 'z',\n",
       "       'hog', 'metre/1.01', 'skin.', '72.8-gb', 'digital', 'x4', '14',\n",
       "       'tool', 'collapsed', 'cerohs', 'ib/g', 'us_quart', 'possible',\n",
       "       'together', 'seed', '56', '12', 'sas', 'ounce(340'], dtype=object)"
      ]
     },
     "execution_count": 434,
     "metadata": {},
     "output_type": "execute_result"
    }
   ],
   "source": [
    "print(df2.shape)\n",
    "print(len(df2['entity_unit'].unique()))\n",
    "df2['entity_unit'].unique()"
   ]
  },
  {
   "cell_type": "code",
   "execution_count": 435,
   "metadata": {},
   "outputs": [
    {
     "name": "stdout",
     "output_type": "stream",
     "text": [
      "(131175, 4)\n"
     ]
    },
    {
     "data": {
      "text/html": [
       "<div>\n",
       "<style scoped>\n",
       "    .dataframe tbody tr th:only-of-type {\n",
       "        vertical-align: middle;\n",
       "    }\n",
       "\n",
       "    .dataframe tbody tr th {\n",
       "        vertical-align: top;\n",
       "    }\n",
       "\n",
       "    .dataframe thead th {\n",
       "        text-align: right;\n",
       "    }\n",
       "</style>\n",
       "<table border=\"1\" class=\"dataframe\">\n",
       "  <thead>\n",
       "    <tr style=\"text-align: right;\">\n",
       "      <th></th>\n",
       "      <th>index</th>\n",
       "      <th>ans_entity_val</th>\n",
       "      <th>entity_value</th>\n",
       "      <th>entity_unit</th>\n",
       "    </tr>\n",
       "  </thead>\n",
       "  <tbody>\n",
       "    <tr>\n",
       "      <th>0</th>\n",
       "      <td>0</td>\n",
       "      <td>78.0 inch</td>\n",
       "      <td>78.0</td>\n",
       "      <td>inch</td>\n",
       "    </tr>\n",
       "    <tr>\n",
       "      <th>1</th>\n",
       "      <td>1</td>\n",
       "      <td>42.0 cm</td>\n",
       "      <td>42.0</td>\n",
       "      <td>centimetre</td>\n",
       "    </tr>\n",
       "    <tr>\n",
       "      <th>2</th>\n",
       "      <td>2</td>\n",
       "      <td>200.0 cm</td>\n",
       "      <td>200.0</td>\n",
       "      <td>centimetre</td>\n",
       "    </tr>\n",
       "    <tr>\n",
       "      <th>3</th>\n",
       "      <td>3</td>\n",
       "      <td>NaN</td>\n",
       "      <td>NaN</td>\n",
       "      <td>NaN</td>\n",
       "    </tr>\n",
       "    <tr>\n",
       "      <th>4</th>\n",
       "      <td>4</td>\n",
       "      <td>NaN</td>\n",
       "      <td>NaN</td>\n",
       "      <td>NaN</td>\n",
       "    </tr>\n",
       "    <tr>\n",
       "      <th>5</th>\n",
       "      <td>5</td>\n",
       "      <td>90.0 cm</td>\n",
       "      <td>90.0</td>\n",
       "      <td>centimetre</td>\n",
       "    </tr>\n",
       "    <tr>\n",
       "      <th>6</th>\n",
       "      <td>6</td>\n",
       "      <td>10.50 cm</td>\n",
       "      <td>10.50</td>\n",
       "      <td>centimetre</td>\n",
       "    </tr>\n",
       "    <tr>\n",
       "      <th>7</th>\n",
       "      <td>7</td>\n",
       "      <td>1.4 inch</td>\n",
       "      <td>1.4</td>\n",
       "      <td>inch</td>\n",
       "    </tr>\n",
       "    <tr>\n",
       "      <th>8</th>\n",
       "      <td>8</td>\n",
       "      <td>40.0 centimetre</td>\n",
       "      <td>40.0</td>\n",
       "      <td>centimetre</td>\n",
       "    </tr>\n",
       "    <tr>\n",
       "      <th>9</th>\n",
       "      <td>9</td>\n",
       "      <td>40.0 centimetre</td>\n",
       "      <td>40.0</td>\n",
       "      <td>centimetre</td>\n",
       "    </tr>\n",
       "    <tr>\n",
       "      <th>10</th>\n",
       "      <td>10</td>\n",
       "      <td>NaN</td>\n",
       "      <td>NaN</td>\n",
       "      <td>NaN</td>\n",
       "    </tr>\n",
       "    <tr>\n",
       "      <th>11</th>\n",
       "      <td>11</td>\n",
       "      <td>30.6 centimetre</td>\n",
       "      <td>30.6</td>\n",
       "      <td>centimetre</td>\n",
       "    </tr>\n",
       "    <tr>\n",
       "      <th>12</th>\n",
       "      <td>12</td>\n",
       "      <td>4.3 inch</td>\n",
       "      <td>4.3</td>\n",
       "      <td>inch</td>\n",
       "    </tr>\n",
       "    <tr>\n",
       "      <th>13</th>\n",
       "      <td>13</td>\n",
       "      <td>4.3 inch</td>\n",
       "      <td>4.3</td>\n",
       "      <td>inch</td>\n",
       "    </tr>\n",
       "    <tr>\n",
       "      <th>14</th>\n",
       "      <td>14</td>\n",
       "      <td>4.3 inch</td>\n",
       "      <td>4.3</td>\n",
       "      <td>inch</td>\n",
       "    </tr>\n",
       "    <tr>\n",
       "      <th>15</th>\n",
       "      <td>15</td>\n",
       "      <td>NaN</td>\n",
       "      <td>NaN</td>\n",
       "      <td>NaN</td>\n",
       "    </tr>\n",
       "    <tr>\n",
       "      <th>16</th>\n",
       "      <td>16</td>\n",
       "      <td>NaN</td>\n",
       "      <td>NaN</td>\n",
       "      <td>NaN</td>\n",
       "    </tr>\n",
       "    <tr>\n",
       "      <th>17</th>\n",
       "      <td>17</td>\n",
       "      <td>NaN</td>\n",
       "      <td>NaN</td>\n",
       "      <td>NaN</td>\n",
       "    </tr>\n",
       "    <tr>\n",
       "      <th>18</th>\n",
       "      <td>18</td>\n",
       "      <td>NaN</td>\n",
       "      <td>NaN</td>\n",
       "      <td>NaN</td>\n",
       "    </tr>\n",
       "    <tr>\n",
       "      <th>19</th>\n",
       "      <td>19</td>\n",
       "      <td>208.0 volt</td>\n",
       "      <td>208.0</td>\n",
       "      <td>volt</td>\n",
       "    </tr>\n",
       "  </tbody>\n",
       "</table>\n",
       "</div>"
      ],
      "text/plain": [
       "    index   ans_entity_val entity_value entity_unit\n",
       "0       0        78.0 inch         78.0        inch\n",
       "1       1          42.0 cm         42.0  centimetre\n",
       "2       2         200.0 cm        200.0  centimetre\n",
       "3       3              NaN          NaN         NaN\n",
       "4       4              NaN          NaN         NaN\n",
       "5       5          90.0 cm         90.0  centimetre\n",
       "6       6         10.50 cm        10.50  centimetre\n",
       "7       7         1.4 inch          1.4        inch\n",
       "8       8  40.0 centimetre         40.0  centimetre\n",
       "9       9  40.0 centimetre         40.0  centimetre\n",
       "10     10              NaN          NaN         NaN\n",
       "11     11  30.6 centimetre         30.6  centimetre\n",
       "12     12         4.3 inch          4.3        inch\n",
       "13     13         4.3 inch          4.3        inch\n",
       "14     14         4.3 inch          4.3        inch\n",
       "15     15              NaN          NaN         NaN\n",
       "16     16              NaN          NaN         NaN\n",
       "17     17              NaN          NaN         NaN\n",
       "18     18              NaN          NaN         NaN\n",
       "19     19       208.0 volt        208.0        volt"
      ]
     },
     "execution_count": 435,
     "metadata": {},
     "output_type": "execute_result"
    }
   ],
   "source": [
    "# Function to check and update rows\n",
    "def check_and_update(row):\n",
    "    if row['entity_unit'] not in goodUnits:\n",
    "        row['entity_value'] = np.nan\n",
    "        row['entity_unit'] = np.nan\n",
    "        row['ans_entity_val'] = np.nan\n",
    "    return row\n",
    "\n",
    "# Apply the function to each row\n",
    "df2 = df2.apply(check_and_update, axis=1)\n",
    "\n",
    "print(df2.shape)\n",
    "df2.head(20)"
   ]
  },
  {
   "cell_type": "code",
   "execution_count": 436,
   "metadata": {},
   "outputs": [
    {
     "name": "stdout",
     "output_type": "stream",
     "text": [
      "(131175, 4)\n",
      "24\n",
      "['inch' 'centimetre' nan 'volt' 'kilogram' 'pound' 'gram' 'millimetre'\n",
      " 'watt' 'ounce' 'metre' 'ton' 'foot' 'millilitre' 'milligram' 'litre'\n",
      " 'cup' 'kilowatt' 'quart' 'gallon' 'millivolt' 'yard' 'kilovolt' 'pint']\n"
     ]
    },
    {
     "data": {
      "text/plain": [
       "np.int64(47132)"
      ]
     },
     "execution_count": 436,
     "metadata": {},
     "output_type": "execute_result"
    }
   ],
   "source": [
    "print(df2.shape)\n",
    "print(len(df2['entity_unit'].unique()))\n",
    "print(df2['entity_unit'].unique())\n",
    "\n",
    "df2['entity_unit'].isnull().sum()"
   ]
  },
  {
   "cell_type": "code",
   "execution_count": 438,
   "metadata": {},
   "outputs": [],
   "source": [
    "df2.to_csv(\"./final_test_output_eda_interm.csv\", index=False)"
   ]
  },
  {
   "cell_type": "code",
   "execution_count": null,
   "metadata": {},
   "outputs": [],
   "source": []
  },
  {
   "cell_type": "code",
   "execution_count": null,
   "metadata": {},
   "outputs": [],
   "source": []
  },
  {
   "cell_type": "code",
   "execution_count": 439,
   "metadata": {},
   "outputs": [
    {
     "name": "stdout",
     "output_type": "stream",
     "text": [
      "(437, 4)\n",
      "(131175, 4)\n"
     ]
    },
    {
     "data": {
      "text/html": [
       "<div>\n",
       "<style scoped>\n",
       "    .dataframe tbody tr th:only-of-type {\n",
       "        vertical-align: middle;\n",
       "    }\n",
       "\n",
       "    .dataframe tbody tr th {\n",
       "        vertical-align: top;\n",
       "    }\n",
       "\n",
       "    .dataframe thead th {\n",
       "        text-align: right;\n",
       "    }\n",
       "</style>\n",
       "<table border=\"1\" class=\"dataframe\">\n",
       "  <thead>\n",
       "    <tr style=\"text-align: right;\">\n",
       "      <th></th>\n",
       "      <th>index</th>\n",
       "      <th>ans_entity_val</th>\n",
       "      <th>entity_value</th>\n",
       "      <th>entity_unit</th>\n",
       "    </tr>\n",
       "  </thead>\n",
       "  <tbody>\n",
       "    <tr>\n",
       "      <th>0</th>\n",
       "      <td>0</td>\n",
       "      <td>78.0 inch</td>\n",
       "      <td>78.0</td>\n",
       "      <td>inch</td>\n",
       "    </tr>\n",
       "    <tr>\n",
       "      <th>1</th>\n",
       "      <td>1</td>\n",
       "      <td>42.0 cm</td>\n",
       "      <td>42.0</td>\n",
       "      <td>centimetre</td>\n",
       "    </tr>\n",
       "    <tr>\n",
       "      <th>2</th>\n",
       "      <td>2</td>\n",
       "      <td>200.0 cm</td>\n",
       "      <td>200.0</td>\n",
       "      <td>centimetre</td>\n",
       "    </tr>\n",
       "    <tr>\n",
       "      <th>3</th>\n",
       "      <td>3</td>\n",
       "      <td>NaN</td>\n",
       "      <td>NaN</td>\n",
       "      <td>NaN</td>\n",
       "    </tr>\n",
       "    <tr>\n",
       "      <th>4</th>\n",
       "      <td>4</td>\n",
       "      <td>NaN</td>\n",
       "      <td>NaN</td>\n",
       "      <td>NaN</td>\n",
       "    </tr>\n",
       "    <tr>\n",
       "      <th>5</th>\n",
       "      <td>5</td>\n",
       "      <td>90.0 cm</td>\n",
       "      <td>90.0</td>\n",
       "      <td>centimetre</td>\n",
       "    </tr>\n",
       "    <tr>\n",
       "      <th>6</th>\n",
       "      <td>6</td>\n",
       "      <td>10.50 cm</td>\n",
       "      <td>10.50</td>\n",
       "      <td>centimetre</td>\n",
       "    </tr>\n",
       "    <tr>\n",
       "      <th>7</th>\n",
       "      <td>7</td>\n",
       "      <td>1.4 inch</td>\n",
       "      <td>1.4</td>\n",
       "      <td>inch</td>\n",
       "    </tr>\n",
       "    <tr>\n",
       "      <th>8</th>\n",
       "      <td>8</td>\n",
       "      <td>40.0 centimetre</td>\n",
       "      <td>40.0</td>\n",
       "      <td>centimetre</td>\n",
       "    </tr>\n",
       "    <tr>\n",
       "      <th>9</th>\n",
       "      <td>9</td>\n",
       "      <td>40.0 centimetre</td>\n",
       "      <td>40.0</td>\n",
       "      <td>centimetre</td>\n",
       "    </tr>\n",
       "    <tr>\n",
       "      <th>10</th>\n",
       "      <td>10</td>\n",
       "      <td>NaN</td>\n",
       "      <td>NaN</td>\n",
       "      <td>NaN</td>\n",
       "    </tr>\n",
       "    <tr>\n",
       "      <th>11</th>\n",
       "      <td>11</td>\n",
       "      <td>30.6 centimetre</td>\n",
       "      <td>30.6</td>\n",
       "      <td>centimetre</td>\n",
       "    </tr>\n",
       "    <tr>\n",
       "      <th>12</th>\n",
       "      <td>12</td>\n",
       "      <td>4.3 inch</td>\n",
       "      <td>4.3</td>\n",
       "      <td>inch</td>\n",
       "    </tr>\n",
       "    <tr>\n",
       "      <th>13</th>\n",
       "      <td>13</td>\n",
       "      <td>4.3 inch</td>\n",
       "      <td>4.3</td>\n",
       "      <td>inch</td>\n",
       "    </tr>\n",
       "    <tr>\n",
       "      <th>14</th>\n",
       "      <td>14</td>\n",
       "      <td>4.3 inch</td>\n",
       "      <td>4.3</td>\n",
       "      <td>inch</td>\n",
       "    </tr>\n",
       "    <tr>\n",
       "      <th>15</th>\n",
       "      <td>15</td>\n",
       "      <td>NaN</td>\n",
       "      <td>NaN</td>\n",
       "      <td>NaN</td>\n",
       "    </tr>\n",
       "    <tr>\n",
       "      <th>16</th>\n",
       "      <td>16</td>\n",
       "      <td>NaN</td>\n",
       "      <td>NaN</td>\n",
       "      <td>NaN</td>\n",
       "    </tr>\n",
       "    <tr>\n",
       "      <th>17</th>\n",
       "      <td>17</td>\n",
       "      <td>NaN</td>\n",
       "      <td>NaN</td>\n",
       "      <td>NaN</td>\n",
       "    </tr>\n",
       "    <tr>\n",
       "      <th>18</th>\n",
       "      <td>18</td>\n",
       "      <td>NaN</td>\n",
       "      <td>NaN</td>\n",
       "      <td>NaN</td>\n",
       "    </tr>\n",
       "    <tr>\n",
       "      <th>19</th>\n",
       "      <td>19</td>\n",
       "      <td>208.0 volt</td>\n",
       "      <td>208.0</td>\n",
       "      <td>volt</td>\n",
       "    </tr>\n",
       "  </tbody>\n",
       "</table>\n",
       "</div>"
      ],
      "text/plain": [
       "    index   ans_entity_val entity_value entity_unit\n",
       "0       0        78.0 inch         78.0        inch\n",
       "1       1          42.0 cm         42.0  centimetre\n",
       "2       2         200.0 cm        200.0  centimetre\n",
       "3       3              NaN          NaN         NaN\n",
       "4       4              NaN          NaN         NaN\n",
       "5       5          90.0 cm         90.0  centimetre\n",
       "6       6         10.50 cm        10.50  centimetre\n",
       "7       7         1.4 inch          1.4        inch\n",
       "8       8  40.0 centimetre         40.0  centimetre\n",
       "9       9  40.0 centimetre         40.0  centimetre\n",
       "10     10              NaN          NaN         NaN\n",
       "11     11  30.6 centimetre         30.6  centimetre\n",
       "12     12         4.3 inch          4.3        inch\n",
       "13     13         4.3 inch          4.3        inch\n",
       "14     14         4.3 inch          4.3        inch\n",
       "15     15              NaN          NaN         NaN\n",
       "16     16              NaN          NaN         NaN\n",
       "17     17              NaN          NaN         NaN\n",
       "18     18              NaN          NaN         NaN\n",
       "19     19       208.0 volt        208.0        volt"
      ]
     },
     "execution_count": 439,
     "metadata": {},
     "output_type": "execute_result"
    }
   ],
   "source": [
    "# Function to check if a value is not a float and not null\n",
    "def is_not_float_or_null(value):\n",
    "    if pd.isnull(value):\n",
    "        return False\n",
    "    try:\n",
    "        float(value)\n",
    "        return False\n",
    "    except ValueError:\n",
    "        return True\n",
    "\n",
    "# Apply the function to filter rows\n",
    "filtered_df = df2[df2['entity_value'].apply(is_not_float_or_null)]\n",
    "\n",
    "print(filtered_df.shape)\n",
    "filtered_df.head()\n",
    "\n",
    "# Update the entity_value and entity_unit columns for the filtered rows\n",
    "df2.loc[df2['entity_value'].apply(is_not_float_or_null), ['entity_value', 'entity_unit']] = ''\n",
    "\n",
    "print(df2.shape)\n",
    "df2.head(20)\n"
   ]
  },
  {
   "cell_type": "code",
   "execution_count": 440,
   "metadata": {},
   "outputs": [
    {
     "name": "stdout",
     "output_type": "stream",
     "text": [
      "(131175, 4)\n",
      "25\n",
      "['inch' 'centimetre' nan 'volt' 'kilogram' 'pound' 'gram' 'millimetre' ''\n",
      " 'ounce' 'metre' 'watt' 'ton' 'foot' 'millilitre' 'milligram' 'litre'\n",
      " 'cup' 'kilowatt' 'quart' 'gallon' 'millivolt' 'yard' 'kilovolt' 'pint']\n"
     ]
    },
    {
     "data": {
      "text/plain": [
       "np.int64(47132)"
      ]
     },
     "execution_count": 440,
     "metadata": {},
     "output_type": "execute_result"
    }
   ],
   "source": [
    "# print(df2.shape)\n",
    "# print(len(df2['entity_unit'].unique()))\n",
    "# print(df2['entity_unit'].unique())\n",
    "\n",
    "# df2['entity_unit'].isnull().sum()"
   ]
  },
  {
   "cell_type": "code",
   "execution_count": 441,
   "metadata": {},
   "outputs": [
    {
     "name": "stdout",
     "output_type": "stream",
     "text": [
      "(131175, 2)\n"
     ]
    },
    {
     "data": {
      "text/html": [
       "<div>\n",
       "<style scoped>\n",
       "    .dataframe tbody tr th:only-of-type {\n",
       "        vertical-align: middle;\n",
       "    }\n",
       "\n",
       "    .dataframe tbody tr th {\n",
       "        vertical-align: top;\n",
       "    }\n",
       "\n",
       "    .dataframe thead th {\n",
       "        text-align: right;\n",
       "    }\n",
       "</style>\n",
       "<table border=\"1\" class=\"dataframe\">\n",
       "  <thead>\n",
       "    <tr style=\"text-align: right;\">\n",
       "      <th></th>\n",
       "      <th>index</th>\n",
       "      <th>ans_entity_val</th>\n",
       "    </tr>\n",
       "  </thead>\n",
       "  <tbody>\n",
       "    <tr>\n",
       "      <th>0</th>\n",
       "      <td>0</td>\n",
       "      <td>78.0 inch</td>\n",
       "    </tr>\n",
       "    <tr>\n",
       "      <th>1</th>\n",
       "      <td>1</td>\n",
       "      <td>42.0 cm</td>\n",
       "    </tr>\n",
       "    <tr>\n",
       "      <th>2</th>\n",
       "      <td>2</td>\n",
       "      <td>200.0 cm</td>\n",
       "    </tr>\n",
       "    <tr>\n",
       "      <th>3</th>\n",
       "      <td>3</td>\n",
       "      <td>NaN</td>\n",
       "    </tr>\n",
       "    <tr>\n",
       "      <th>4</th>\n",
       "      <td>4</td>\n",
       "      <td>NaN</td>\n",
       "    </tr>\n",
       "    <tr>\n",
       "      <th>5</th>\n",
       "      <td>5</td>\n",
       "      <td>90.0 cm</td>\n",
       "    </tr>\n",
       "    <tr>\n",
       "      <th>6</th>\n",
       "      <td>6</td>\n",
       "      <td>10.50 cm</td>\n",
       "    </tr>\n",
       "    <tr>\n",
       "      <th>7</th>\n",
       "      <td>7</td>\n",
       "      <td>1.4 inch</td>\n",
       "    </tr>\n",
       "    <tr>\n",
       "      <th>8</th>\n",
       "      <td>8</td>\n",
       "      <td>40.0 centimetre</td>\n",
       "    </tr>\n",
       "    <tr>\n",
       "      <th>9</th>\n",
       "      <td>9</td>\n",
       "      <td>40.0 centimetre</td>\n",
       "    </tr>\n",
       "    <tr>\n",
       "      <th>10</th>\n",
       "      <td>10</td>\n",
       "      <td>NaN</td>\n",
       "    </tr>\n",
       "    <tr>\n",
       "      <th>11</th>\n",
       "      <td>11</td>\n",
       "      <td>30.6 centimetre</td>\n",
       "    </tr>\n",
       "    <tr>\n",
       "      <th>12</th>\n",
       "      <td>12</td>\n",
       "      <td>4.3 inch</td>\n",
       "    </tr>\n",
       "    <tr>\n",
       "      <th>13</th>\n",
       "      <td>13</td>\n",
       "      <td>4.3 inch</td>\n",
       "    </tr>\n",
       "    <tr>\n",
       "      <th>14</th>\n",
       "      <td>14</td>\n",
       "      <td>4.3 inch</td>\n",
       "    </tr>\n",
       "    <tr>\n",
       "      <th>15</th>\n",
       "      <td>15</td>\n",
       "      <td>NaN</td>\n",
       "    </tr>\n",
       "    <tr>\n",
       "      <th>16</th>\n",
       "      <td>16</td>\n",
       "      <td>NaN</td>\n",
       "    </tr>\n",
       "    <tr>\n",
       "      <th>17</th>\n",
       "      <td>17</td>\n",
       "      <td>NaN</td>\n",
       "    </tr>\n",
       "    <tr>\n",
       "      <th>18</th>\n",
       "      <td>18</td>\n",
       "      <td>NaN</td>\n",
       "    </tr>\n",
       "    <tr>\n",
       "      <th>19</th>\n",
       "      <td>19</td>\n",
       "      <td>208.0 volt</td>\n",
       "    </tr>\n",
       "  </tbody>\n",
       "</table>\n",
       "</div>"
      ],
      "text/plain": [
       "    index   ans_entity_val\n",
       "0       0        78.0 inch\n",
       "1       1          42.0 cm\n",
       "2       2         200.0 cm\n",
       "3       3              NaN\n",
       "4       4              NaN\n",
       "5       5          90.0 cm\n",
       "6       6         10.50 cm\n",
       "7       7         1.4 inch\n",
       "8       8  40.0 centimetre\n",
       "9       9  40.0 centimetre\n",
       "10     10              NaN\n",
       "11     11  30.6 centimetre\n",
       "12     12         4.3 inch\n",
       "13     13         4.3 inch\n",
       "14     14         4.3 inch\n",
       "15     15              NaN\n",
       "16     16              NaN\n",
       "17     17              NaN\n",
       "18     18              NaN\n",
       "19     19       208.0 volt"
      ]
     },
     "execution_count": 441,
     "metadata": {},
     "output_type": "execute_result"
    }
   ],
   "source": [
    "df2.drop(columns=['entity_value', 'entity_unit'], inplace=True)\n",
    "print(df2.shape)\n",
    "df2.head(20)"
   ]
  },
  {
   "cell_type": "code",
   "execution_count": 443,
   "metadata": {},
   "outputs": [],
   "source": [
    "df2.to_csv('final_test_output_eda.csv', index=False)"
   ]
  },
  {
   "cell_type": "code",
   "execution_count": 444,
   "metadata": {},
   "outputs": [
    {
     "name": "stdout",
     "output_type": "stream",
     "text": [
      "(131187, 4)\n",
      "(131175, 2)\n"
     ]
    }
   ],
   "source": [
    "df3= pd.read_csv('./dataset/test.csv')\n",
    "print(df3.shape)\n",
    "print(df2.shape)"
   ]
  },
  {
   "cell_type": "code",
   "execution_count": 445,
   "metadata": {},
   "outputs": [
    {
     "name": "stdout",
     "output_type": "stream",
     "text": [
      "(131187, 2)\n",
      "(131187, 1)\n"
     ]
    }
   ],
   "source": [
    "df3.drop(columns=['image_link', 'entity_name', 'group_id'], inplace=True)\n",
    "missing_indices = df3[~df3['index'].isin(df2['index'])]\n",
    "\n",
    "# Create a DataFrame with these missing index values and set ans_entity_val to NaN\n",
    "missing_rows = missing_indices[['index']].copy()\n",
    "missing_rows['ans_entity_val'] = np.nan\n",
    "\n",
    "# Append the missing rows to df2\n",
    "df2 = pd.concat([df2, missing_rows], ignore_index=True).sort_values(by='index').reset_index(drop=True)\n",
    "\n",
    "print(df2.shape)\n",
    "print(df3.shape)"
   ]
  },
  {
   "cell_type": "code",
   "execution_count": 374,
   "metadata": {},
   "outputs": [
    {
     "name": "stdout",
     "output_type": "stream",
     "text": [
      "0\n"
     ]
    }
   ],
   "source": [
    "# Compare the values in the specified column\n",
    "diff_rows = df3['index'] != df2['index']\n",
    "\n",
    "# Count the number of different values\n",
    "count_diff = diff_rows.sum()\n",
    "print(count_diff)"
   ]
  },
  {
   "cell_type": "code",
   "execution_count": 447,
   "metadata": {},
   "outputs": [],
   "source": [
    "df2 = df2.rename(columns={'ans_entity_val': 'prediction'})"
   ]
  },
  {
   "cell_type": "code",
   "execution_count": 448,
   "metadata": {},
   "outputs": [],
   "source": [
    "df2.to_csv('final_test_output_eda2.csv', index=False)"
   ]
  },
  {
   "cell_type": "code",
   "execution_count": 450,
   "metadata": {},
   "outputs": [
    {
     "data": {
      "text/html": [
       "<div>\n",
       "<style scoped>\n",
       "    .dataframe tbody tr th:only-of-type {\n",
       "        vertical-align: middle;\n",
       "    }\n",
       "\n",
       "    .dataframe tbody tr th {\n",
       "        vertical-align: top;\n",
       "    }\n",
       "\n",
       "    .dataframe thead th {\n",
       "        text-align: right;\n",
       "    }\n",
       "</style>\n",
       "<table border=\"1\" class=\"dataframe\">\n",
       "  <thead>\n",
       "    <tr style=\"text-align: right;\">\n",
       "      <th></th>\n",
       "      <th>index</th>\n",
       "      <th>prediction</th>\n",
       "    </tr>\n",
       "  </thead>\n",
       "  <tbody>\n",
       "    <tr>\n",
       "      <th>0</th>\n",
       "      <td>0</td>\n",
       "      <td>78.0 inch</td>\n",
       "    </tr>\n",
       "    <tr>\n",
       "      <th>1</th>\n",
       "      <td>1</td>\n",
       "      <td>42.0 cm</td>\n",
       "    </tr>\n",
       "    <tr>\n",
       "      <th>2</th>\n",
       "      <td>2</td>\n",
       "      <td>200.0 cm</td>\n",
       "    </tr>\n",
       "    <tr>\n",
       "      <th>3</th>\n",
       "      <td>3</td>\n",
       "      <td>NaN</td>\n",
       "    </tr>\n",
       "    <tr>\n",
       "      <th>4</th>\n",
       "      <td>4</td>\n",
       "      <td>NaN</td>\n",
       "    </tr>\n",
       "    <tr>\n",
       "      <th>...</th>\n",
       "      <td>...</td>\n",
       "      <td>...</td>\n",
       "    </tr>\n",
       "    <tr>\n",
       "      <th>131182</th>\n",
       "      <td>131283</td>\n",
       "      <td>1500 pound</td>\n",
       "    </tr>\n",
       "    <tr>\n",
       "      <th>131183</th>\n",
       "      <td>131284</td>\n",
       "      <td>NaN</td>\n",
       "    </tr>\n",
       "    <tr>\n",
       "      <th>131184</th>\n",
       "      <td>131285</td>\n",
       "      <td>NaN</td>\n",
       "    </tr>\n",
       "    <tr>\n",
       "      <th>131185</th>\n",
       "      <td>131286</td>\n",
       "      <td>NaN</td>\n",
       "    </tr>\n",
       "    <tr>\n",
       "      <th>131186</th>\n",
       "      <td>131287</td>\n",
       "      <td>NaN</td>\n",
       "    </tr>\n",
       "  </tbody>\n",
       "</table>\n",
       "<p>131187 rows × 2 columns</p>\n",
       "</div>"
      ],
      "text/plain": [
       "         index  prediction\n",
       "0            0   78.0 inch\n",
       "1            1     42.0 cm\n",
       "2            2    200.0 cm\n",
       "3            3         NaN\n",
       "4            4         NaN\n",
       "...        ...         ...\n",
       "131182  131283  1500 pound\n",
       "131183  131284         NaN\n",
       "131184  131285         NaN\n",
       "131185  131286         NaN\n",
       "131186  131287         NaN\n",
       "\n",
       "[131187 rows x 2 columns]"
      ]
     },
     "execution_count": 450,
     "metadata": {},
     "output_type": "execute_result"
    }
   ],
   "source": [
    "pd.read_csv('final_test_output_eda2.csv')"
   ]
  },
  {
   "cell_type": "code",
   "execution_count": 452,
   "metadata": {},
   "outputs": [
    {
     "data": {
      "text/plain": [
       "355"
      ]
     },
     "execution_count": 452,
     "metadata": {},
     "output_type": "execute_result"
    }
   ],
   "source": [
    "# Create 'value' and 'unit' columns based on 'prediction'\n",
    "df2['value'] = df2['prediction'].apply(lambda x: x.split(' ')[0] if isinstance(x, str) and ' ' in x else x if isinstance(x, str) else None)\n",
    "df2['unit'] = df2['prediction'].apply(lambda x: x.split(' ')[1] if isinstance(x, str) and ' ' in x else None)\n",
    "\n",
    "len(df2['unit'].unique())"
   ]
  },
  {
   "cell_type": "code",
   "execution_count": 454,
   "metadata": {},
   "outputs": [
    {
     "data": {
      "text/plain": [
       "array(['inch', 'cm', None, 'centimetre', 'volt', 'kilogram', 'pound',\n",
       "       'gram', 'millimeter', 'millimetre', 'watt', 'ounce', 'mm', 'floz',\n",
       "       'ton', '2.83inch', 'diameter', 'centimeter', 'foot', 'meter',\n",
       "       'determine', 'millilitre', 'grams', 'milligram', 'oz', 'inches',\n",
       "       'pounds', 'in', 'milliliter', 'bulb', 'numerical_value', 'litre',\n",
       "       'cup', 'gramco', 'kilowatt', '110cm', '20.5cm', 'ithum', 'liter',\n",
       "       'numerical', 'cm³', 'quart', 'hints', 'milligrams', 'metre', 'ml',\n",
       "       '6cm', 'compact', 'lb', 'ampere', 'qt', 'b/m2', 'floz946ml',\n",
       "       'mutant', 'gallon', 'mango', 'volts', 'lers/simples', 'gm', 'rpm',\n",
       "       'mushroom', '5cm', 'ounces', 'bounces', 'gsm', 'softchews', '45cm',\n",
       "       '1cm', 'kg', '30cm', 'floz330', '40mm', 'oz59ml', '150cm/59inch',\n",
       "       '136mm', '300ml', 'millivolt', 'lbs', 'floz330ml', 'million',\n",
       "       'fast-absorbing', 'cm²', '8.1in', '43mm/1.69inch', 'cm40.4',\n",
       "       '20cm', 'amp', 'watts', 'government', '42cm', 'miom', 'carcam',\n",
       "       'floz33ml', 'epsom', 'mile', 'cubic_inch', 'grammes',\n",
       "       'millimetres', 'made', 'left', 'imported', 'mg', 'cfm/watt',\n",
       "       'home', 'feet', 'floating_integer', 'lumens', '210cm', 'cms',\n",
       "       'floz355', 'mah', 'milliampere-hour', 'tmakita', 'determined',\n",
       "       'cm28.0', '13cm/5inch', 'cm3', 'umens', 'miles', 'cm24.8',\n",
       "       'floz355ml', '6.7in', '3in', '3x3m', '7mm', '8mm', 'coins',\n",
       "       '20.7cm/8.1', 'determinable', '0.1inch', 'me', 'centimetres',\n",
       "       'kilograms', '14mm', 'ft', 'millimeters', '127mm', 'smartest',\n",
       "       'times', 'm³', '178mm', 'integer', 'company', 'omato', '11.0cm',\n",
       "       'from40-120lb', 'floz1p1473ml', 'singlebrgits', '90mm', 'meters',\n",
       "       'compatible', 'g/m2', 'makita', 'micromillimeter', 'cfm', '87cm',\n",
       "       '22cm/8.6in', '123cm', 'beam', 'morice', 'serving', '95mm',\n",
       "       '0.7cm/0.27in', 'veodymiun', 'ml4oz', 'lumen', 'family', '52mm',\n",
       "       'mic', 'micrometre', '29cm', 'r/min', 'qqty1', 'spin', 'm24',\n",
       "       'microfarad', '22mm', 'centimeters', '28cm', '55mm', '60x200cm',\n",
       "       'sinocmp', 'silber', 'lozenges', '3x5m', 'micrometer',\n",
       "       'information', '24mm', 'mph', '55cm', 'nanogram', 'defined',\n",
       "       '1.3inch', 'milliamp', 'milliampere', '15in', 'performancee',\n",
       "       'decimal', '2.2inch', '4.0m', '12cm/4.72in', 'oz60', 'floz355m',\n",
       "       'yard', 'ram', '2in', '2cm', 'oz80g', '8cm', '5in', 'mr.go',\n",
       "       '17mm', 'complex', 'max', '2.5x2.5m', '41cm', 'choking', 'mrc',\n",
       "       '60cm', 'moooon', '15mm', '24cm', 'm', '200cm', '24x19x8cm',\n",
       "       'milliwatt', 'millile', 'cubic_meter', '2.5ft', 'mooe3-sntry',\n",
       "       '19mm', '7in', 'ovelmp', 'coin', 'line', '150mm', '7cm', 'mm3',\n",
       "       'gallons', 'kilometer', 'sunshine', 'cylinder', 'walimex',\n",
       "       '5.19inch', 'millilitres', 'm3/h', '108inch', '31cm',\n",
       "       '1500pcs85x50cm', '35mm/1.37in', 'planning', 'premier', 'mm³',\n",
       "       '47mm71.85in', 'assembly', '1.7inch', 'yards', '100cm', 'more',\n",
       "       'eadas-elbow', '54mm', 'lbtimkenload', 'mmlt', '5mm', 'flozcan',\n",
       "       'gram/square_meter', '5.8in', '7.48in', 'smaller', '15cm/5.9in',\n",
       "       'carmo', '8ohm/15vc', '115mm', '30ml', 'undefined', '227mm',\n",
       "       'tomas', '60in', 'mil', '47cm', '11cm/4.33inch', '13cm/5.1in',\n",
       "       '12*18inch', 'm711', 'makes', '6.35mm', '8m', 'mid', 'dome',\n",
       "       'pump', 'input', 'mr-black', 'impedance', 'samsung', '100lbs',\n",
       "       'minute', 'bocina', 'kilovolt', 'cubic_centimeter', 'gal',\n",
       "       'minutes', 'millifloz', 'aluminum', 'megahertz', 'floz473ml',\n",
       "       'floz1qt546m', 'oz1l', 'almond', 'medium', 'pint', 'oz59', 'mb',\n",
       "       'servings', 'madefor', '186ml', 'csm', 'fl.oz6ml', 'sml',\n",
       "       'oz355ml', 'ozhalf', 'ozhal', 'floz35ml', '8-inch', 'lozenge',\n",
       "       'aquarium', 'floz710n', 'liters', 'floz1qt/946ml', 'yds/215m',\n",
       "       'grain', 'floz472ml'], dtype=object)"
      ]
     },
     "execution_count": 454,
     "metadata": {},
     "output_type": "execute_result"
    }
   ],
   "source": [
    "df2['unit'] = df2['unit'].str.lower()\n",
    "df2['unit'].unique()"
   ]
  },
  {
   "cell_type": "code",
   "execution_count": null,
   "metadata": {},
   "outputs": [],
   "source": []
  },
  {
   "cell_type": "code",
   "execution_count": 474,
   "metadata": {},
   "outputs": [
    {
     "data": {
      "text/plain": [
       "24"
      ]
     },
     "execution_count": 474,
     "metadata": {},
     "output_type": "execute_result"
    }
   ],
   "source": [
    "df101= pd.read_csv(\"./final_test_output_eda_interm.csv\")\n",
    "len(df101['entity_unit'].unique())"
   ]
  },
  {
   "cell_type": "code",
   "execution_count": 475,
   "metadata": {},
   "outputs": [
    {
     "name": "stdout",
     "output_type": "stream",
     "text": [
      "(425, 4)\n",
      "(131175, 4)\n"
     ]
    },
    {
     "data": {
      "text/html": [
       "<div>\n",
       "<style scoped>\n",
       "    .dataframe tbody tr th:only-of-type {\n",
       "        vertical-align: middle;\n",
       "    }\n",
       "\n",
       "    .dataframe tbody tr th {\n",
       "        vertical-align: top;\n",
       "    }\n",
       "\n",
       "    .dataframe thead th {\n",
       "        text-align: right;\n",
       "    }\n",
       "</style>\n",
       "<table border=\"1\" class=\"dataframe\">\n",
       "  <thead>\n",
       "    <tr style=\"text-align: right;\">\n",
       "      <th></th>\n",
       "      <th>index</th>\n",
       "      <th>ans_entity_val</th>\n",
       "      <th>entity_value</th>\n",
       "      <th>entity_unit</th>\n",
       "    </tr>\n",
       "  </thead>\n",
       "  <tbody>\n",
       "    <tr>\n",
       "      <th>0</th>\n",
       "      <td>0</td>\n",
       "      <td>78.0 inch</td>\n",
       "      <td>78.0</td>\n",
       "      <td>inch</td>\n",
       "    </tr>\n",
       "    <tr>\n",
       "      <th>1</th>\n",
       "      <td>1</td>\n",
       "      <td>42.0 cm</td>\n",
       "      <td>42.0</td>\n",
       "      <td>centimetre</td>\n",
       "    </tr>\n",
       "    <tr>\n",
       "      <th>2</th>\n",
       "      <td>2</td>\n",
       "      <td>200.0 cm</td>\n",
       "      <td>200.0</td>\n",
       "      <td>centimetre</td>\n",
       "    </tr>\n",
       "    <tr>\n",
       "      <th>3</th>\n",
       "      <td>3</td>\n",
       "      <td>NaN</td>\n",
       "      <td>NaN</td>\n",
       "      <td>NaN</td>\n",
       "    </tr>\n",
       "    <tr>\n",
       "      <th>4</th>\n",
       "      <td>4</td>\n",
       "      <td>NaN</td>\n",
       "      <td>NaN</td>\n",
       "      <td>NaN</td>\n",
       "    </tr>\n",
       "    <tr>\n",
       "      <th>5</th>\n",
       "      <td>5</td>\n",
       "      <td>90.0 cm</td>\n",
       "      <td>90.0</td>\n",
       "      <td>centimetre</td>\n",
       "    </tr>\n",
       "    <tr>\n",
       "      <th>6</th>\n",
       "      <td>6</td>\n",
       "      <td>10.50 cm</td>\n",
       "      <td>10.50</td>\n",
       "      <td>centimetre</td>\n",
       "    </tr>\n",
       "    <tr>\n",
       "      <th>7</th>\n",
       "      <td>7</td>\n",
       "      <td>1.4 inch</td>\n",
       "      <td>1.4</td>\n",
       "      <td>inch</td>\n",
       "    </tr>\n",
       "    <tr>\n",
       "      <th>8</th>\n",
       "      <td>8</td>\n",
       "      <td>40.0 centimetre</td>\n",
       "      <td>40.0</td>\n",
       "      <td>centimetre</td>\n",
       "    </tr>\n",
       "    <tr>\n",
       "      <th>9</th>\n",
       "      <td>9</td>\n",
       "      <td>40.0 centimetre</td>\n",
       "      <td>40.0</td>\n",
       "      <td>centimetre</td>\n",
       "    </tr>\n",
       "    <tr>\n",
       "      <th>10</th>\n",
       "      <td>10</td>\n",
       "      <td>NaN</td>\n",
       "      <td>NaN</td>\n",
       "      <td>NaN</td>\n",
       "    </tr>\n",
       "    <tr>\n",
       "      <th>11</th>\n",
       "      <td>11</td>\n",
       "      <td>30.6 centimetre</td>\n",
       "      <td>30.6</td>\n",
       "      <td>centimetre</td>\n",
       "    </tr>\n",
       "    <tr>\n",
       "      <th>12</th>\n",
       "      <td>12</td>\n",
       "      <td>4.3 inch</td>\n",
       "      <td>4.3</td>\n",
       "      <td>inch</td>\n",
       "    </tr>\n",
       "    <tr>\n",
       "      <th>13</th>\n",
       "      <td>13</td>\n",
       "      <td>4.3 inch</td>\n",
       "      <td>4.3</td>\n",
       "      <td>inch</td>\n",
       "    </tr>\n",
       "    <tr>\n",
       "      <th>14</th>\n",
       "      <td>14</td>\n",
       "      <td>4.3 inch</td>\n",
       "      <td>4.3</td>\n",
       "      <td>inch</td>\n",
       "    </tr>\n",
       "    <tr>\n",
       "      <th>15</th>\n",
       "      <td>15</td>\n",
       "      <td>NaN</td>\n",
       "      <td>NaN</td>\n",
       "      <td>NaN</td>\n",
       "    </tr>\n",
       "    <tr>\n",
       "      <th>16</th>\n",
       "      <td>16</td>\n",
       "      <td>NaN</td>\n",
       "      <td>NaN</td>\n",
       "      <td>NaN</td>\n",
       "    </tr>\n",
       "    <tr>\n",
       "      <th>17</th>\n",
       "      <td>17</td>\n",
       "      <td>NaN</td>\n",
       "      <td>NaN</td>\n",
       "      <td>NaN</td>\n",
       "    </tr>\n",
       "    <tr>\n",
       "      <th>18</th>\n",
       "      <td>18</td>\n",
       "      <td>NaN</td>\n",
       "      <td>NaN</td>\n",
       "      <td>NaN</td>\n",
       "    </tr>\n",
       "    <tr>\n",
       "      <th>19</th>\n",
       "      <td>19</td>\n",
       "      <td>208.0 volt</td>\n",
       "      <td>208.0</td>\n",
       "      <td>volt</td>\n",
       "    </tr>\n",
       "  </tbody>\n",
       "</table>\n",
       "</div>"
      ],
      "text/plain": [
       "    index   ans_entity_val entity_value entity_unit\n",
       "0       0        78.0 inch         78.0        inch\n",
       "1       1          42.0 cm         42.0  centimetre\n",
       "2       2         200.0 cm        200.0  centimetre\n",
       "3       3              NaN          NaN         NaN\n",
       "4       4              NaN          NaN         NaN\n",
       "5       5          90.0 cm         90.0  centimetre\n",
       "6       6         10.50 cm        10.50  centimetre\n",
       "7       7         1.4 inch          1.4        inch\n",
       "8       8  40.0 centimetre         40.0  centimetre\n",
       "9       9  40.0 centimetre         40.0  centimetre\n",
       "10     10              NaN          NaN         NaN\n",
       "11     11  30.6 centimetre         30.6  centimetre\n",
       "12     12         4.3 inch          4.3        inch\n",
       "13     13         4.3 inch          4.3        inch\n",
       "14     14         4.3 inch          4.3        inch\n",
       "15     15              NaN          NaN         NaN\n",
       "16     16              NaN          NaN         NaN\n",
       "17     17              NaN          NaN         NaN\n",
       "18     18              NaN          NaN         NaN\n",
       "19     19       208.0 volt        208.0        volt"
      ]
     },
     "execution_count": 475,
     "metadata": {},
     "output_type": "execute_result"
    }
   ],
   "source": [
    "# Function to check if a value is not a float and not null\n",
    "def is_not_float_or_null(value):\n",
    "    if pd.isnull(value):\n",
    "        return False\n",
    "    try:\n",
    "        float(value)\n",
    "        return False\n",
    "    except ValueError:\n",
    "        return True\n",
    "\n",
    "# Apply the function to filter rows\n",
    "filtered_df = df101[df101['entity_value'].apply(is_not_float_or_null)]\n",
    "\n",
    "print(filtered_df.shape)\n",
    "filtered_df.head()\n",
    "\n",
    "# Update the entity_value and entity_unit columns for the filtered rows\n",
    "df101.loc[df101['entity_value'].apply(is_not_float_or_null), ['entity_value', 'entity_unit']] = ''\n",
    "\n",
    "print(df101.shape)\n",
    "df101.head(20)"
   ]
  },
  {
   "cell_type": "code",
   "execution_count": 476,
   "metadata": {},
   "outputs": [
    {
     "data": {
      "text/html": [
       "<div>\n",
       "<style scoped>\n",
       "    .dataframe tbody tr th:only-of-type {\n",
       "        vertical-align: middle;\n",
       "    }\n",
       "\n",
       "    .dataframe tbody tr th {\n",
       "        vertical-align: top;\n",
       "    }\n",
       "\n",
       "    .dataframe thead th {\n",
       "        text-align: right;\n",
       "    }\n",
       "</style>\n",
       "<table border=\"1\" class=\"dataframe\">\n",
       "  <thead>\n",
       "    <tr style=\"text-align: right;\">\n",
       "      <th></th>\n",
       "      <th>index</th>\n",
       "      <th>prediction</th>\n",
       "    </tr>\n",
       "  </thead>\n",
       "  <tbody>\n",
       "    <tr>\n",
       "      <th>0</th>\n",
       "      <td>0</td>\n",
       "      <td>78.0 inch</td>\n",
       "    </tr>\n",
       "    <tr>\n",
       "      <th>1</th>\n",
       "      <td>1</td>\n",
       "      <td>42.0 centimetre</td>\n",
       "    </tr>\n",
       "    <tr>\n",
       "      <th>2</th>\n",
       "      <td>2</td>\n",
       "      <td>200.0 centimetre</td>\n",
       "    </tr>\n",
       "    <tr>\n",
       "      <th>3</th>\n",
       "      <td>3</td>\n",
       "      <td>NaN</td>\n",
       "    </tr>\n",
       "    <tr>\n",
       "      <th>4</th>\n",
       "      <td>4</td>\n",
       "      <td>NaN</td>\n",
       "    </tr>\n",
       "    <tr>\n",
       "      <th>5</th>\n",
       "      <td>5</td>\n",
       "      <td>90.0 centimetre</td>\n",
       "    </tr>\n",
       "    <tr>\n",
       "      <th>6</th>\n",
       "      <td>6</td>\n",
       "      <td>10.50 centimetre</td>\n",
       "    </tr>\n",
       "    <tr>\n",
       "      <th>7</th>\n",
       "      <td>7</td>\n",
       "      <td>1.4 inch</td>\n",
       "    </tr>\n",
       "    <tr>\n",
       "      <th>8</th>\n",
       "      <td>8</td>\n",
       "      <td>40.0 centimetre</td>\n",
       "    </tr>\n",
       "    <tr>\n",
       "      <th>9</th>\n",
       "      <td>9</td>\n",
       "      <td>40.0 centimetre</td>\n",
       "    </tr>\n",
       "  </tbody>\n",
       "</table>\n",
       "</div>"
      ],
      "text/plain": [
       "   index        prediction\n",
       "0      0         78.0 inch\n",
       "1      1   42.0 centimetre\n",
       "2      2  200.0 centimetre\n",
       "3      3               NaN\n",
       "4      4               NaN\n",
       "5      5   90.0 centimetre\n",
       "6      6  10.50 centimetre\n",
       "7      7          1.4 inch\n",
       "8      8   40.0 centimetre\n",
       "9      9   40.0 centimetre"
      ]
     },
     "execution_count": 476,
     "metadata": {},
     "output_type": "execute_result"
    }
   ],
   "source": [
    "df101['prediction'] = df101['entity_value'].astype(str) + ' ' + df101['entity_unit']\n",
    "df101.drop(columns=['entity_value', 'entity_unit', 'ans_entity_val'], inplace=True)\n",
    "df101.head(10)"
   ]
  },
  {
   "cell_type": "code",
   "execution_count": 477,
   "metadata": {},
   "outputs": [
    {
     "data": {
      "text/plain": [
       "np.int64(47132)"
      ]
     },
     "execution_count": 477,
     "metadata": {},
     "output_type": "execute_result"
    }
   ],
   "source": [
    "df101['prediction'].isnull().sum()"
   ]
  },
  {
   "cell_type": "code",
   "execution_count": 478,
   "metadata": {},
   "outputs": [
    {
     "name": "stdout",
     "output_type": "stream",
     "text": [
      "(131175, 2)\n",
      "(131187, 4)\n"
     ]
    }
   ],
   "source": [
    "df102= pd.read_csv('./dataset/test.csv')\n",
    "print(df101.shape)\n",
    "print(df102.shape)"
   ]
  },
  {
   "cell_type": "code",
   "execution_count": 479,
   "metadata": {},
   "outputs": [
    {
     "name": "stdout",
     "output_type": "stream",
     "text": [
      "(131187, 3)\n",
      "(131187, 1)\n"
     ]
    }
   ],
   "source": [
    "df102.drop(columns=['image_link', 'entity_name', 'group_id'], inplace=True)\n",
    "missing_indices = df102[~df102['index'].isin(df101['index'])]\n",
    "\n",
    "# Create a DataFrame with these missing index values and set ans_entity_val to NaN\n",
    "missing_rows = missing_indices[['index']].copy()\n",
    "missing_rows['ans_entity_val'] = np.nan\n",
    "\n",
    "# Append the missing rows to df101\n",
    "df101 = pd.concat([df101, missing_rows], ignore_index=True).sort_values(by='index').reset_index(drop=True)\n",
    "\n",
    "print(df101.shape)\n",
    "print(df102.shape)"
   ]
  },
  {
   "cell_type": "code",
   "execution_count": 482,
   "metadata": {},
   "outputs": [
    {
     "data": {
      "text/html": [
       "<div>\n",
       "<style scoped>\n",
       "    .dataframe tbody tr th:only-of-type {\n",
       "        vertical-align: middle;\n",
       "    }\n",
       "\n",
       "    .dataframe tbody tr th {\n",
       "        vertical-align: top;\n",
       "    }\n",
       "\n",
       "    .dataframe thead th {\n",
       "        text-align: right;\n",
       "    }\n",
       "</style>\n",
       "<table border=\"1\" class=\"dataframe\">\n",
       "  <thead>\n",
       "    <tr style=\"text-align: right;\">\n",
       "      <th></th>\n",
       "      <th>index</th>\n",
       "      <th>prediction</th>\n",
       "    </tr>\n",
       "  </thead>\n",
       "  <tbody>\n",
       "    <tr>\n",
       "      <th>0</th>\n",
       "      <td>0</td>\n",
       "      <td>78.0 inch</td>\n",
       "    </tr>\n",
       "    <tr>\n",
       "      <th>1</th>\n",
       "      <td>1</td>\n",
       "      <td>42.0 centimetre</td>\n",
       "    </tr>\n",
       "    <tr>\n",
       "      <th>2</th>\n",
       "      <td>2</td>\n",
       "      <td>200.0 centimetre</td>\n",
       "    </tr>\n",
       "    <tr>\n",
       "      <th>3</th>\n",
       "      <td>3</td>\n",
       "      <td>NaN</td>\n",
       "    </tr>\n",
       "    <tr>\n",
       "      <th>4</th>\n",
       "      <td>4</td>\n",
       "      <td>NaN</td>\n",
       "    </tr>\n",
       "  </tbody>\n",
       "</table>\n",
       "</div>"
      ],
      "text/plain": [
       "   index        prediction\n",
       "0      0         78.0 inch\n",
       "1      1   42.0 centimetre\n",
       "2      2  200.0 centimetre\n",
       "3      3               NaN\n",
       "4      4               NaN"
      ]
     },
     "execution_count": 482,
     "metadata": {},
     "output_type": "execute_result"
    }
   ],
   "source": [
    "df101.drop(columns=['ans_entity_val'], inplace=True)\n",
    "df101.head()"
   ]
  },
  {
   "cell_type": "code",
   "execution_count": 487,
   "metadata": {},
   "outputs": [
    {
     "name": "stdout",
     "output_type": "stream",
     "text": [
      "(131187, 2)\n"
     ]
    },
    {
     "data": {
      "text/plain": [
       "np.int64(47144)"
      ]
     },
     "execution_count": 487,
     "metadata": {},
     "output_type": "execute_result"
    }
   ],
   "source": [
    "print(df101.shape)\n",
    "df101['prediction'].isnull().sum()"
   ]
  },
  {
   "cell_type": "code",
   "execution_count": null,
   "metadata": {},
   "outputs": [],
   "source": []
  },
  {
   "cell_type": "code",
   "execution_count": 486,
   "metadata": {},
   "outputs": [],
   "source": [
    "df101.to_csv('final_test_output_eda10.csv', index=False)"
   ]
  },
  {
   "cell_type": "code",
   "execution_count": 472,
   "metadata": {},
   "outputs": [
    {
     "ename": "KeyError",
     "evalue": "\"['image_link', 'entity_name', 'group_id'] not found in axis\"",
     "output_type": "error",
     "traceback": [
      "\u001b[1;31m---------------------------------------------------------------------------\u001b[0m",
      "\u001b[1;31mKeyError\u001b[0m                                  Traceback (most recent call last)",
      "Cell \u001b[1;32mIn[472], line 1\u001b[0m\n\u001b[1;32m----> 1\u001b[0m \u001b[43mdf3\u001b[49m\u001b[38;5;241;43m.\u001b[39;49m\u001b[43mdrop\u001b[49m\u001b[43m(\u001b[49m\u001b[43mcolumns\u001b[49m\u001b[38;5;241;43m=\u001b[39;49m\u001b[43m[\u001b[49m\u001b[38;5;124;43m'\u001b[39;49m\u001b[38;5;124;43mimage_link\u001b[39;49m\u001b[38;5;124;43m'\u001b[39;49m\u001b[43m,\u001b[49m\u001b[43m \u001b[49m\u001b[38;5;124;43m'\u001b[39;49m\u001b[38;5;124;43mentity_name\u001b[39;49m\u001b[38;5;124;43m'\u001b[39;49m\u001b[43m,\u001b[49m\u001b[43m \u001b[49m\u001b[38;5;124;43m'\u001b[39;49m\u001b[38;5;124;43mgroup_id\u001b[39;49m\u001b[38;5;124;43m'\u001b[39;49m\u001b[43m]\u001b[49m\u001b[43m,\u001b[49m\u001b[43m \u001b[49m\u001b[43minplace\u001b[49m\u001b[38;5;241;43m=\u001b[39;49m\u001b[38;5;28;43;01mTrue\u001b[39;49;00m\u001b[43m)\u001b[49m\n\u001b[0;32m      2\u001b[0m missing_indices \u001b[38;5;241m=\u001b[39m df3[\u001b[38;5;241m~\u001b[39mdf3[\u001b[38;5;124m'\u001b[39m\u001b[38;5;124mindex\u001b[39m\u001b[38;5;124m'\u001b[39m]\u001b[38;5;241m.\u001b[39misin(df2[\u001b[38;5;124m'\u001b[39m\u001b[38;5;124mindex\u001b[39m\u001b[38;5;124m'\u001b[39m])]\n\u001b[0;32m      4\u001b[0m \u001b[38;5;66;03m# Create a DataFrame with these missing index values and set ans_entity_val to NaN\u001b[39;00m\n",
      "File \u001b[1;32mc:\\Users\\ayush\\Downloads\\student_resource 3\\.venv\\Lib\\site-packages\\pandas\\core\\frame.py:5581\u001b[0m, in \u001b[0;36mDataFrame.drop\u001b[1;34m(self, labels, axis, index, columns, level, inplace, errors)\u001b[0m\n\u001b[0;32m   5433\u001b[0m \u001b[38;5;28;01mdef\u001b[39;00m \u001b[38;5;21mdrop\u001b[39m(\n\u001b[0;32m   5434\u001b[0m     \u001b[38;5;28mself\u001b[39m,\n\u001b[0;32m   5435\u001b[0m     labels: IndexLabel \u001b[38;5;241m|\u001b[39m \u001b[38;5;28;01mNone\u001b[39;00m \u001b[38;5;241m=\u001b[39m \u001b[38;5;28;01mNone\u001b[39;00m,\n\u001b[1;32m   (...)\u001b[0m\n\u001b[0;32m   5442\u001b[0m     errors: IgnoreRaise \u001b[38;5;241m=\u001b[39m \u001b[38;5;124m\"\u001b[39m\u001b[38;5;124mraise\u001b[39m\u001b[38;5;124m\"\u001b[39m,\n\u001b[0;32m   5443\u001b[0m ) \u001b[38;5;241m-\u001b[39m\u001b[38;5;241m>\u001b[39m DataFrame \u001b[38;5;241m|\u001b[39m \u001b[38;5;28;01mNone\u001b[39;00m:\n\u001b[0;32m   5444\u001b[0m \u001b[38;5;250m    \u001b[39m\u001b[38;5;124;03m\"\"\"\u001b[39;00m\n\u001b[0;32m   5445\u001b[0m \u001b[38;5;124;03m    Drop specified labels from rows or columns.\u001b[39;00m\n\u001b[0;32m   5446\u001b[0m \n\u001b[1;32m   (...)\u001b[0m\n\u001b[0;32m   5579\u001b[0m \u001b[38;5;124;03m            weight  1.0     0.8\u001b[39;00m\n\u001b[0;32m   5580\u001b[0m \u001b[38;5;124;03m    \"\"\"\u001b[39;00m\n\u001b[1;32m-> 5581\u001b[0m     \u001b[38;5;28;01mreturn\u001b[39;00m \u001b[38;5;28;43msuper\u001b[39;49m\u001b[43m(\u001b[49m\u001b[43m)\u001b[49m\u001b[38;5;241;43m.\u001b[39;49m\u001b[43mdrop\u001b[49m\u001b[43m(\u001b[49m\n\u001b[0;32m   5582\u001b[0m \u001b[43m        \u001b[49m\u001b[43mlabels\u001b[49m\u001b[38;5;241;43m=\u001b[39;49m\u001b[43mlabels\u001b[49m\u001b[43m,\u001b[49m\n\u001b[0;32m   5583\u001b[0m \u001b[43m        \u001b[49m\u001b[43maxis\u001b[49m\u001b[38;5;241;43m=\u001b[39;49m\u001b[43maxis\u001b[49m\u001b[43m,\u001b[49m\n\u001b[0;32m   5584\u001b[0m \u001b[43m        \u001b[49m\u001b[43mindex\u001b[49m\u001b[38;5;241;43m=\u001b[39;49m\u001b[43mindex\u001b[49m\u001b[43m,\u001b[49m\n\u001b[0;32m   5585\u001b[0m \u001b[43m        \u001b[49m\u001b[43mcolumns\u001b[49m\u001b[38;5;241;43m=\u001b[39;49m\u001b[43mcolumns\u001b[49m\u001b[43m,\u001b[49m\n\u001b[0;32m   5586\u001b[0m \u001b[43m        \u001b[49m\u001b[43mlevel\u001b[49m\u001b[38;5;241;43m=\u001b[39;49m\u001b[43mlevel\u001b[49m\u001b[43m,\u001b[49m\n\u001b[0;32m   5587\u001b[0m \u001b[43m        \u001b[49m\u001b[43minplace\u001b[49m\u001b[38;5;241;43m=\u001b[39;49m\u001b[43minplace\u001b[49m\u001b[43m,\u001b[49m\n\u001b[0;32m   5588\u001b[0m \u001b[43m        \u001b[49m\u001b[43merrors\u001b[49m\u001b[38;5;241;43m=\u001b[39;49m\u001b[43merrors\u001b[49m\u001b[43m,\u001b[49m\n\u001b[0;32m   5589\u001b[0m \u001b[43m    \u001b[49m\u001b[43m)\u001b[49m\n",
      "File \u001b[1;32mc:\\Users\\ayush\\Downloads\\student_resource 3\\.venv\\Lib\\site-packages\\pandas\\core\\generic.py:4788\u001b[0m, in \u001b[0;36mNDFrame.drop\u001b[1;34m(self, labels, axis, index, columns, level, inplace, errors)\u001b[0m\n\u001b[0;32m   4786\u001b[0m \u001b[38;5;28;01mfor\u001b[39;00m axis, labels \u001b[38;5;129;01min\u001b[39;00m axes\u001b[38;5;241m.\u001b[39mitems():\n\u001b[0;32m   4787\u001b[0m     \u001b[38;5;28;01mif\u001b[39;00m labels \u001b[38;5;129;01mis\u001b[39;00m \u001b[38;5;129;01mnot\u001b[39;00m \u001b[38;5;28;01mNone\u001b[39;00m:\n\u001b[1;32m-> 4788\u001b[0m         obj \u001b[38;5;241m=\u001b[39m \u001b[43mobj\u001b[49m\u001b[38;5;241;43m.\u001b[39;49m\u001b[43m_drop_axis\u001b[49m\u001b[43m(\u001b[49m\u001b[43mlabels\u001b[49m\u001b[43m,\u001b[49m\u001b[43m \u001b[49m\u001b[43maxis\u001b[49m\u001b[43m,\u001b[49m\u001b[43m \u001b[49m\u001b[43mlevel\u001b[49m\u001b[38;5;241;43m=\u001b[39;49m\u001b[43mlevel\u001b[49m\u001b[43m,\u001b[49m\u001b[43m \u001b[49m\u001b[43merrors\u001b[49m\u001b[38;5;241;43m=\u001b[39;49m\u001b[43merrors\u001b[49m\u001b[43m)\u001b[49m\n\u001b[0;32m   4790\u001b[0m \u001b[38;5;28;01mif\u001b[39;00m inplace:\n\u001b[0;32m   4791\u001b[0m     \u001b[38;5;28mself\u001b[39m\u001b[38;5;241m.\u001b[39m_update_inplace(obj)\n",
      "File \u001b[1;32mc:\\Users\\ayush\\Downloads\\student_resource 3\\.venv\\Lib\\site-packages\\pandas\\core\\generic.py:4830\u001b[0m, in \u001b[0;36mNDFrame._drop_axis\u001b[1;34m(self, labels, axis, level, errors, only_slice)\u001b[0m\n\u001b[0;32m   4828\u001b[0m         new_axis \u001b[38;5;241m=\u001b[39m axis\u001b[38;5;241m.\u001b[39mdrop(labels, level\u001b[38;5;241m=\u001b[39mlevel, errors\u001b[38;5;241m=\u001b[39merrors)\n\u001b[0;32m   4829\u001b[0m     \u001b[38;5;28;01melse\u001b[39;00m:\n\u001b[1;32m-> 4830\u001b[0m         new_axis \u001b[38;5;241m=\u001b[39m \u001b[43maxis\u001b[49m\u001b[38;5;241;43m.\u001b[39;49m\u001b[43mdrop\u001b[49m\u001b[43m(\u001b[49m\u001b[43mlabels\u001b[49m\u001b[43m,\u001b[49m\u001b[43m \u001b[49m\u001b[43merrors\u001b[49m\u001b[38;5;241;43m=\u001b[39;49m\u001b[43merrors\u001b[49m\u001b[43m)\u001b[49m\n\u001b[0;32m   4831\u001b[0m     indexer \u001b[38;5;241m=\u001b[39m axis\u001b[38;5;241m.\u001b[39mget_indexer(new_axis)\n\u001b[0;32m   4833\u001b[0m \u001b[38;5;66;03m# Case for non-unique axis\u001b[39;00m\n\u001b[0;32m   4834\u001b[0m \u001b[38;5;28;01melse\u001b[39;00m:\n",
      "File \u001b[1;32mc:\\Users\\ayush\\Downloads\\student_resource 3\\.venv\\Lib\\site-packages\\pandas\\core\\indexes\\base.py:7070\u001b[0m, in \u001b[0;36mIndex.drop\u001b[1;34m(self, labels, errors)\u001b[0m\n\u001b[0;32m   7068\u001b[0m \u001b[38;5;28;01mif\u001b[39;00m mask\u001b[38;5;241m.\u001b[39many():\n\u001b[0;32m   7069\u001b[0m     \u001b[38;5;28;01mif\u001b[39;00m errors \u001b[38;5;241m!=\u001b[39m \u001b[38;5;124m\"\u001b[39m\u001b[38;5;124mignore\u001b[39m\u001b[38;5;124m\"\u001b[39m:\n\u001b[1;32m-> 7070\u001b[0m         \u001b[38;5;28;01mraise\u001b[39;00m \u001b[38;5;167;01mKeyError\u001b[39;00m(\u001b[38;5;124mf\u001b[39m\u001b[38;5;124m\"\u001b[39m\u001b[38;5;132;01m{\u001b[39;00mlabels[mask]\u001b[38;5;241m.\u001b[39mtolist()\u001b[38;5;132;01m}\u001b[39;00m\u001b[38;5;124m not found in axis\u001b[39m\u001b[38;5;124m\"\u001b[39m)\n\u001b[0;32m   7071\u001b[0m     indexer \u001b[38;5;241m=\u001b[39m indexer[\u001b[38;5;241m~\u001b[39mmask]\n\u001b[0;32m   7072\u001b[0m \u001b[38;5;28;01mreturn\u001b[39;00m \u001b[38;5;28mself\u001b[39m\u001b[38;5;241m.\u001b[39mdelete(indexer)\n",
      "\u001b[1;31mKeyError\u001b[0m: \"['image_link', 'entity_name', 'group_id'] not found in axis\""
     ]
    }
   ],
   "source": []
  },
  {
   "cell_type": "code",
   "execution_count": null,
   "metadata": {},
   "outputs": [],
   "source": []
  },
  {
   "cell_type": "code",
   "execution_count": null,
   "metadata": {},
   "outputs": [],
   "source": []
  },
  {
   "cell_type": "code",
   "execution_count": null,
   "metadata": {},
   "outputs": [],
   "source": []
  },
  {
   "cell_type": "code",
   "execution_count": null,
   "metadata": {},
   "outputs": [],
   "source": []
  }
 ],
 "metadata": {
  "kernelspec": {
   "display_name": ".venv",
   "language": "python",
   "name": "python3"
  },
  "language_info": {
   "codemirror_mode": {
    "name": "ipython",
    "version": 3
   },
   "file_extension": ".py",
   "mimetype": "text/x-python",
   "name": "python",
   "nbconvert_exporter": "python",
   "pygments_lexer": "ipython3",
   "version": "3.12.6"
  }
 },
 "nbformat": 4,
 "nbformat_minor": 2
}
